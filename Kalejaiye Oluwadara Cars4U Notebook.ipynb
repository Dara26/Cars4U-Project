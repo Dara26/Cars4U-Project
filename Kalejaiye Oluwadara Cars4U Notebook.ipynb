{
 "cells": [
  {
   "cell_type": "markdown",
   "metadata": {
    "colab_type": "text",
    "id": "l9UVOxSmU_om"
   },
   "source": [
    "# Case Study: Predicting the prices of used cars using Linear Regression\n"
   ]
  },
  {
   "cell_type": "markdown",
   "metadata": {
    "colab_type": "text",
    "id": "ZX59mdQ7VlIK"
   },
   "source": [
    "## Context: \n",
    "    \n",
    "There is a huge demand for used cars in the Indian Market today. As sales of new cars have slowed down in the recent past, the pre-owned car market has continued to grow over the past years and is larger than the new car market now. Cars4U is a budding tech start-up that aims to find footholes in this market.\n",
    "\n",
    "In 2018-19, while new car sales were recorded at 3.6 million units, around 4 million second-hand cars were bought and sold. There is a slowdown in new car sales and that could mean that the demand is shifting towards the pre-owned market. In fact, some car sellers replace their old cars with pre-owned cars instead of buying new ones. Unlike new cars, where price and supply are fairly deterministic and managed by OEMs (Original Equipment Manufacturer / except for dealership level discounts which come into play only in the last stage of the customer journey), used cars are very different beasts with huge uncertainty in both pricing and supply. Keeping this in mind, the pricing scheme of these used cars becomes important in order to grow in the market.\n",
    "\n",
    "As a senior data scientist at Cars4U, you have to come up with a pricing model that can effectively predict the price of used cars and can help the business in devising profitable strategies using differential pricing. For example, if the business knows the market price, it will never sell anything below it. "
   ]
  },
  {
   "cell_type": "markdown",
   "metadata": {
    "colab_type": "text",
    "id": "JB1GE8JTWXUo"
   },
   "source": [
    "## Objective:\n",
    "\n",
    "**The dataset aims to answer the following key questions:**\n",
    "\n",
    "- Explore and visualize the dataset.\n",
    "- Build a linear regression model to predict the prices of used cars.\n",
    "- Generate a set of insights and recommendations that will help the business."
   ]
  },
  {
   "cell_type": "markdown",
   "metadata": {
    "id": "b3OLaXYDXGky"
   },
   "source": [
    "## Attribute Information:\n",
    "\n",
    "- S.No.: Serial Number\n",
    "- Name: Name of the car which includes Brand name and Model name\n",
    "- Location: The location in which the car is being sold or is available for purchase Cities\n",
    "- Year: Manufacturing year of the car\n",
    "- Kilometers_driven: The total kilometers driven in the car by the previous owner(s) in KM.\n",
    "- Fuel_Type: The type of fuel used by the car. (Petrol, Diesel, Electric, CNG, LPG)\n",
    "- Transmission: The type of transmission used by the car. (Automatic / Manual)\n",
    "- Owner: Type of ownership\n",
    "- Mileage: The standard mileage offered by the car company in kmpl or km/kg\n",
    "- Engine: The displacement volume of the engine in CC.\n",
    "- Power: The maximum power of the engine in bhp.\n",
    "- Seats: The number of seats in the car.\n",
    "- New_Price: The price of a new car of the same model in INR Lakhs.(1 Lakh = 100, 000)\n",
    "- Price: The price of the used car in INR Lakhs (1 Lakh = 100, 000)"
   ]
  },
  {
   "cell_type": "markdown",
   "metadata": {
    "id": "ztm8i-vTbbj8"
   },
   "source": [
    "# Let's start coding!"
   ]
  },
  {
   "cell_type": "code",
   "execution_count": 1,
   "metadata": {},
   "outputs": [
    {
     "data": {
      "application/javascript": [
       "\n",
       "            setTimeout(function() {\n",
       "                var nbb_cell_id = 1;\n",
       "                var nbb_unformatted_code = \"%load_ext nb_black\";\n",
       "                var nbb_formatted_code = \"%load_ext nb_black\";\n",
       "                var nbb_cells = Jupyter.notebook.get_cells();\n",
       "                for (var i = 0; i < nbb_cells.length; ++i) {\n",
       "                    if (nbb_cells[i].input_prompt_number == nbb_cell_id) {\n",
       "                        if (nbb_cells[i].get_text() == nbb_unformatted_code) {\n",
       "                             nbb_cells[i].set_text(nbb_formatted_code);\n",
       "                        }\n",
       "                        break;\n",
       "                    }\n",
       "                }\n",
       "            }, 500);\n",
       "            "
      ],
      "text/plain": [
       "<IPython.core.display.Javascript object>"
      ]
     },
     "metadata": {},
     "output_type": "display_data"
    }
   ],
   "source": [
    "%load_ext nb_black"
   ]
  },
  {
   "cell_type": "markdown",
   "metadata": {
    "id": "vAOm3WNEbeD7"
   },
   "source": [
    "### Import libraries"
   ]
  },
  {
   "cell_type": "code",
   "execution_count": 2,
   "metadata": {
    "id": "I1OMxQ78FIOG"
   },
   "outputs": [
    {
     "data": {
      "application/javascript": [
       "\n",
       "            setTimeout(function() {\n",
       "                var nbb_cell_id = 2;\n",
       "                var nbb_unformatted_code = \"# Import libraries.\\nimport warnings\\n\\nwarnings.filterwarnings(\\\"ignore\\\")\\n\\nimport numpy as np\\nimport pandas as pd\\nimport matplotlib.pyplot as plt\\nimport seaborn as sns\\nimport statsmodels.api as sm\\n\\n# Removes the limit for the number of displayed columns\\npd.set_option(\\\"display.max_columns\\\", None)\\n# Sets the limit for the number of displayed rows\\npd.set_option(\\\"display.max_rows\\\", 200)\\n\\n# To plot graphs\\n%matplotlib inline\\n\\n# To build linear regression_model\\nfrom sklearn.linear_model import LinearRegression\\n\\n# To check model performance\\nfrom sklearn.metrics import mean_absolute_error, mean_squared_error, r2_score\";\n",
       "                var nbb_formatted_code = \"# Import libraries.\\nimport warnings\\n\\nwarnings.filterwarnings(\\\"ignore\\\")\\n\\nimport numpy as np\\nimport pandas as pd\\nimport matplotlib.pyplot as plt\\nimport seaborn as sns\\nimport statsmodels.api as sm\\n\\n# Removes the limit for the number of displayed columns\\npd.set_option(\\\"display.max_columns\\\", None)\\n# Sets the limit for the number of displayed rows\\npd.set_option(\\\"display.max_rows\\\", 200)\\n\\n# To plot graphs\\n%matplotlib inline\\n\\n# To build linear regression_model\\nfrom sklearn.linear_model import LinearRegression\\n\\n# To check model performance\\nfrom sklearn.metrics import mean_absolute_error, mean_squared_error, r2_score\";\n",
       "                var nbb_cells = Jupyter.notebook.get_cells();\n",
       "                for (var i = 0; i < nbb_cells.length; ++i) {\n",
       "                    if (nbb_cells[i].input_prompt_number == nbb_cell_id) {\n",
       "                        if (nbb_cells[i].get_text() == nbb_unformatted_code) {\n",
       "                             nbb_cells[i].set_text(nbb_formatted_code);\n",
       "                        }\n",
       "                        break;\n",
       "                    }\n",
       "                }\n",
       "            }, 500);\n",
       "            "
      ],
      "text/plain": [
       "<IPython.core.display.Javascript object>"
      ]
     },
     "metadata": {},
     "output_type": "display_data"
    }
   ],
   "source": [
    "# Import libraries.\n",
    "import warnings\n",
    "\n",
    "warnings.filterwarnings(\"ignore\")\n",
    "\n",
    "import numpy as np\n",
    "import pandas as pd\n",
    "import matplotlib.pyplot as plt\n",
    "import seaborn as sns\n",
    "import statsmodels.api as sm\n",
    "\n",
    "# Removes the limit for the number of displayed columns\n",
    "pd.set_option(\"display.max_columns\", None)\n",
    "# Sets the limit for the number of displayed rows\n",
    "pd.set_option(\"display.max_rows\", 200)\n",
    "\n",
    "# To plot graphs\n",
    "%matplotlib inline\n",
    "\n",
    "# To build linear regression_model\n",
    "from sklearn.linear_model import LinearRegression\n",
    "\n",
    "# To check model performance\n",
    "from sklearn.metrics import mean_absolute_error, mean_squared_error, r2_score"
   ]
  },
  {
   "cell_type": "markdown",
   "metadata": {
    "id": "izYYUqAlbiuz"
   },
   "source": [
    "### Load and explore the data"
   ]
  },
  {
   "cell_type": "code",
   "execution_count": 3,
   "metadata": {
    "id": "s1w7UuCkFTtD"
   },
   "outputs": [
    {
     "data": {
      "application/javascript": [
       "\n",
       "            setTimeout(function() {\n",
       "                var nbb_cell_id = 3;\n",
       "                var nbb_unformatted_code = \"# Load the data into pandas dataframe\\ndata = pd.read_csv(\\\"used_cars_data.csv\\\")\";\n",
       "                var nbb_formatted_code = \"# Load the data into pandas dataframe\\ndata = pd.read_csv(\\\"used_cars_data.csv\\\")\";\n",
       "                var nbb_cells = Jupyter.notebook.get_cells();\n",
       "                for (var i = 0; i < nbb_cells.length; ++i) {\n",
       "                    if (nbb_cells[i].input_prompt_number == nbb_cell_id) {\n",
       "                        if (nbb_cells[i].get_text() == nbb_unformatted_code) {\n",
       "                             nbb_cells[i].set_text(nbb_formatted_code);\n",
       "                        }\n",
       "                        break;\n",
       "                    }\n",
       "                }\n",
       "            }, 500);\n",
       "            "
      ],
      "text/plain": [
       "<IPython.core.display.Javascript object>"
      ]
     },
     "metadata": {},
     "output_type": "display_data"
    }
   ],
   "source": [
    "# Load the data into pandas dataframe\n",
    "data = pd.read_csv(\"used_cars_data.csv\")"
   ]
  },
  {
   "cell_type": "markdown",
   "metadata": {
    "id": "27wJaX1Cbnn7"
   },
   "source": [
    "# <a id='link1'>Overview of the data</a>"
   ]
  },
  {
   "cell_type": "code",
   "execution_count": 4,
   "metadata": {
    "colab": {
     "base_uri": "https://localhost:8080/",
     "height": 275
    },
    "id": "eTZBaF-mFYo3",
    "outputId": "0d499e61-bd4d-4beb-f873-942148e5671c"
   },
   "outputs": [
    {
     "data": {
      "text/html": [
       "<div>\n",
       "<style scoped>\n",
       "    .dataframe tbody tr th:only-of-type {\n",
       "        vertical-align: middle;\n",
       "    }\n",
       "\n",
       "    .dataframe tbody tr th {\n",
       "        vertical-align: top;\n",
       "    }\n",
       "\n",
       "    .dataframe thead th {\n",
       "        text-align: right;\n",
       "    }\n",
       "</style>\n",
       "<table border=\"1\" class=\"dataframe\">\n",
       "  <thead>\n",
       "    <tr style=\"text-align: right;\">\n",
       "      <th></th>\n",
       "      <th>S.No.</th>\n",
       "      <th>Name</th>\n",
       "      <th>Location</th>\n",
       "      <th>Year</th>\n",
       "      <th>Kilometers_Driven</th>\n",
       "      <th>Fuel_Type</th>\n",
       "      <th>Transmission</th>\n",
       "      <th>Owner_Type</th>\n",
       "      <th>Mileage</th>\n",
       "      <th>Engine</th>\n",
       "      <th>Power</th>\n",
       "      <th>Seats</th>\n",
       "      <th>New_Price</th>\n",
       "      <th>Price</th>\n",
       "    </tr>\n",
       "  </thead>\n",
       "  <tbody>\n",
       "    <tr>\n",
       "      <th>0</th>\n",
       "      <td>0</td>\n",
       "      <td>Maruti Wagon R LXI CNG</td>\n",
       "      <td>Mumbai</td>\n",
       "      <td>2010</td>\n",
       "      <td>72000</td>\n",
       "      <td>CNG</td>\n",
       "      <td>Manual</td>\n",
       "      <td>First</td>\n",
       "      <td>26.6 km/kg</td>\n",
       "      <td>998 CC</td>\n",
       "      <td>58.16 bhp</td>\n",
       "      <td>5.0</td>\n",
       "      <td>NaN</td>\n",
       "      <td>1.75</td>\n",
       "    </tr>\n",
       "    <tr>\n",
       "      <th>1</th>\n",
       "      <td>1</td>\n",
       "      <td>Hyundai Creta 1.6 CRDi SX Option</td>\n",
       "      <td>Pune</td>\n",
       "      <td>2015</td>\n",
       "      <td>41000</td>\n",
       "      <td>Diesel</td>\n",
       "      <td>Manual</td>\n",
       "      <td>First</td>\n",
       "      <td>19.67 kmpl</td>\n",
       "      <td>1582 CC</td>\n",
       "      <td>126.2 bhp</td>\n",
       "      <td>5.0</td>\n",
       "      <td>NaN</td>\n",
       "      <td>12.50</td>\n",
       "    </tr>\n",
       "    <tr>\n",
       "      <th>2</th>\n",
       "      <td>2</td>\n",
       "      <td>Honda Jazz V</td>\n",
       "      <td>Chennai</td>\n",
       "      <td>2011</td>\n",
       "      <td>46000</td>\n",
       "      <td>Petrol</td>\n",
       "      <td>Manual</td>\n",
       "      <td>First</td>\n",
       "      <td>18.2 kmpl</td>\n",
       "      <td>1199 CC</td>\n",
       "      <td>88.7 bhp</td>\n",
       "      <td>5.0</td>\n",
       "      <td>8.61 Lakh</td>\n",
       "      <td>4.50</td>\n",
       "    </tr>\n",
       "    <tr>\n",
       "      <th>3</th>\n",
       "      <td>3</td>\n",
       "      <td>Maruti Ertiga VDI</td>\n",
       "      <td>Chennai</td>\n",
       "      <td>2012</td>\n",
       "      <td>87000</td>\n",
       "      <td>Diesel</td>\n",
       "      <td>Manual</td>\n",
       "      <td>First</td>\n",
       "      <td>20.77 kmpl</td>\n",
       "      <td>1248 CC</td>\n",
       "      <td>88.76 bhp</td>\n",
       "      <td>7.0</td>\n",
       "      <td>NaN</td>\n",
       "      <td>6.00</td>\n",
       "    </tr>\n",
       "    <tr>\n",
       "      <th>4</th>\n",
       "      <td>4</td>\n",
       "      <td>Audi A4 New 2.0 TDI Multitronic</td>\n",
       "      <td>Coimbatore</td>\n",
       "      <td>2013</td>\n",
       "      <td>40670</td>\n",
       "      <td>Diesel</td>\n",
       "      <td>Automatic</td>\n",
       "      <td>Second</td>\n",
       "      <td>15.2 kmpl</td>\n",
       "      <td>1968 CC</td>\n",
       "      <td>140.8 bhp</td>\n",
       "      <td>5.0</td>\n",
       "      <td>NaN</td>\n",
       "      <td>17.74</td>\n",
       "    </tr>\n",
       "  </tbody>\n",
       "</table>\n",
       "</div>"
      ],
      "text/plain": [
       "   S.No.                              Name    Location  Year  \\\n",
       "0      0            Maruti Wagon R LXI CNG      Mumbai  2010   \n",
       "1      1  Hyundai Creta 1.6 CRDi SX Option        Pune  2015   \n",
       "2      2                      Honda Jazz V     Chennai  2011   \n",
       "3      3                 Maruti Ertiga VDI     Chennai  2012   \n",
       "4      4   Audi A4 New 2.0 TDI Multitronic  Coimbatore  2013   \n",
       "\n",
       "   Kilometers_Driven Fuel_Type Transmission Owner_Type     Mileage   Engine  \\\n",
       "0              72000       CNG       Manual      First  26.6 km/kg   998 CC   \n",
       "1              41000    Diesel       Manual      First  19.67 kmpl  1582 CC   \n",
       "2              46000    Petrol       Manual      First   18.2 kmpl  1199 CC   \n",
       "3              87000    Diesel       Manual      First  20.77 kmpl  1248 CC   \n",
       "4              40670    Diesel    Automatic     Second   15.2 kmpl  1968 CC   \n",
       "\n",
       "       Power  Seats  New_Price  Price  \n",
       "0  58.16 bhp    5.0        NaN   1.75  \n",
       "1  126.2 bhp    5.0        NaN  12.50  \n",
       "2   88.7 bhp    5.0  8.61 Lakh   4.50  \n",
       "3  88.76 bhp    7.0        NaN   6.00  \n",
       "4  140.8 bhp    5.0        NaN  17.74  "
      ]
     },
     "execution_count": 4,
     "metadata": {},
     "output_type": "execute_result"
    },
    {
     "data": {
      "application/javascript": [
       "\n",
       "            setTimeout(function() {\n",
       "                var nbb_cell_id = 4;\n",
       "                var nbb_unformatted_code = \"# Make another copy of data\\ndf = data.copy()\\ndf.head()\";\n",
       "                var nbb_formatted_code = \"# Make another copy of data\\ndf = data.copy()\\ndf.head()\";\n",
       "                var nbb_cells = Jupyter.notebook.get_cells();\n",
       "                for (var i = 0; i < nbb_cells.length; ++i) {\n",
       "                    if (nbb_cells[i].input_prompt_number == nbb_cell_id) {\n",
       "                        if (nbb_cells[i].get_text() == nbb_unformatted_code) {\n",
       "                             nbb_cells[i].set_text(nbb_formatted_code);\n",
       "                        }\n",
       "                        break;\n",
       "                    }\n",
       "                }\n",
       "            }, 500);\n",
       "            "
      ],
      "text/plain": [
       "<IPython.core.display.Javascript object>"
      ]
     },
     "metadata": {},
     "output_type": "display_data"
    }
   ],
   "source": [
    "# Make another copy of data\n",
    "df = data.copy()\n",
    "df.head()"
   ]
  },
  {
   "cell_type": "code",
   "execution_count": 5,
   "metadata": {},
   "outputs": [
    {
     "data": {
      "text/html": [
       "<div>\n",
       "<style scoped>\n",
       "    .dataframe tbody tr th:only-of-type {\n",
       "        vertical-align: middle;\n",
       "    }\n",
       "\n",
       "    .dataframe tbody tr th {\n",
       "        vertical-align: top;\n",
       "    }\n",
       "\n",
       "    .dataframe thead th {\n",
       "        text-align: right;\n",
       "    }\n",
       "</style>\n",
       "<table border=\"1\" class=\"dataframe\">\n",
       "  <thead>\n",
       "    <tr style=\"text-align: right;\">\n",
       "      <th></th>\n",
       "      <th>S.No.</th>\n",
       "      <th>Name</th>\n",
       "      <th>Location</th>\n",
       "      <th>Year</th>\n",
       "      <th>Kilometers_Driven</th>\n",
       "      <th>Fuel_Type</th>\n",
       "      <th>Transmission</th>\n",
       "      <th>Owner_Type</th>\n",
       "      <th>Mileage</th>\n",
       "      <th>Engine</th>\n",
       "      <th>Power</th>\n",
       "      <th>Seats</th>\n",
       "      <th>New_Price</th>\n",
       "      <th>Price</th>\n",
       "    </tr>\n",
       "  </thead>\n",
       "  <tbody>\n",
       "    <tr>\n",
       "      <th>4584</th>\n",
       "      <td>4584</td>\n",
       "      <td>Tata Tigor 1.05 Revotorq XT</td>\n",
       "      <td>Kochi</td>\n",
       "      <td>2018</td>\n",
       "      <td>28973</td>\n",
       "      <td>Diesel</td>\n",
       "      <td>Manual</td>\n",
       "      <td>First</td>\n",
       "      <td>24.7 kmpl</td>\n",
       "      <td>1047 CC</td>\n",
       "      <td>69 bhp</td>\n",
       "      <td>5.0</td>\n",
       "      <td>NaN</td>\n",
       "      <td>6.64</td>\n",
       "    </tr>\n",
       "    <tr>\n",
       "      <th>6505</th>\n",
       "      <td>6505</td>\n",
       "      <td>Volkswagen Vento Diesel Highline</td>\n",
       "      <td>Chennai</td>\n",
       "      <td>2011</td>\n",
       "      <td>76041</td>\n",
       "      <td>Diesel</td>\n",
       "      <td>Manual</td>\n",
       "      <td>First</td>\n",
       "      <td>20.54 kmpl</td>\n",
       "      <td>1598 CC</td>\n",
       "      <td>103.6 bhp</td>\n",
       "      <td>5.0</td>\n",
       "      <td>NaN</td>\n",
       "      <td>NaN</td>\n",
       "    </tr>\n",
       "    <tr>\n",
       "      <th>3675</th>\n",
       "      <td>3675</td>\n",
       "      <td>Maruti Swift VDI</td>\n",
       "      <td>Ahmedabad</td>\n",
       "      <td>2012</td>\n",
       "      <td>65000</td>\n",
       "      <td>Diesel</td>\n",
       "      <td>Manual</td>\n",
       "      <td>First</td>\n",
       "      <td>22.9 kmpl</td>\n",
       "      <td>1248 CC</td>\n",
       "      <td>74 bhp</td>\n",
       "      <td>5.0</td>\n",
       "      <td>NaN</td>\n",
       "      <td>3.90</td>\n",
       "    </tr>\n",
       "    <tr>\n",
       "      <th>5654</th>\n",
       "      <td>5654</td>\n",
       "      <td>Hyundai i20 Magna Optional 1.2</td>\n",
       "      <td>Kochi</td>\n",
       "      <td>2014</td>\n",
       "      <td>42315</td>\n",
       "      <td>Petrol</td>\n",
       "      <td>Manual</td>\n",
       "      <td>First</td>\n",
       "      <td>18.5 kmpl</td>\n",
       "      <td>1197 CC</td>\n",
       "      <td>82.9 bhp</td>\n",
       "      <td>5.0</td>\n",
       "      <td>NaN</td>\n",
       "      <td>4.79</td>\n",
       "    </tr>\n",
       "    <tr>\n",
       "      <th>4297</th>\n",
       "      <td>4297</td>\n",
       "      <td>Toyota Camry 2.5 G</td>\n",
       "      <td>Mumbai</td>\n",
       "      <td>2014</td>\n",
       "      <td>68400</td>\n",
       "      <td>Petrol</td>\n",
       "      <td>Automatic</td>\n",
       "      <td>First</td>\n",
       "      <td>12.98 kmpl</td>\n",
       "      <td>2494 CC</td>\n",
       "      <td>178.4 bhp</td>\n",
       "      <td>5.0</td>\n",
       "      <td>NaN</td>\n",
       "      <td>13.50</td>\n",
       "    </tr>\n",
       "    <tr>\n",
       "      <th>2603</th>\n",
       "      <td>2603</td>\n",
       "      <td>Mercedes-Benz New C-Class 220 CDI AT</td>\n",
       "      <td>Jaipur</td>\n",
       "      <td>2010</td>\n",
       "      <td>74213</td>\n",
       "      <td>Diesel</td>\n",
       "      <td>Automatic</td>\n",
       "      <td>First</td>\n",
       "      <td>14.84 kmpl</td>\n",
       "      <td>2143 CC</td>\n",
       "      <td>170 bhp</td>\n",
       "      <td>5.0</td>\n",
       "      <td>NaN</td>\n",
       "      <td>11.50</td>\n",
       "    </tr>\n",
       "    <tr>\n",
       "      <th>4337</th>\n",
       "      <td>4337</td>\n",
       "      <td>Volkswagen Vento Petrol Highline AT</td>\n",
       "      <td>Kochi</td>\n",
       "      <td>2014</td>\n",
       "      <td>32283</td>\n",
       "      <td>Petrol</td>\n",
       "      <td>Automatic</td>\n",
       "      <td>Second</td>\n",
       "      <td>14.4 kmpl</td>\n",
       "      <td>1598 CC</td>\n",
       "      <td>103.6 bhp</td>\n",
       "      <td>5.0</td>\n",
       "      <td>NaN</td>\n",
       "      <td>5.41</td>\n",
       "    </tr>\n",
       "    <tr>\n",
       "      <th>6625</th>\n",
       "      <td>6625</td>\n",
       "      <td>Maruti Swift VDI BSIV</td>\n",
       "      <td>Kolkata</td>\n",
       "      <td>2012</td>\n",
       "      <td>72000</td>\n",
       "      <td>Diesel</td>\n",
       "      <td>Manual</td>\n",
       "      <td>First</td>\n",
       "      <td>17.8 kmpl</td>\n",
       "      <td>1248 CC</td>\n",
       "      <td>null bhp</td>\n",
       "      <td>5.0</td>\n",
       "      <td>NaN</td>\n",
       "      <td>NaN</td>\n",
       "    </tr>\n",
       "    <tr>\n",
       "      <th>2846</th>\n",
       "      <td>2846</td>\n",
       "      <td>Skoda Superb Elegance 1.8 TSI AT</td>\n",
       "      <td>Kochi</td>\n",
       "      <td>2011</td>\n",
       "      <td>73783</td>\n",
       "      <td>Petrol</td>\n",
       "      <td>Automatic</td>\n",
       "      <td>Second</td>\n",
       "      <td>13.7 kmpl</td>\n",
       "      <td>1798 CC</td>\n",
       "      <td>157.75 bhp</td>\n",
       "      <td>5.0</td>\n",
       "      <td>NaN</td>\n",
       "      <td>5.23</td>\n",
       "    </tr>\n",
       "    <tr>\n",
       "      <th>1237</th>\n",
       "      <td>1237</td>\n",
       "      <td>Audi Q3 2.0 TDI Quattro</td>\n",
       "      <td>Hyderabad</td>\n",
       "      <td>2013</td>\n",
       "      <td>60000</td>\n",
       "      <td>Diesel</td>\n",
       "      <td>Automatic</td>\n",
       "      <td>First</td>\n",
       "      <td>17.32 kmpl</td>\n",
       "      <td>1968 CC</td>\n",
       "      <td>184 bhp</td>\n",
       "      <td>5.0</td>\n",
       "      <td>NaN</td>\n",
       "      <td>21.00</td>\n",
       "    </tr>\n",
       "  </tbody>\n",
       "</table>\n",
       "</div>"
      ],
      "text/plain": [
       "      S.No.                                  Name   Location  Year  \\\n",
       "4584   4584           Tata Tigor 1.05 Revotorq XT      Kochi  2018   \n",
       "6505   6505      Volkswagen Vento Diesel Highline    Chennai  2011   \n",
       "3675   3675                      Maruti Swift VDI  Ahmedabad  2012   \n",
       "5654   5654        Hyundai i20 Magna Optional 1.2      Kochi  2014   \n",
       "4297   4297                    Toyota Camry 2.5 G     Mumbai  2014   \n",
       "2603   2603  Mercedes-Benz New C-Class 220 CDI AT     Jaipur  2010   \n",
       "4337   4337   Volkswagen Vento Petrol Highline AT      Kochi  2014   \n",
       "6625   6625                 Maruti Swift VDI BSIV    Kolkata  2012   \n",
       "2846   2846      Skoda Superb Elegance 1.8 TSI AT      Kochi  2011   \n",
       "1237   1237               Audi Q3 2.0 TDI Quattro  Hyderabad  2013   \n",
       "\n",
       "      Kilometers_Driven Fuel_Type Transmission Owner_Type     Mileage  \\\n",
       "4584              28973    Diesel       Manual      First   24.7 kmpl   \n",
       "6505              76041    Diesel       Manual      First  20.54 kmpl   \n",
       "3675              65000    Diesel       Manual      First   22.9 kmpl   \n",
       "5654              42315    Petrol       Manual      First   18.5 kmpl   \n",
       "4297              68400    Petrol    Automatic      First  12.98 kmpl   \n",
       "2603              74213    Diesel    Automatic      First  14.84 kmpl   \n",
       "4337              32283    Petrol    Automatic     Second   14.4 kmpl   \n",
       "6625              72000    Diesel       Manual      First   17.8 kmpl   \n",
       "2846              73783    Petrol    Automatic     Second   13.7 kmpl   \n",
       "1237              60000    Diesel    Automatic      First  17.32 kmpl   \n",
       "\n",
       "       Engine       Power  Seats New_Price  Price  \n",
       "4584  1047 CC      69 bhp    5.0       NaN   6.64  \n",
       "6505  1598 CC   103.6 bhp    5.0       NaN    NaN  \n",
       "3675  1248 CC      74 bhp    5.0       NaN   3.90  \n",
       "5654  1197 CC    82.9 bhp    5.0       NaN   4.79  \n",
       "4297  2494 CC   178.4 bhp    5.0       NaN  13.50  \n",
       "2603  2143 CC     170 bhp    5.0       NaN  11.50  \n",
       "4337  1598 CC   103.6 bhp    5.0       NaN   5.41  \n",
       "6625  1248 CC    null bhp    5.0       NaN    NaN  \n",
       "2846  1798 CC  157.75 bhp    5.0       NaN   5.23  \n",
       "1237  1968 CC     184 bhp    5.0       NaN  21.00  "
      ]
     },
     "execution_count": 5,
     "metadata": {},
     "output_type": "execute_result"
    },
    {
     "data": {
      "application/javascript": [
       "\n",
       "            setTimeout(function() {\n",
       "                var nbb_cell_id = 5;\n",
       "                var nbb_unformatted_code = \"# view random sample of data\\nnp.random.seed(2)\\ndf.sample(n=10)\";\n",
       "                var nbb_formatted_code = \"# view random sample of data\\nnp.random.seed(2)\\ndf.sample(n=10)\";\n",
       "                var nbb_cells = Jupyter.notebook.get_cells();\n",
       "                for (var i = 0; i < nbb_cells.length; ++i) {\n",
       "                    if (nbb_cells[i].input_prompt_number == nbb_cell_id) {\n",
       "                        if (nbb_cells[i].get_text() == nbb_unformatted_code) {\n",
       "                             nbb_cells[i].set_text(nbb_formatted_code);\n",
       "                        }\n",
       "                        break;\n",
       "                    }\n",
       "                }\n",
       "            }, 500);\n",
       "            "
      ],
      "text/plain": [
       "<IPython.core.display.Javascript object>"
      ]
     },
     "metadata": {},
     "output_type": "display_data"
    }
   ],
   "source": [
    "# view random sample of data\n",
    "np.random.seed(2)\n",
    "df.sample(n=10)"
   ]
  },
  {
   "cell_type": "markdown",
   "metadata": {},
   "source": [
    "**Observations**\n",
    "* It seems reasonable to drop the *S.No.* column as it won't be contributing much to our analysis.\n",
    "* *Mileage*, *Engine* and *Power* have different units of measurement.\n",
    "* The *New_Price* column seems to have a lot of NaN values."
   ]
  },
  {
   "cell_type": "code",
   "execution_count": 6,
   "metadata": {},
   "outputs": [
    {
     "data": {
      "text/plain": [
       "(7253, 14)"
      ]
     },
     "execution_count": 6,
     "metadata": {},
     "output_type": "execute_result"
    },
    {
     "data": {
      "application/javascript": [
       "\n",
       "            setTimeout(function() {\n",
       "                var nbb_cell_id = 6;\n",
       "                var nbb_unformatted_code = \"# check number of rows and columns\\ndf.shape\";\n",
       "                var nbb_formatted_code = \"# check number of rows and columns\\ndf.shape\";\n",
       "                var nbb_cells = Jupyter.notebook.get_cells();\n",
       "                for (var i = 0; i < nbb_cells.length; ++i) {\n",
       "                    if (nbb_cells[i].input_prompt_number == nbb_cell_id) {\n",
       "                        if (nbb_cells[i].get_text() == nbb_unformatted_code) {\n",
       "                             nbb_cells[i].set_text(nbb_formatted_code);\n",
       "                        }\n",
       "                        break;\n",
       "                    }\n",
       "                }\n",
       "            }, 500);\n",
       "            "
      ],
      "text/plain": [
       "<IPython.core.display.Javascript object>"
      ]
     },
     "metadata": {},
     "output_type": "display_data"
    }
   ],
   "source": [
    "# check number of rows and columns\n",
    "df.shape"
   ]
  },
  {
   "cell_type": "code",
   "execution_count": 7,
   "metadata": {},
   "outputs": [
    {
     "data": {
      "text/plain": [
       "Index(['S.No.', 'Name', 'Location', 'Year', 'Kilometers_Driven', 'Fuel_Type',\n",
       "       'Transmission', 'Owner_Type', 'Mileage', 'Engine', 'Power', 'Seats',\n",
       "       'New_Price', 'Price'],\n",
       "      dtype='object')"
      ]
     },
     "execution_count": 7,
     "metadata": {},
     "output_type": "execute_result"
    },
    {
     "data": {
      "application/javascript": [
       "\n",
       "            setTimeout(function() {\n",
       "                var nbb_cell_id = 7;\n",
       "                var nbb_unformatted_code = \"# let's take a look at the column names\\ndf.columns\";\n",
       "                var nbb_formatted_code = \"# let's take a look at the column names\\ndf.columns\";\n",
       "                var nbb_cells = Jupyter.notebook.get_cells();\n",
       "                for (var i = 0; i < nbb_cells.length; ++i) {\n",
       "                    if (nbb_cells[i].input_prompt_number == nbb_cell_id) {\n",
       "                        if (nbb_cells[i].get_text() == nbb_unformatted_code) {\n",
       "                             nbb_cells[i].set_text(nbb_formatted_code);\n",
       "                        }\n",
       "                        break;\n",
       "                    }\n",
       "                }\n",
       "            }, 500);\n",
       "            "
      ],
      "text/plain": [
       "<IPython.core.display.Javascript object>"
      ]
     },
     "metadata": {},
     "output_type": "display_data"
    }
   ],
   "source": [
    "# let's take a look at the column names\n",
    "df.columns"
   ]
  },
  {
   "cell_type": "code",
   "execution_count": 8,
   "metadata": {},
   "outputs": [
    {
     "data": {
      "text/plain": [
       "S.No.                7253\n",
       "Name                 2041\n",
       "Location               11\n",
       "Year                   23\n",
       "Kilometers_Driven    3660\n",
       "Fuel_Type               5\n",
       "Transmission            2\n",
       "Owner_Type              4\n",
       "Mileage               450\n",
       "Engine                150\n",
       "Power                 386\n",
       "Seats                   9\n",
       "New_Price             625\n",
       "Price                1373\n",
       "dtype: int64"
      ]
     },
     "execution_count": 8,
     "metadata": {},
     "output_type": "execute_result"
    },
    {
     "data": {
      "application/javascript": [
       "\n",
       "            setTimeout(function() {\n",
       "                var nbb_cell_id = 8;\n",
       "                var nbb_unformatted_code = \"# check the number of unique values in each column of the dataframe\\ndf.nunique()\";\n",
       "                var nbb_formatted_code = \"# check the number of unique values in each column of the dataframe\\ndf.nunique()\";\n",
       "                var nbb_cells = Jupyter.notebook.get_cells();\n",
       "                for (var i = 0; i < nbb_cells.length; ++i) {\n",
       "                    if (nbb_cells[i].input_prompt_number == nbb_cell_id) {\n",
       "                        if (nbb_cells[i].get_text() == nbb_unformatted_code) {\n",
       "                             nbb_cells[i].set_text(nbb_formatted_code);\n",
       "                        }\n",
       "                        break;\n",
       "                    }\n",
       "                }\n",
       "            }, 500);\n",
       "            "
      ],
      "text/plain": [
       "<IPython.core.display.Javascript object>"
      ]
     },
     "metadata": {},
     "output_type": "display_data"
    }
   ],
   "source": [
    "# check the number of unique values in each column of the dataframe\n",
    "df.nunique()"
   ]
  },
  {
   "cell_type": "code",
   "execution_count": 9,
   "metadata": {
    "colab": {
     "base_uri": "https://localhost:8080/",
     "height": 510
    },
    "id": "SCmj9LyLFZ_W",
    "outputId": "66e81519-c35f-4509-f9f2-4844ed3fad32"
   },
   "outputs": [
    {
     "name": "stdout",
     "output_type": "stream",
     "text": [
      "<class 'pandas.core.frame.DataFrame'>\n",
      "RangeIndex: 7253 entries, 0 to 7252\n",
      "Data columns (total 14 columns):\n",
      " #   Column             Non-Null Count  Dtype  \n",
      "---  ------             --------------  -----  \n",
      " 0   S.No.              7253 non-null   int64  \n",
      " 1   Name               7253 non-null   object \n",
      " 2   Location           7253 non-null   object \n",
      " 3   Year               7253 non-null   int64  \n",
      " 4   Kilometers_Driven  7253 non-null   int64  \n",
      " 5   Fuel_Type          7253 non-null   object \n",
      " 6   Transmission       7253 non-null   object \n",
      " 7   Owner_Type         7253 non-null   object \n",
      " 8   Mileage            7251 non-null   object \n",
      " 9   Engine             7207 non-null   object \n",
      " 10  Power              7207 non-null   object \n",
      " 11  Seats              7200 non-null   float64\n",
      " 12  New_Price          1006 non-null   object \n",
      " 13  Price              6019 non-null   float64\n",
      "dtypes: float64(2), int64(3), object(9)\n",
      "memory usage: 793.4+ KB\n"
     ]
    },
    {
     "data": {
      "application/javascript": [
       "\n",
       "            setTimeout(function() {\n",
       "                var nbb_cell_id = 9;\n",
       "                var nbb_unformatted_code = \"# check column types and number of values\\ndf.info()\";\n",
       "                var nbb_formatted_code = \"# check column types and number of values\\ndf.info()\";\n",
       "                var nbb_cells = Jupyter.notebook.get_cells();\n",
       "                for (var i = 0; i < nbb_cells.length; ++i) {\n",
       "                    if (nbb_cells[i].input_prompt_number == nbb_cell_id) {\n",
       "                        if (nbb_cells[i].get_text() == nbb_unformatted_code) {\n",
       "                             nbb_cells[i].set_text(nbb_formatted_code);\n",
       "                        }\n",
       "                        break;\n",
       "                    }\n",
       "                }\n",
       "            }, 500);\n",
       "            "
      ],
      "text/plain": [
       "<IPython.core.display.Javascript object>"
      ]
     },
     "metadata": {},
     "output_type": "display_data"
    }
   ],
   "source": [
    "# check column types and number of values\n",
    "df.info()"
   ]
  },
  {
   "cell_type": "markdown",
   "metadata": {
    "id": "TDCZ8MXCqHz0"
   },
   "source": [
    "**Observations**\n",
    "* There are 7253 rows and 14 columns.\n",
    "* *Mileage*, *Engine* and *Power* need to be preprocessed and converted to numerical data.\n",
    "* *Fuel_Type*, *Transmission* and *Owner_Type* should be converted to category\n",
    "* *Seats* might require further analysis\n",
    "* Dependent variable is *Price*."
   ]
  },
  {
   "cell_type": "markdown",
   "metadata": {},
   "source": [
    "### Checking for missing values"
   ]
  },
  {
   "cell_type": "code",
   "execution_count": 10,
   "metadata": {},
   "outputs": [
    {
     "data": {
      "text/plain": [
       "S.No.                   0\n",
       "Name                    0\n",
       "Location                0\n",
       "Year                    0\n",
       "Kilometers_Driven       0\n",
       "Fuel_Type               0\n",
       "Transmission            0\n",
       "Owner_Type              0\n",
       "Mileage                 2\n",
       "Engine                 46\n",
       "Power                  46\n",
       "Seats                  53\n",
       "New_Price            6247\n",
       "Price                1234\n",
       "dtype: int64"
      ]
     },
     "execution_count": 10,
     "metadata": {},
     "output_type": "execute_result"
    },
    {
     "data": {
      "application/javascript": [
       "\n",
       "            setTimeout(function() {\n",
       "                var nbb_cell_id = 10;\n",
       "                var nbb_unformatted_code = \"df.isnull().sum()\";\n",
       "                var nbb_formatted_code = \"df.isnull().sum()\";\n",
       "                var nbb_cells = Jupyter.notebook.get_cells();\n",
       "                for (var i = 0; i < nbb_cells.length; ++i) {\n",
       "                    if (nbb_cells[i].input_prompt_number == nbb_cell_id) {\n",
       "                        if (nbb_cells[i].get_text() == nbb_unformatted_code) {\n",
       "                             nbb_cells[i].set_text(nbb_formatted_code);\n",
       "                        }\n",
       "                        break;\n",
       "                    }\n",
       "                }\n",
       "            }, 500);\n",
       "            "
      ],
      "text/plain": [
       "<IPython.core.display.Javascript object>"
      ]
     },
     "metadata": {},
     "output_type": "display_data"
    }
   ],
   "source": [
    "df.isnull().sum()"
   ]
  },
  {
   "cell_type": "markdown",
   "metadata": {},
   "source": [
    "**Observation**\n",
    "* Missing values in *Mileage*, *Engine*, *Power*, *Seats* and *Price*\n",
    "* Percentage of missing values in the *New_price* column to high to consider imputing with other values. Dropping the column would be the best course of action for the model."
   ]
  },
  {
   "cell_type": "markdown",
   "metadata": {},
   "source": [
    "# Data Preprocessing"
   ]
  },
  {
   "cell_type": "code",
   "execution_count": 11,
   "metadata": {},
   "outputs": [
    {
     "name": "stdout",
     "output_type": "stream",
     "text": [
      "Km/Kg : 74 \n",
      "Kmpl : 7177 \n"
     ]
    },
    {
     "data": {
      "application/javascript": [
       "\n",
       "            setTimeout(function() {\n",
       "                var nbb_cell_id = 11;\n",
       "                var nbb_unformatted_code = \"# Check mileage column for values that end with km/kg and kmpl\\nkmkg = 0\\nkmpl = 0\\nfor i in df.Mileage:\\n    if str(i).endswith(\\\"km/kg\\\"):\\n        kmkg = kmkg + 1\\n    elif str(i).endswith(\\\"kmpl\\\"):\\n        kmpl = kmpl + 1\\nprint(\\\"Km/Kg : {} \\\".format(kmkg))\\nprint(\\\"Kmpl : {} \\\".format(kmpl))\";\n",
       "                var nbb_formatted_code = \"# Check mileage column for values that end with km/kg and kmpl\\nkmkg = 0\\nkmpl = 0\\nfor i in df.Mileage:\\n    if str(i).endswith(\\\"km/kg\\\"):\\n        kmkg = kmkg + 1\\n    elif str(i).endswith(\\\"kmpl\\\"):\\n        kmpl = kmpl + 1\\nprint(\\\"Km/Kg : {} \\\".format(kmkg))\\nprint(\\\"Kmpl : {} \\\".format(kmpl))\";\n",
       "                var nbb_cells = Jupyter.notebook.get_cells();\n",
       "                for (var i = 0; i < nbb_cells.length; ++i) {\n",
       "                    if (nbb_cells[i].input_prompt_number == nbb_cell_id) {\n",
       "                        if (nbb_cells[i].get_text() == nbb_unformatted_code) {\n",
       "                             nbb_cells[i].set_text(nbb_formatted_code);\n",
       "                        }\n",
       "                        break;\n",
       "                    }\n",
       "                }\n",
       "            }, 500);\n",
       "            "
      ],
      "text/plain": [
       "<IPython.core.display.Javascript object>"
      ]
     },
     "metadata": {},
     "output_type": "display_data"
    }
   ],
   "source": [
    "# Check mileage column for values that end with km/kg and kmpl\n",
    "kmkg = 0\n",
    "kmpl = 0\n",
    "for i in df.Mileage:\n",
    "    if str(i).endswith(\"km/kg\"):\n",
    "        kmkg = kmkg + 1\n",
    "    elif str(i).endswith(\"kmpl\"):\n",
    "        kmpl = kmpl + 1\n",
    "print(\"Km/Kg : {} \".format(kmkg))\n",
    "print(\"Kmpl : {} \".format(kmpl))"
   ]
  },
  {
   "cell_type": "markdown",
   "metadata": {},
   "source": [
    "## Mileage\n",
    "We will be removing km/kg and kmpl and converting the values to float"
   ]
  },
  {
   "cell_type": "code",
   "execution_count": 12,
   "metadata": {},
   "outputs": [
    {
     "data": {
      "application/javascript": [
       "\n",
       "            setTimeout(function() {\n",
       "                var nbb_cell_id = 12;\n",
       "                var nbb_unformatted_code = \"# function to convert variable to float\\ndef mileage_to_float(mileage):\\n    if isinstance(mileage, str):  # checks for string values\\n        return float(mileage.replace(\\\"km/kg\\\", \\\"\\\").replace(\\\"kmpl\\\", \\\"\\\"))\\n    else:\\n        return np.nan\";\n",
       "                var nbb_formatted_code = \"# function to convert variable to float\\ndef mileage_to_float(mileage):\\n    if isinstance(mileage, str):  # checks for string values\\n        return float(mileage.replace(\\\"km/kg\\\", \\\"\\\").replace(\\\"kmpl\\\", \\\"\\\"))\\n    else:\\n        return np.nan\";\n",
       "                var nbb_cells = Jupyter.notebook.get_cells();\n",
       "                for (var i = 0; i < nbb_cells.length; ++i) {\n",
       "                    if (nbb_cells[i].input_prompt_number == nbb_cell_id) {\n",
       "                        if (nbb_cells[i].get_text() == nbb_unformatted_code) {\n",
       "                             nbb_cells[i].set_text(nbb_formatted_code);\n",
       "                        }\n",
       "                        break;\n",
       "                    }\n",
       "                }\n",
       "            }, 500);\n",
       "            "
      ],
      "text/plain": [
       "<IPython.core.display.Javascript object>"
      ]
     },
     "metadata": {},
     "output_type": "display_data"
    }
   ],
   "source": [
    "# function to convert variable to float\n",
    "def mileage_to_float(mileage):\n",
    "    if isinstance(mileage, str):  # checks for string values\n",
    "        return float(mileage.replace(\"km/kg\", \"\").replace(\"kmpl\", \"\"))\n",
    "    else:\n",
    "        return np.nan"
   ]
  },
  {
   "cell_type": "code",
   "execution_count": 13,
   "metadata": {},
   "outputs": [
    {
     "data": {
      "application/javascript": [
       "\n",
       "            setTimeout(function() {\n",
       "                var nbb_cell_id = 13;\n",
       "                var nbb_unformatted_code = \"df[\\\"Mileage\\\"] = df[\\\"Mileage\\\"].apply(mileage_to_float)\";\n",
       "                var nbb_formatted_code = \"df[\\\"Mileage\\\"] = df[\\\"Mileage\\\"].apply(mileage_to_float)\";\n",
       "                var nbb_cells = Jupyter.notebook.get_cells();\n",
       "                for (var i = 0; i < nbb_cells.length; ++i) {\n",
       "                    if (nbb_cells[i].input_prompt_number == nbb_cell_id) {\n",
       "                        if (nbb_cells[i].get_text() == nbb_unformatted_code) {\n",
       "                             nbb_cells[i].set_text(nbb_formatted_code);\n",
       "                        }\n",
       "                        break;\n",
       "                    }\n",
       "                }\n",
       "            }, 500);\n",
       "            "
      ],
      "text/plain": [
       "<IPython.core.display.Javascript object>"
      ]
     },
     "metadata": {},
     "output_type": "display_data"
    }
   ],
   "source": [
    "df[\"Mileage\"] = df[\"Mileage\"].apply(mileage_to_float)"
   ]
  },
  {
   "cell_type": "markdown",
   "metadata": {},
   "source": [
    "## Power\n",
    "First, we will convert the null string values to nan. Then remove bhp and convert to float. "
   ]
  },
  {
   "cell_type": "code",
   "execution_count": 14,
   "metadata": {},
   "outputs": [
    {
     "data": {
      "application/javascript": [
       "\n",
       "            setTimeout(function() {\n",
       "                var nbb_cell_id = 14;\n",
       "                var nbb_unformatted_code = \"# checks for null string and converts to np.nan\\ndf.loc[df[\\\"Power\\\"].str.contains(\\\"null\\\", na=False), \\\"Power\\\"] = np.nan\";\n",
       "                var nbb_formatted_code = \"# checks for null string and converts to np.nan\\ndf.loc[df[\\\"Power\\\"].str.contains(\\\"null\\\", na=False), \\\"Power\\\"] = np.nan\";\n",
       "                var nbb_cells = Jupyter.notebook.get_cells();\n",
       "                for (var i = 0; i < nbb_cells.length; ++i) {\n",
       "                    if (nbb_cells[i].input_prompt_number == nbb_cell_id) {\n",
       "                        if (nbb_cells[i].get_text() == nbb_unformatted_code) {\n",
       "                             nbb_cells[i].set_text(nbb_formatted_code);\n",
       "                        }\n",
       "                        break;\n",
       "                    }\n",
       "                }\n",
       "            }, 500);\n",
       "            "
      ],
      "text/plain": [
       "<IPython.core.display.Javascript object>"
      ]
     },
     "metadata": {},
     "output_type": "display_data"
    }
   ],
   "source": [
    "# checks for null string and converts to np.nan\n",
    "df.loc[df[\"Power\"].str.contains(\"null\", na=False), \"Power\"] = np.nan"
   ]
  },
  {
   "cell_type": "code",
   "execution_count": 15,
   "metadata": {},
   "outputs": [
    {
     "data": {
      "application/javascript": [
       "\n",
       "            setTimeout(function() {\n",
       "                var nbb_cell_id = 15;\n",
       "                var nbb_unformatted_code = \"def pow_to_float(power):\\n    if isinstance(power, str):\\n        return float(power.replace(\\\"bhp\\\", \\\"\\\"))\\n    else:\\n        return np.nan\";\n",
       "                var nbb_formatted_code = \"def pow_to_float(power):\\n    if isinstance(power, str):\\n        return float(power.replace(\\\"bhp\\\", \\\"\\\"))\\n    else:\\n        return np.nan\";\n",
       "                var nbb_cells = Jupyter.notebook.get_cells();\n",
       "                for (var i = 0; i < nbb_cells.length; ++i) {\n",
       "                    if (nbb_cells[i].input_prompt_number == nbb_cell_id) {\n",
       "                        if (nbb_cells[i].get_text() == nbb_unformatted_code) {\n",
       "                             nbb_cells[i].set_text(nbb_formatted_code);\n",
       "                        }\n",
       "                        break;\n",
       "                    }\n",
       "                }\n",
       "            }, 500);\n",
       "            "
      ],
      "text/plain": [
       "<IPython.core.display.Javascript object>"
      ]
     },
     "metadata": {},
     "output_type": "display_data"
    }
   ],
   "source": [
    "def pow_to_float(power):\n",
    "    if isinstance(power, str):\n",
    "        return float(power.replace(\"bhp\", \"\"))\n",
    "    else:\n",
    "        return np.nan"
   ]
  },
  {
   "cell_type": "code",
   "execution_count": 16,
   "metadata": {},
   "outputs": [
    {
     "data": {
      "application/javascript": [
       "\n",
       "            setTimeout(function() {\n",
       "                var nbb_cell_id = 16;\n",
       "                var nbb_unformatted_code = \"df[\\\"Power\\\"] = df[\\\"Power\\\"].apply(pow_to_float)\";\n",
       "                var nbb_formatted_code = \"df[\\\"Power\\\"] = df[\\\"Power\\\"].apply(pow_to_float)\";\n",
       "                var nbb_cells = Jupyter.notebook.get_cells();\n",
       "                for (var i = 0; i < nbb_cells.length; ++i) {\n",
       "                    if (nbb_cells[i].input_prompt_number == nbb_cell_id) {\n",
       "                        if (nbb_cells[i].get_text() == nbb_unformatted_code) {\n",
       "                             nbb_cells[i].set_text(nbb_formatted_code);\n",
       "                        }\n",
       "                        break;\n",
       "                    }\n",
       "                }\n",
       "            }, 500);\n",
       "            "
      ],
      "text/plain": [
       "<IPython.core.display.Javascript object>"
      ]
     },
     "metadata": {},
     "output_type": "display_data"
    }
   ],
   "source": [
    "df[\"Power\"] = df[\"Power\"].apply(pow_to_float)"
   ]
  },
  {
   "cell_type": "markdown",
   "metadata": {},
   "source": [
    "## Engine\n",
    "Remove CC and convert to float."
   ]
  },
  {
   "cell_type": "code",
   "execution_count": 17,
   "metadata": {},
   "outputs": [
    {
     "data": {
      "application/javascript": [
       "\n",
       "            setTimeout(function() {\n",
       "                var nbb_cell_id = 17;\n",
       "                var nbb_unformatted_code = \"def engine_to_float(engine):\\n    \\\"\\\"\\\"In the weight column I'm replacing the terminal 'lbs' with\\n    the empty string and converting to a float. Non-strings are\\n    np.nans and are kept as np.nans.\\\"\\\"\\\"\\n    if isinstance(engine, str):\\n        return float(engine.replace(\\\"CC\\\", \\\"\\\"))\\n    else:\\n        return np.nan\";\n",
       "                var nbb_formatted_code = \"def engine_to_float(engine):\\n    \\\"\\\"\\\"In the weight column I'm replacing the terminal 'lbs' with\\n    the empty string and converting to a float. Non-strings are\\n    np.nans and are kept as np.nans.\\\"\\\"\\\"\\n    if isinstance(engine, str):\\n        return float(engine.replace(\\\"CC\\\", \\\"\\\"))\\n    else:\\n        return np.nan\";\n",
       "                var nbb_cells = Jupyter.notebook.get_cells();\n",
       "                for (var i = 0; i < nbb_cells.length; ++i) {\n",
       "                    if (nbb_cells[i].input_prompt_number == nbb_cell_id) {\n",
       "                        if (nbb_cells[i].get_text() == nbb_unformatted_code) {\n",
       "                             nbb_cells[i].set_text(nbb_formatted_code);\n",
       "                        }\n",
       "                        break;\n",
       "                    }\n",
       "                }\n",
       "            }, 500);\n",
       "            "
      ],
      "text/plain": [
       "<IPython.core.display.Javascript object>"
      ]
     },
     "metadata": {},
     "output_type": "display_data"
    }
   ],
   "source": [
    "def engine_to_float(engine):\n",
    "    \"\"\"In the weight column I'm replacing the terminal 'lbs' with\n",
    "    the empty string and converting to a float. Non-strings are\n",
    "    np.nans and are kept as np.nans.\"\"\"\n",
    "    if isinstance(engine, str):\n",
    "        return float(engine.replace(\"CC\", \"\"))\n",
    "    else:\n",
    "        return np.nan"
   ]
  },
  {
   "cell_type": "code",
   "execution_count": 18,
   "metadata": {},
   "outputs": [
    {
     "data": {
      "application/javascript": [
       "\n",
       "            setTimeout(function() {\n",
       "                var nbb_cell_id = 18;\n",
       "                var nbb_unformatted_code = \"df[\\\"Engine\\\"] = df[\\\"Engine\\\"].apply(engine_to_float)\";\n",
       "                var nbb_formatted_code = \"df[\\\"Engine\\\"] = df[\\\"Engine\\\"].apply(engine_to_float)\";\n",
       "                var nbb_cells = Jupyter.notebook.get_cells();\n",
       "                for (var i = 0; i < nbb_cells.length; ++i) {\n",
       "                    if (nbb_cells[i].input_prompt_number == nbb_cell_id) {\n",
       "                        if (nbb_cells[i].get_text() == nbb_unformatted_code) {\n",
       "                             nbb_cells[i].set_text(nbb_formatted_code);\n",
       "                        }\n",
       "                        break;\n",
       "                    }\n",
       "                }\n",
       "            }, 500);\n",
       "            "
      ],
      "text/plain": [
       "<IPython.core.display.Javascript object>"
      ]
     },
     "metadata": {},
     "output_type": "display_data"
    }
   ],
   "source": [
    "df[\"Engine\"] = df[\"Engine\"].apply(engine_to_float)"
   ]
  },
  {
   "cell_type": "markdown",
   "metadata": {},
   "source": [
    "# Feature Engineering\n",
    "We'll be splitting the *name* column into brand name and model name"
   ]
  },
  {
   "cell_type": "code",
   "execution_count": 19,
   "metadata": {},
   "outputs": [
    {
     "data": {
      "application/javascript": [
       "\n",
       "            setTimeout(function() {\n",
       "                var nbb_cell_id = 19;\n",
       "                var nbb_unformatted_code = \"# get brand names and assign to Brandname column\\ndf[\\\"Brandname\\\"] = df.Name.str.split().str.get(0)\";\n",
       "                var nbb_formatted_code = \"# get brand names and assign to Brandname column\\ndf[\\\"Brandname\\\"] = df.Name.str.split().str.get(0)\";\n",
       "                var nbb_cells = Jupyter.notebook.get_cells();\n",
       "                for (var i = 0; i < nbb_cells.length; ++i) {\n",
       "                    if (nbb_cells[i].input_prompt_number == nbb_cell_id) {\n",
       "                        if (nbb_cells[i].get_text() == nbb_unformatted_code) {\n",
       "                             nbb_cells[i].set_text(nbb_formatted_code);\n",
       "                        }\n",
       "                        break;\n",
       "                    }\n",
       "                }\n",
       "            }, 500);\n",
       "            "
      ],
      "text/plain": [
       "<IPython.core.display.Javascript object>"
      ]
     },
     "metadata": {},
     "output_type": "display_data"
    }
   ],
   "source": [
    "# get brand names and assign to Brandname column\n",
    "df[\"Brandname\"] = df.Name.str.split().str.get(0)"
   ]
  },
  {
   "cell_type": "code",
   "execution_count": 20,
   "metadata": {},
   "outputs": [
    {
     "data": {
      "application/javascript": [
       "\n",
       "            setTimeout(function() {\n",
       "                var nbb_cell_id = 20;\n",
       "                var nbb_unformatted_code = \"# get model names and assign to Modelname column\\ndf[\\\"Modelname\\\"] = df.Name.str.split().str.get(1)\";\n",
       "                var nbb_formatted_code = \"# get model names and assign to Modelname column\\ndf[\\\"Modelname\\\"] = df.Name.str.split().str.get(1)\";\n",
       "                var nbb_cells = Jupyter.notebook.get_cells();\n",
       "                for (var i = 0; i < nbb_cells.length; ++i) {\n",
       "                    if (nbb_cells[i].input_prompt_number == nbb_cell_id) {\n",
       "                        if (nbb_cells[i].get_text() == nbb_unformatted_code) {\n",
       "                             nbb_cells[i].set_text(nbb_formatted_code);\n",
       "                        }\n",
       "                        break;\n",
       "                    }\n",
       "                }\n",
       "            }, 500);\n",
       "            "
      ],
      "text/plain": [
       "<IPython.core.display.Javascript object>"
      ]
     },
     "metadata": {},
     "output_type": "display_data"
    }
   ],
   "source": [
    "# get model names and assign to Modelname column\n",
    "df[\"Modelname\"] = df.Name.str.split().str.get(1)"
   ]
  },
  {
   "cell_type": "markdown",
   "metadata": {},
   "source": [
    "We will be dropping the *Name* column along with *New_Price* and *S.No.*"
   ]
  },
  {
   "cell_type": "code",
   "execution_count": 21,
   "metadata": {},
   "outputs": [
    {
     "data": {
      "application/javascript": [
       "\n",
       "            setTimeout(function() {\n",
       "                var nbb_cell_id = 21;\n",
       "                var nbb_unformatted_code = \"df = df.drop([\\\"New_Price\\\", \\\"S.No.\\\", \\\"Name\\\"], axis=1)\";\n",
       "                var nbb_formatted_code = \"df = df.drop([\\\"New_Price\\\", \\\"S.No.\\\", \\\"Name\\\"], axis=1)\";\n",
       "                var nbb_cells = Jupyter.notebook.get_cells();\n",
       "                for (var i = 0; i < nbb_cells.length; ++i) {\n",
       "                    if (nbb_cells[i].input_prompt_number == nbb_cell_id) {\n",
       "                        if (nbb_cells[i].get_text() == nbb_unformatted_code) {\n",
       "                             nbb_cells[i].set_text(nbb_formatted_code);\n",
       "                        }\n",
       "                        break;\n",
       "                    }\n",
       "                }\n",
       "            }, 500);\n",
       "            "
      ],
      "text/plain": [
       "<IPython.core.display.Javascript object>"
      ]
     },
     "metadata": {},
     "output_type": "display_data"
    }
   ],
   "source": [
    "df = df.drop([\"New_Price\", \"S.No.\", \"Name\"], axis=1)"
   ]
  },
  {
   "cell_type": "code",
   "execution_count": 22,
   "metadata": {},
   "outputs": [
    {
     "data": {
      "text/html": [
       "<div>\n",
       "<style scoped>\n",
       "    .dataframe tbody tr th:only-of-type {\n",
       "        vertical-align: middle;\n",
       "    }\n",
       "\n",
       "    .dataframe tbody tr th {\n",
       "        vertical-align: top;\n",
       "    }\n",
       "\n",
       "    .dataframe thead th {\n",
       "        text-align: right;\n",
       "    }\n",
       "</style>\n",
       "<table border=\"1\" class=\"dataframe\">\n",
       "  <thead>\n",
       "    <tr style=\"text-align: right;\">\n",
       "      <th></th>\n",
       "      <th>Location</th>\n",
       "      <th>Year</th>\n",
       "      <th>Kilometers_Driven</th>\n",
       "      <th>Fuel_Type</th>\n",
       "      <th>Transmission</th>\n",
       "      <th>Owner_Type</th>\n",
       "      <th>Mileage</th>\n",
       "      <th>Engine</th>\n",
       "      <th>Power</th>\n",
       "      <th>Seats</th>\n",
       "      <th>Price</th>\n",
       "      <th>Brandname</th>\n",
       "      <th>Modelname</th>\n",
       "    </tr>\n",
       "  </thead>\n",
       "  <tbody>\n",
       "    <tr>\n",
       "      <th>0</th>\n",
       "      <td>Mumbai</td>\n",
       "      <td>2010</td>\n",
       "      <td>72000</td>\n",
       "      <td>CNG</td>\n",
       "      <td>Manual</td>\n",
       "      <td>First</td>\n",
       "      <td>26.60</td>\n",
       "      <td>998.0</td>\n",
       "      <td>58.16</td>\n",
       "      <td>5.0</td>\n",
       "      <td>1.75</td>\n",
       "      <td>Maruti</td>\n",
       "      <td>Wagon</td>\n",
       "    </tr>\n",
       "    <tr>\n",
       "      <th>1</th>\n",
       "      <td>Pune</td>\n",
       "      <td>2015</td>\n",
       "      <td>41000</td>\n",
       "      <td>Diesel</td>\n",
       "      <td>Manual</td>\n",
       "      <td>First</td>\n",
       "      <td>19.67</td>\n",
       "      <td>1582.0</td>\n",
       "      <td>126.20</td>\n",
       "      <td>5.0</td>\n",
       "      <td>12.50</td>\n",
       "      <td>Hyundai</td>\n",
       "      <td>Creta</td>\n",
       "    </tr>\n",
       "    <tr>\n",
       "      <th>2</th>\n",
       "      <td>Chennai</td>\n",
       "      <td>2011</td>\n",
       "      <td>46000</td>\n",
       "      <td>Petrol</td>\n",
       "      <td>Manual</td>\n",
       "      <td>First</td>\n",
       "      <td>18.20</td>\n",
       "      <td>1199.0</td>\n",
       "      <td>88.70</td>\n",
       "      <td>5.0</td>\n",
       "      <td>4.50</td>\n",
       "      <td>Honda</td>\n",
       "      <td>Jazz</td>\n",
       "    </tr>\n",
       "    <tr>\n",
       "      <th>3</th>\n",
       "      <td>Chennai</td>\n",
       "      <td>2012</td>\n",
       "      <td>87000</td>\n",
       "      <td>Diesel</td>\n",
       "      <td>Manual</td>\n",
       "      <td>First</td>\n",
       "      <td>20.77</td>\n",
       "      <td>1248.0</td>\n",
       "      <td>88.76</td>\n",
       "      <td>7.0</td>\n",
       "      <td>6.00</td>\n",
       "      <td>Maruti</td>\n",
       "      <td>Ertiga</td>\n",
       "    </tr>\n",
       "    <tr>\n",
       "      <th>4</th>\n",
       "      <td>Coimbatore</td>\n",
       "      <td>2013</td>\n",
       "      <td>40670</td>\n",
       "      <td>Diesel</td>\n",
       "      <td>Automatic</td>\n",
       "      <td>Second</td>\n",
       "      <td>15.20</td>\n",
       "      <td>1968.0</td>\n",
       "      <td>140.80</td>\n",
       "      <td>5.0</td>\n",
       "      <td>17.74</td>\n",
       "      <td>Audi</td>\n",
       "      <td>A4</td>\n",
       "    </tr>\n",
       "    <tr>\n",
       "      <th>5</th>\n",
       "      <td>Hyderabad</td>\n",
       "      <td>2012</td>\n",
       "      <td>75000</td>\n",
       "      <td>LPG</td>\n",
       "      <td>Manual</td>\n",
       "      <td>First</td>\n",
       "      <td>21.10</td>\n",
       "      <td>814.0</td>\n",
       "      <td>55.20</td>\n",
       "      <td>5.0</td>\n",
       "      <td>2.35</td>\n",
       "      <td>Hyundai</td>\n",
       "      <td>EON</td>\n",
       "    </tr>\n",
       "    <tr>\n",
       "      <th>6</th>\n",
       "      <td>Jaipur</td>\n",
       "      <td>2013</td>\n",
       "      <td>86999</td>\n",
       "      <td>Diesel</td>\n",
       "      <td>Manual</td>\n",
       "      <td>First</td>\n",
       "      <td>23.08</td>\n",
       "      <td>1461.0</td>\n",
       "      <td>63.10</td>\n",
       "      <td>5.0</td>\n",
       "      <td>3.50</td>\n",
       "      <td>Nissan</td>\n",
       "      <td>Micra</td>\n",
       "    </tr>\n",
       "    <tr>\n",
       "      <th>7</th>\n",
       "      <td>Mumbai</td>\n",
       "      <td>2016</td>\n",
       "      <td>36000</td>\n",
       "      <td>Diesel</td>\n",
       "      <td>Automatic</td>\n",
       "      <td>First</td>\n",
       "      <td>11.36</td>\n",
       "      <td>2755.0</td>\n",
       "      <td>171.50</td>\n",
       "      <td>8.0</td>\n",
       "      <td>17.50</td>\n",
       "      <td>Toyota</td>\n",
       "      <td>Innova</td>\n",
       "    </tr>\n",
       "    <tr>\n",
       "      <th>8</th>\n",
       "      <td>Pune</td>\n",
       "      <td>2013</td>\n",
       "      <td>64430</td>\n",
       "      <td>Diesel</td>\n",
       "      <td>Manual</td>\n",
       "      <td>First</td>\n",
       "      <td>20.54</td>\n",
       "      <td>1598.0</td>\n",
       "      <td>103.60</td>\n",
       "      <td>5.0</td>\n",
       "      <td>5.20</td>\n",
       "      <td>Volkswagen</td>\n",
       "      <td>Vento</td>\n",
       "    </tr>\n",
       "    <tr>\n",
       "      <th>9</th>\n",
       "      <td>Chennai</td>\n",
       "      <td>2012</td>\n",
       "      <td>65932</td>\n",
       "      <td>Diesel</td>\n",
       "      <td>Manual</td>\n",
       "      <td>Second</td>\n",
       "      <td>22.30</td>\n",
       "      <td>1248.0</td>\n",
       "      <td>74.00</td>\n",
       "      <td>5.0</td>\n",
       "      <td>1.95</td>\n",
       "      <td>Tata</td>\n",
       "      <td>Indica</td>\n",
       "    </tr>\n",
       "  </tbody>\n",
       "</table>\n",
       "</div>"
      ],
      "text/plain": [
       "     Location  Year  Kilometers_Driven Fuel_Type Transmission Owner_Type  \\\n",
       "0      Mumbai  2010              72000       CNG       Manual      First   \n",
       "1        Pune  2015              41000    Diesel       Manual      First   \n",
       "2     Chennai  2011              46000    Petrol       Manual      First   \n",
       "3     Chennai  2012              87000    Diesel       Manual      First   \n",
       "4  Coimbatore  2013              40670    Diesel    Automatic     Second   \n",
       "5   Hyderabad  2012              75000       LPG       Manual      First   \n",
       "6      Jaipur  2013              86999    Diesel       Manual      First   \n",
       "7      Mumbai  2016              36000    Diesel    Automatic      First   \n",
       "8        Pune  2013              64430    Diesel       Manual      First   \n",
       "9     Chennai  2012              65932    Diesel       Manual     Second   \n",
       "\n",
       "   Mileage  Engine   Power  Seats  Price   Brandname Modelname  \n",
       "0    26.60   998.0   58.16    5.0   1.75      Maruti     Wagon  \n",
       "1    19.67  1582.0  126.20    5.0  12.50     Hyundai     Creta  \n",
       "2    18.20  1199.0   88.70    5.0   4.50       Honda      Jazz  \n",
       "3    20.77  1248.0   88.76    7.0   6.00      Maruti    Ertiga  \n",
       "4    15.20  1968.0  140.80    5.0  17.74        Audi        A4  \n",
       "5    21.10   814.0   55.20    5.0   2.35     Hyundai       EON  \n",
       "6    23.08  1461.0   63.10    5.0   3.50      Nissan     Micra  \n",
       "7    11.36  2755.0  171.50    8.0  17.50      Toyota    Innova  \n",
       "8    20.54  1598.0  103.60    5.0   5.20  Volkswagen     Vento  \n",
       "9    22.30  1248.0   74.00    5.0   1.95        Tata    Indica  "
      ]
     },
     "execution_count": 22,
     "metadata": {},
     "output_type": "execute_result"
    },
    {
     "data": {
      "application/javascript": [
       "\n",
       "            setTimeout(function() {\n",
       "                var nbb_cell_id = 22;\n",
       "                var nbb_unformatted_code = \"df.head(10)\";\n",
       "                var nbb_formatted_code = \"df.head(10)\";\n",
       "                var nbb_cells = Jupyter.notebook.get_cells();\n",
       "                for (var i = 0; i < nbb_cells.length; ++i) {\n",
       "                    if (nbb_cells[i].input_prompt_number == nbb_cell_id) {\n",
       "                        if (nbb_cells[i].get_text() == nbb_unformatted_code) {\n",
       "                             nbb_cells[i].set_text(nbb_formatted_code);\n",
       "                        }\n",
       "                        break;\n",
       "                    }\n",
       "                }\n",
       "            }, 500);\n",
       "            "
      ],
      "text/plain": [
       "<IPython.core.display.Javascript object>"
      ]
     },
     "metadata": {},
     "output_type": "display_data"
    }
   ],
   "source": [
    "df.head(10)"
   ]
  },
  {
   "cell_type": "markdown",
   "metadata": {
    "id": "J_djNd3wqH0U"
   },
   "source": [
    "**Let's look at the summary of our data.**"
   ]
  },
  {
   "cell_type": "code",
   "execution_count": 23,
   "metadata": {
    "id": "AEwAiykQqH0V",
    "outputId": "50c8b5b2-ddde-4596-a1b5-27f2aad9ec13"
   },
   "outputs": [
    {
     "data": {
      "text/html": [
       "<div>\n",
       "<style scoped>\n",
       "    .dataframe tbody tr th:only-of-type {\n",
       "        vertical-align: middle;\n",
       "    }\n",
       "\n",
       "    .dataframe tbody tr th {\n",
       "        vertical-align: top;\n",
       "    }\n",
       "\n",
       "    .dataframe thead th {\n",
       "        text-align: right;\n",
       "    }\n",
       "</style>\n",
       "<table border=\"1\" class=\"dataframe\">\n",
       "  <thead>\n",
       "    <tr style=\"text-align: right;\">\n",
       "      <th></th>\n",
       "      <th>count</th>\n",
       "      <th>unique</th>\n",
       "      <th>top</th>\n",
       "      <th>freq</th>\n",
       "      <th>mean</th>\n",
       "      <th>std</th>\n",
       "      <th>min</th>\n",
       "      <th>25%</th>\n",
       "      <th>50%</th>\n",
       "      <th>75%</th>\n",
       "      <th>max</th>\n",
       "    </tr>\n",
       "  </thead>\n",
       "  <tbody>\n",
       "    <tr>\n",
       "      <th>Location</th>\n",
       "      <td>7253</td>\n",
       "      <td>11</td>\n",
       "      <td>Mumbai</td>\n",
       "      <td>949</td>\n",
       "      <td>NaN</td>\n",
       "      <td>NaN</td>\n",
       "      <td>NaN</td>\n",
       "      <td>NaN</td>\n",
       "      <td>NaN</td>\n",
       "      <td>NaN</td>\n",
       "      <td>NaN</td>\n",
       "    </tr>\n",
       "    <tr>\n",
       "      <th>Year</th>\n",
       "      <td>7253</td>\n",
       "      <td>NaN</td>\n",
       "      <td>NaN</td>\n",
       "      <td>NaN</td>\n",
       "      <td>2013.37</td>\n",
       "      <td>3.25442</td>\n",
       "      <td>1996</td>\n",
       "      <td>2011</td>\n",
       "      <td>2014</td>\n",
       "      <td>2016</td>\n",
       "      <td>2019</td>\n",
       "    </tr>\n",
       "    <tr>\n",
       "      <th>Kilometers_Driven</th>\n",
       "      <td>7253</td>\n",
       "      <td>NaN</td>\n",
       "      <td>NaN</td>\n",
       "      <td>NaN</td>\n",
       "      <td>58699.1</td>\n",
       "      <td>84427.7</td>\n",
       "      <td>171</td>\n",
       "      <td>34000</td>\n",
       "      <td>53416</td>\n",
       "      <td>73000</td>\n",
       "      <td>6.5e+06</td>\n",
       "    </tr>\n",
       "    <tr>\n",
       "      <th>Fuel_Type</th>\n",
       "      <td>7253</td>\n",
       "      <td>5</td>\n",
       "      <td>Diesel</td>\n",
       "      <td>3852</td>\n",
       "      <td>NaN</td>\n",
       "      <td>NaN</td>\n",
       "      <td>NaN</td>\n",
       "      <td>NaN</td>\n",
       "      <td>NaN</td>\n",
       "      <td>NaN</td>\n",
       "      <td>NaN</td>\n",
       "    </tr>\n",
       "    <tr>\n",
       "      <th>Transmission</th>\n",
       "      <td>7253</td>\n",
       "      <td>2</td>\n",
       "      <td>Manual</td>\n",
       "      <td>5204</td>\n",
       "      <td>NaN</td>\n",
       "      <td>NaN</td>\n",
       "      <td>NaN</td>\n",
       "      <td>NaN</td>\n",
       "      <td>NaN</td>\n",
       "      <td>NaN</td>\n",
       "      <td>NaN</td>\n",
       "    </tr>\n",
       "    <tr>\n",
       "      <th>Owner_Type</th>\n",
       "      <td>7253</td>\n",
       "      <td>4</td>\n",
       "      <td>First</td>\n",
       "      <td>5952</td>\n",
       "      <td>NaN</td>\n",
       "      <td>NaN</td>\n",
       "      <td>NaN</td>\n",
       "      <td>NaN</td>\n",
       "      <td>NaN</td>\n",
       "      <td>NaN</td>\n",
       "      <td>NaN</td>\n",
       "    </tr>\n",
       "    <tr>\n",
       "      <th>Mileage</th>\n",
       "      <td>7251</td>\n",
       "      <td>NaN</td>\n",
       "      <td>NaN</td>\n",
       "      <td>NaN</td>\n",
       "      <td>18.1416</td>\n",
       "      <td>4.5622</td>\n",
       "      <td>0</td>\n",
       "      <td>15.17</td>\n",
       "      <td>18.16</td>\n",
       "      <td>21.1</td>\n",
       "      <td>33.54</td>\n",
       "    </tr>\n",
       "    <tr>\n",
       "      <th>Engine</th>\n",
       "      <td>7207</td>\n",
       "      <td>NaN</td>\n",
       "      <td>NaN</td>\n",
       "      <td>NaN</td>\n",
       "      <td>1616.57</td>\n",
       "      <td>595.285</td>\n",
       "      <td>72</td>\n",
       "      <td>1198</td>\n",
       "      <td>1493</td>\n",
       "      <td>1968</td>\n",
       "      <td>5998</td>\n",
       "    </tr>\n",
       "    <tr>\n",
       "      <th>Power</th>\n",
       "      <td>7078</td>\n",
       "      <td>NaN</td>\n",
       "      <td>NaN</td>\n",
       "      <td>NaN</td>\n",
       "      <td>112.765</td>\n",
       "      <td>53.4936</td>\n",
       "      <td>34.2</td>\n",
       "      <td>75</td>\n",
       "      <td>94</td>\n",
       "      <td>138.1</td>\n",
       "      <td>616</td>\n",
       "    </tr>\n",
       "    <tr>\n",
       "      <th>Seats</th>\n",
       "      <td>7200</td>\n",
       "      <td>NaN</td>\n",
       "      <td>NaN</td>\n",
       "      <td>NaN</td>\n",
       "      <td>5.27972</td>\n",
       "      <td>0.81166</td>\n",
       "      <td>0</td>\n",
       "      <td>5</td>\n",
       "      <td>5</td>\n",
       "      <td>5</td>\n",
       "      <td>10</td>\n",
       "    </tr>\n",
       "    <tr>\n",
       "      <th>Price</th>\n",
       "      <td>6019</td>\n",
       "      <td>NaN</td>\n",
       "      <td>NaN</td>\n",
       "      <td>NaN</td>\n",
       "      <td>9.47947</td>\n",
       "      <td>11.1879</td>\n",
       "      <td>0.44</td>\n",
       "      <td>3.5</td>\n",
       "      <td>5.64</td>\n",
       "      <td>9.95</td>\n",
       "      <td>160</td>\n",
       "    </tr>\n",
       "    <tr>\n",
       "      <th>Brandname</th>\n",
       "      <td>7253</td>\n",
       "      <td>33</td>\n",
       "      <td>Maruti</td>\n",
       "      <td>1444</td>\n",
       "      <td>NaN</td>\n",
       "      <td>NaN</td>\n",
       "      <td>NaN</td>\n",
       "      <td>NaN</td>\n",
       "      <td>NaN</td>\n",
       "      <td>NaN</td>\n",
       "      <td>NaN</td>\n",
       "    </tr>\n",
       "    <tr>\n",
       "      <th>Modelname</th>\n",
       "      <td>7253</td>\n",
       "      <td>219</td>\n",
       "      <td>Swift</td>\n",
       "      <td>418</td>\n",
       "      <td>NaN</td>\n",
       "      <td>NaN</td>\n",
       "      <td>NaN</td>\n",
       "      <td>NaN</td>\n",
       "      <td>NaN</td>\n",
       "      <td>NaN</td>\n",
       "      <td>NaN</td>\n",
       "    </tr>\n",
       "  </tbody>\n",
       "</table>\n",
       "</div>"
      ],
      "text/plain": [
       "                  count unique     top  freq     mean      std   min    25%  \\\n",
       "Location           7253     11  Mumbai   949      NaN      NaN   NaN    NaN   \n",
       "Year               7253    NaN     NaN   NaN  2013.37  3.25442  1996   2011   \n",
       "Kilometers_Driven  7253    NaN     NaN   NaN  58699.1  84427.7   171  34000   \n",
       "Fuel_Type          7253      5  Diesel  3852      NaN      NaN   NaN    NaN   \n",
       "Transmission       7253      2  Manual  5204      NaN      NaN   NaN    NaN   \n",
       "Owner_Type         7253      4   First  5952      NaN      NaN   NaN    NaN   \n",
       "Mileage            7251    NaN     NaN   NaN  18.1416   4.5622     0  15.17   \n",
       "Engine             7207    NaN     NaN   NaN  1616.57  595.285    72   1198   \n",
       "Power              7078    NaN     NaN   NaN  112.765  53.4936  34.2     75   \n",
       "Seats              7200    NaN     NaN   NaN  5.27972  0.81166     0      5   \n",
       "Price              6019    NaN     NaN   NaN  9.47947  11.1879  0.44    3.5   \n",
       "Brandname          7253     33  Maruti  1444      NaN      NaN   NaN    NaN   \n",
       "Modelname          7253    219   Swift   418      NaN      NaN   NaN    NaN   \n",
       "\n",
       "                     50%    75%      max  \n",
       "Location             NaN    NaN      NaN  \n",
       "Year                2014   2016     2019  \n",
       "Kilometers_Driven  53416  73000  6.5e+06  \n",
       "Fuel_Type            NaN    NaN      NaN  \n",
       "Transmission         NaN    NaN      NaN  \n",
       "Owner_Type           NaN    NaN      NaN  \n",
       "Mileage            18.16   21.1    33.54  \n",
       "Engine              1493   1968     5998  \n",
       "Power                 94  138.1      616  \n",
       "Seats                  5      5       10  \n",
       "Price               5.64   9.95      160  \n",
       "Brandname            NaN    NaN      NaN  \n",
       "Modelname            NaN    NaN      NaN  "
      ]
     },
     "execution_count": 23,
     "metadata": {},
     "output_type": "execute_result"
    },
    {
     "data": {
      "application/javascript": [
       "\n",
       "            setTimeout(function() {\n",
       "                var nbb_cell_id = 23;\n",
       "                var nbb_unformatted_code = \"# View data summary of all datatypes\\ndf.describe(include=\\\"all\\\").T\";\n",
       "                var nbb_formatted_code = \"# View data summary of all datatypes\\ndf.describe(include=\\\"all\\\").T\";\n",
       "                var nbb_cells = Jupyter.notebook.get_cells();\n",
       "                for (var i = 0; i < nbb_cells.length; ++i) {\n",
       "                    if (nbb_cells[i].input_prompt_number == nbb_cell_id) {\n",
       "                        if (nbb_cells[i].get_text() == nbb_unformatted_code) {\n",
       "                             nbb_cells[i].set_text(nbb_formatted_code);\n",
       "                        }\n",
       "                        break;\n",
       "                    }\n",
       "                }\n",
       "            }, 500);\n",
       "            "
      ],
      "text/plain": [
       "<IPython.core.display.Javascript object>"
      ]
     },
     "metadata": {},
     "output_type": "display_data"
    }
   ],
   "source": [
    "# View data summary of all datatypes\n",
    "df.describe(include=\"all\").T"
   ]
  },
  {
   "cell_type": "markdown",
   "metadata": {
    "id": "rO_scYvgbb7M"
   },
   "source": [
    "## Insights:\n",
    "\n",
    "- The *Brandname* and *Modelname* columns have 33 and 219 unique values respectively.\n",
    "- There are 5 different fuel types in the dataset\n",
    "- *Year* ranges from 1996 to 2019.\n",
    "- Average *Price* is 9.479 INR Lakhs.\n"
   ]
  },
  {
   "cell_type": "markdown",
   "metadata": {
    "id": "JZcZuUF_cYdX"
   },
   "source": [
    "**Before we proceed, let's have a look at the graphical visualization of the data to understand it better**"
   ]
  },
  {
   "cell_type": "markdown",
   "metadata": {},
   "source": [
    "## Exploratory Data Analysis"
   ]
  },
  {
   "cell_type": "markdown",
   "metadata": {
    "id": "9hahgR-7qH0c"
   },
   "source": [
    "## Univariate analysis"
   ]
  },
  {
   "cell_type": "markdown",
   "metadata": {},
   "source": [
    "### Distribution of each numerical variable"
   ]
  },
  {
   "cell_type": "code",
   "execution_count": 24,
   "metadata": {},
   "outputs": [
    {
     "data": {
      "image/png": "[encoded data removed]",
      "text/plain": [
       "<Figure size 1224x5400 with 6 Axes>"
      ]
     },
     "metadata": {
      "needs_background": "light"
     },
     "output_type": "display_data"
    },
    {
     "data": {
      "application/javascript": [
       "\n",
       "            setTimeout(function() {\n",
       "                var nbb_cell_id = 24;\n",
       "                var nbb_unformatted_code = \"# lets plot histogram of all numerical variables\\n\\nall_col = df.select_dtypes(include=np.number).columns.tolist()\\nall_col.remove(\\\"Year\\\")\\nplt.figure(figsize=(17, 75))\\n\\n\\nfor i in range(len(all_col)):\\n    plt.subplot(18, 3, i + 1)\\n    plt.hist(df[all_col[i]])\\n    # sns.histplot(df[all_col[i]], kde=True)  # you can comment the previous line and run this one to get distribution curves\\n    plt.tight_layout()\\n    plt.title(all_col[i], fontsize=25)\\n\\nplt.show()\";\n",
       "                var nbb_formatted_code = \"# lets plot histogram of all numerical variables\\n\\nall_col = df.select_dtypes(include=np.number).columns.tolist()\\nall_col.remove(\\\"Year\\\")\\nplt.figure(figsize=(17, 75))\\n\\n\\nfor i in range(len(all_col)):\\n    plt.subplot(18, 3, i + 1)\\n    plt.hist(df[all_col[i]])\\n    # sns.histplot(df[all_col[i]], kde=True)  # you can comment the previous line and run this one to get distribution curves\\n    plt.tight_layout()\\n    plt.title(all_col[i], fontsize=25)\\n\\nplt.show()\";\n",
       "                var nbb_cells = Jupyter.notebook.get_cells();\n",
       "                for (var i = 0; i < nbb_cells.length; ++i) {\n",
       "                    if (nbb_cells[i].input_prompt_number == nbb_cell_id) {\n",
       "                        if (nbb_cells[i].get_text() == nbb_unformatted_code) {\n",
       "                             nbb_cells[i].set_text(nbb_formatted_code);\n",
       "                        }\n",
       "                        break;\n",
       "                    }\n",
       "                }\n",
       "            }, 500);\n",
       "            "
      ],
      "text/plain": [
       "<IPython.core.display.Javascript object>"
      ]
     },
     "metadata": {},
     "output_type": "display_data"
    }
   ],
   "source": [
    "# lets plot histogram of all numerical variables\n",
    "\n",
    "all_col = df.select_dtypes(include=np.number).columns.tolist()\n",
    "all_col.remove(\"Year\")\n",
    "plt.figure(figsize=(17, 75))\n",
    "\n",
    "\n",
    "for i in range(len(all_col)):\n",
    "    plt.subplot(18, 3, i + 1)\n",
    "    plt.hist(df[all_col[i]])\n",
    "    # sns.histplot(df[all_col[i]], kde=True)  # you can comment the previous line and run this one to get distribution curves\n",
    "    plt.tight_layout()\n",
    "    plt.title(all_col[i], fontsize=25)\n",
    "\n",
    "plt.show()"
   ]
  },
  {
   "cell_type": "markdown",
   "metadata": {},
   "source": [
    "**Observations**\n",
    "* A lot of the numerical variables seem to be skewed to the right.\n",
    "* This is most apparent in *Kilometers_Driven* and *Price* which are heavily skewed to the right.\n",
    "* *Mileage* seems to have a distribution close to normal.\n",
    "* *Seats* would probably give more insight as category."
   ]
  },
  {
   "cell_type": "markdown",
   "metadata": {},
   "source": [
    "### Let's fix the missing values"
   ]
  },
  {
   "cell_type": "markdown",
   "metadata": {},
   "source": [
    "* We can impute the missing values with the median for skewed values and the mean for unskewed values\n",
    "* We will also be dropping the missing values in our proposed dependent variable *Price* for better modeling"
   ]
  },
  {
   "cell_type": "code",
   "execution_count": 25,
   "metadata": {},
   "outputs": [
    {
     "data": {
      "application/javascript": [
       "\n",
       "            setTimeout(function() {\n",
       "                var nbb_cell_id = 25;\n",
       "                var nbb_unformatted_code = \"# fill missing values with mean and median\\ndf['Engine'].fillna(df['Engine'].median(), inplace=True)\\ndf['Power'].fillna(df['Power'].median(), inplace=True)\\ndf['Mileage'].fillna(df['Mileage'].mean(), inplace=True)\\ndf['Seats'].fillna(df['Seats'].median(), inplace=True)\\ndf.dropna(subset = [\\\"Price\\\"], inplace=True)#drop missing values in price column\";\n",
       "                var nbb_formatted_code = \"# fill missing values with mean and median\\ndf[\\\"Engine\\\"].fillna(df[\\\"Engine\\\"].median(), inplace=True)\\ndf[\\\"Power\\\"].fillna(df[\\\"Power\\\"].median(), inplace=True)\\ndf[\\\"Mileage\\\"].fillna(df[\\\"Mileage\\\"].mean(), inplace=True)\\ndf[\\\"Seats\\\"].fillna(df[\\\"Seats\\\"].median(), inplace=True)\\ndf.dropna(subset=[\\\"Price\\\"], inplace=True)  # drop missing values in price column\";\n",
       "                var nbb_cells = Jupyter.notebook.get_cells();\n",
       "                for (var i = 0; i < nbb_cells.length; ++i) {\n",
       "                    if (nbb_cells[i].input_prompt_number == nbb_cell_id) {\n",
       "                        if (nbb_cells[i].get_text() == nbb_unformatted_code) {\n",
       "                             nbb_cells[i].set_text(nbb_formatted_code);\n",
       "                        }\n",
       "                        break;\n",
       "                    }\n",
       "                }\n",
       "            }, 500);\n",
       "            "
      ],
      "text/plain": [
       "<IPython.core.display.Javascript object>"
      ]
     },
     "metadata": {},
     "output_type": "display_data"
    }
   ],
   "source": [
    "# fill missing values with mean and median\n",
    "df['Engine'].fillna(df['Engine'].median(), inplace=True)\n",
    "df['Power'].fillna(df['Power'].median(), inplace=True)\n",
    "df['Mileage'].fillna(df['Mileage'].mean(), inplace=True)\n",
    "df['Seats'].fillna(df['Seats'].median(), inplace=True)\n",
    "df.dropna(subset = [\"Price\"], inplace=True)#drop missing values in price column\n",
    "\n"
   ]
  },
  {
   "cell_type": "markdown",
   "metadata": {
    "id": "-AE6CTfxqH0-"
   },
   "source": [
    "### Categorical Variable Analysis"
   ]
  },
  {
   "cell_type": "markdown",
   "metadata": {},
   "source": [
    "We will be including *Seats* in this analysis"
   ]
  },
  {
   "cell_type": "markdown",
   "metadata": {},
   "source": [
    "**Let's convert the *object* type columns to *category* type**"
   ]
  },
  {
   "cell_type": "code",
   "execution_count": 26,
   "metadata": {},
   "outputs": [
    {
     "data": {
      "application/javascript": [
       "\n",
       "            setTimeout(function() {\n",
       "                var nbb_cell_id = 26;\n",
       "                var nbb_unformatted_code = \"#convert to category datatype\\ndf[\\\"Location\\\"] = df[\\\"Location\\\"].astype(\\\"category\\\")\\ndf[\\\"Fuel_Type\\\"] = df[\\\"Fuel_Type\\\"].astype(\\\"category\\\")\\ndf[\\\"Transmission\\\"] = df[\\\"Transmission\\\"].astype(\\\"category\\\")\\ndf[\\\"Owner_Type\\\"] = df[\\\"Owner_Type\\\"].astype(\\\"category\\\")\\ndf[\\\"Seats\\\"] = df[\\\"Seats\\\"].astype(\\\"category\\\")\";\n",
       "                var nbb_formatted_code = \"# convert to category datatype\\ndf[\\\"Location\\\"] = df[\\\"Location\\\"].astype(\\\"category\\\")\\ndf[\\\"Fuel_Type\\\"] = df[\\\"Fuel_Type\\\"].astype(\\\"category\\\")\\ndf[\\\"Transmission\\\"] = df[\\\"Transmission\\\"].astype(\\\"category\\\")\\ndf[\\\"Owner_Type\\\"] = df[\\\"Owner_Type\\\"].astype(\\\"category\\\")\\ndf[\\\"Seats\\\"] = df[\\\"Seats\\\"].astype(\\\"category\\\")\";\n",
       "                var nbb_cells = Jupyter.notebook.get_cells();\n",
       "                for (var i = 0; i < nbb_cells.length; ++i) {\n",
       "                    if (nbb_cells[i].input_prompt_number == nbb_cell_id) {\n",
       "                        if (nbb_cells[i].get_text() == nbb_unformatted_code) {\n",
       "                             nbb_cells[i].set_text(nbb_formatted_code);\n",
       "                        }\n",
       "                        break;\n",
       "                    }\n",
       "                }\n",
       "            }, 500);\n",
       "            "
      ],
      "text/plain": [
       "<IPython.core.display.Javascript object>"
      ]
     },
     "metadata": {},
     "output_type": "display_data"
    }
   ],
   "source": [
    "#convert to category datatype\n",
    "df[\"Location\"] = df[\"Location\"].astype(\"category\")\n",
    "df[\"Fuel_Type\"] = df[\"Fuel_Type\"].astype(\"category\")\n",
    "df[\"Transmission\"] = df[\"Transmission\"].astype(\"category\")\n",
    "df[\"Owner_Type\"] = df[\"Owner_Type\"].astype(\"category\")\n",
    "df[\"Seats\"] = df[\"Seats\"].astype(\"category\")\n"
   ]
  },
  {
   "cell_type": "code",
   "execution_count": 27,
   "metadata": {},
   "outputs": [
    {
     "data": {
      "application/javascript": [
       "\n",
       "            setTimeout(function() {\n",
       "                var nbb_cell_id = 27;\n",
       "                var nbb_unformatted_code = \"def count_percent(plot, variable):  # function to get countplot percentages\\n    total = len(variable)  # length of the variable\\n    for i in perc.patches:\\n        percentage = \\\"{:.1f}%\\\".format(\\n            100 * i.get_height() / total\\n        )  # percentage of each class of the category\\n        x = i.get_x() + i.get_width() / 2 - 0.05  # width of the plot\\n        y = i.get_y() + i.get_height()  # height of the plot\\n        perc.annotate(percentage, (x, y), size=20)  # annotate the percantage\";\n",
       "                var nbb_formatted_code = \"def count_percent(plot, variable):  # function to get countplot percentages\\n    total = len(variable)  # length of the variable\\n    for i in perc.patches:\\n        percentage = \\\"{:.1f}%\\\".format(\\n            100 * i.get_height() / total\\n        )  # percentage of each class of the category\\n        x = i.get_x() + i.get_width() / 2 - 0.05  # width of the plot\\n        y = i.get_y() + i.get_height()  # height of the plot\\n        perc.annotate(percentage, (x, y), size=20)  # annotate the percantage\";\n",
       "                var nbb_cells = Jupyter.notebook.get_cells();\n",
       "                for (var i = 0; i < nbb_cells.length; ++i) {\n",
       "                    if (nbb_cells[i].input_prompt_number == nbb_cell_id) {\n",
       "                        if (nbb_cells[i].get_text() == nbb_unformatted_code) {\n",
       "                             nbb_cells[i].set_text(nbb_formatted_code);\n",
       "                        }\n",
       "                        break;\n",
       "                    }\n",
       "                }\n",
       "            }, 500);\n",
       "            "
      ],
      "text/plain": [
       "<IPython.core.display.Javascript object>"
      ]
     },
     "metadata": {},
     "output_type": "display_data"
    }
   ],
   "source": [
    "def count_percent(plot, variable):  # function to get countplot percentages\n",
    "    total = len(variable)  # length of the variable\n",
    "    for i in perc.patches:\n",
    "        percentage = \"{:.1f}%\".format(\n",
    "            100 * i.get_height() / total\n",
    "        )  # percentage of each class of the category\n",
    "        x = i.get_x() + i.get_width() / 2 - 0.05  # width of the plot\n",
    "        y = i.get_y() + i.get_height()  # height of the plot\n",
    "        perc.annotate(percentage, (x, y), size=20)  # annotate the percantage"
   ]
  },
  {
   "cell_type": "markdown",
   "metadata": {},
   "source": [
    "### Location"
   ]
  },
  {
   "cell_type": "code",
   "execution_count": 28,
   "metadata": {},
   "outputs": [
    {
     "data": {
      "image/png": "[encoded data removed]",
      "text/plain": [
       "<Figure size 1584x720 with 1 Axes>"
      ]
     },
     "metadata": {
      "needs_background": "light"
     },
     "output_type": "display_data"
    },
    {
     "data": {
      "application/javascript": [
       "\n",
       "            setTimeout(function() {\n",
       "                var nbb_cell_id = 28;\n",
       "                var nbb_unformatted_code = \"plt.figure(figsize=(22, 10))\\nperc = sns.countplot(df[\\\"Location\\\"], palette=\\\"Set1\\\")\\ncount_percent(perc, df[\\\"Location\\\"])\";\n",
       "                var nbb_formatted_code = \"plt.figure(figsize=(22, 10))\\nperc = sns.countplot(df[\\\"Location\\\"], palette=\\\"Set1\\\")\\ncount_percent(perc, df[\\\"Location\\\"])\";\n",
       "                var nbb_cells = Jupyter.notebook.get_cells();\n",
       "                for (var i = 0; i < nbb_cells.length; ++i) {\n",
       "                    if (nbb_cells[i].input_prompt_number == nbb_cell_id) {\n",
       "                        if (nbb_cells[i].get_text() == nbb_unformatted_code) {\n",
       "                             nbb_cells[i].set_text(nbb_formatted_code);\n",
       "                        }\n",
       "                        break;\n",
       "                    }\n",
       "                }\n",
       "            }, 500);\n",
       "            "
      ],
      "text/plain": [
       "<IPython.core.display.Javascript object>"
      ]
     },
     "metadata": {},
     "output_type": "display_data"
    }
   ],
   "source": [
    "plt.figure(figsize=(22, 10))\n",
    "perc = sns.countplot(df[\"Location\"], palette=\"Set1\")\n",
    "count_percent(perc, df[\"Location\"])"
   ]
  },
  {
   "cell_type": "markdown",
   "metadata": {},
   "source": [
    "**Observation**\n",
    "* Mumbai is the location with the highest percentage of used cars sold and Ahmedabad the lowest."
   ]
  },
  {
   "cell_type": "markdown",
   "metadata": {},
   "source": [
    "### Fuel Type"
   ]
  },
  {
   "cell_type": "code",
   "execution_count": 29,
   "metadata": {},
   "outputs": [
    {
     "data": {
      "image/png": "[encoded data removed]",
      "text/plain": [
       "<Figure size 576x432 with 1 Axes>"
      ]
     },
     "metadata": {
      "needs_background": "light"
     },
     "output_type": "display_data"
    },
    {
     "data": {
      "application/javascript": [
       "\n",
       "            setTimeout(function() {\n",
       "                var nbb_cell_id = 29;\n",
       "                var nbb_unformatted_code = \"plt.figure(figsize=(8, 6))\\nperc = sns.countplot(df[\\\"Fuel_Type\\\"], palette=\\\"Set1\\\")\\ncount_percent(perc, df[\\\"Fuel_Type\\\"])\";\n",
       "                var nbb_formatted_code = \"plt.figure(figsize=(8, 6))\\nperc = sns.countplot(df[\\\"Fuel_Type\\\"], palette=\\\"Set1\\\")\\ncount_percent(perc, df[\\\"Fuel_Type\\\"])\";\n",
       "                var nbb_cells = Jupyter.notebook.get_cells();\n",
       "                for (var i = 0; i < nbb_cells.length; ++i) {\n",
       "                    if (nbb_cells[i].input_prompt_number == nbb_cell_id) {\n",
       "                        if (nbb_cells[i].get_text() == nbb_unformatted_code) {\n",
       "                             nbb_cells[i].set_text(nbb_formatted_code);\n",
       "                        }\n",
       "                        break;\n",
       "                    }\n",
       "                }\n",
       "            }, 500);\n",
       "            "
      ],
      "text/plain": [
       "<IPython.core.display.Javascript object>"
      ]
     },
     "metadata": {},
     "output_type": "display_data"
    }
   ],
   "source": [
    "plt.figure(figsize=(8, 6))\n",
    "perc = sns.countplot(df[\"Fuel_Type\"], palette=\"Set1\")\n",
    "count_percent(perc, df[\"Fuel_Type\"])"
   ]
  },
  {
   "cell_type": "markdown",
   "metadata": {},
   "source": [
    "**Observation**\n",
    "* Diesel and Petrol are the dominant fuel types both adding up to 98.8% of the used car's fuel types."
   ]
  },
  {
   "cell_type": "markdown",
   "metadata": {},
   "source": [
    "### Transmission"
   ]
  },
  {
   "cell_type": "code",
   "execution_count": 30,
   "metadata": {},
   "outputs": [
    {
     "data": {
      "image/png": "[encoded data removed]",
      "text/plain": [
       "<Figure size 576x432 with 1 Axes>"
      ]
     },
     "metadata": {
      "needs_background": "light"
     },
     "output_type": "display_data"
    },
    {
     "data": {
      "application/javascript": [
       "\n",
       "            setTimeout(function() {\n",
       "                var nbb_cell_id = 30;\n",
       "                var nbb_unformatted_code = \"plt.figure(figsize=(8, 6))\\nperc = sns.countplot(df['Transmission'], palette=\\\"Set1\\\")\\ncount_percent(perc, df['Transmission'])\";\n",
       "                var nbb_formatted_code = \"plt.figure(figsize=(8, 6))\\nperc = sns.countplot(df[\\\"Transmission\\\"], palette=\\\"Set1\\\")\\ncount_percent(perc, df[\\\"Transmission\\\"])\";\n",
       "                var nbb_cells = Jupyter.notebook.get_cells();\n",
       "                for (var i = 0; i < nbb_cells.length; ++i) {\n",
       "                    if (nbb_cells[i].input_prompt_number == nbb_cell_id) {\n",
       "                        if (nbb_cells[i].get_text() == nbb_unformatted_code) {\n",
       "                             nbb_cells[i].set_text(nbb_formatted_code);\n",
       "                        }\n",
       "                        break;\n",
       "                    }\n",
       "                }\n",
       "            }, 500);\n",
       "            "
      ],
      "text/plain": [
       "<IPython.core.display.Javascript object>"
      ]
     },
     "metadata": {},
     "output_type": "display_data"
    }
   ],
   "source": [
    "plt.figure(figsize=(8, 6))\n",
    "perc = sns.countplot(df['Transmission'], palette=\"Set1\")\n",
    "count_percent(perc, df['Transmission'])\n"
   ]
  },
  {
   "cell_type": "markdown",
   "metadata": {},
   "source": [
    "**Observation**\n",
    "* Manual is the preferred transmission for the used cars."
   ]
  },
  {
   "cell_type": "markdown",
   "metadata": {},
   "source": [
    "### Owner Type"
   ]
  },
  {
   "cell_type": "code",
   "execution_count": 31,
   "metadata": {},
   "outputs": [
    {
     "data": {
      "image/png": "[encoded data removed]",
      "text/plain": [
       "<Figure size 576x432 with 1 Axes>"
      ]
     },
     "metadata": {
      "needs_background": "light"
     },
     "output_type": "display_data"
    },
    {
     "data": {
      "application/javascript": [
       "\n",
       "            setTimeout(function() {\n",
       "                var nbb_cell_id = 31;\n",
       "                var nbb_unformatted_code = \"plt.figure(figsize=(8, 6))\\nperc = sns.countplot(df['Owner_Type'], palette=\\\"Set1\\\")\\ncount_percent(perc, df['Owner_Type'])\";\n",
       "                var nbb_formatted_code = \"plt.figure(figsize=(8, 6))\\nperc = sns.countplot(df[\\\"Owner_Type\\\"], palette=\\\"Set1\\\")\\ncount_percent(perc, df[\\\"Owner_Type\\\"])\";\n",
       "                var nbb_cells = Jupyter.notebook.get_cells();\n",
       "                for (var i = 0; i < nbb_cells.length; ++i) {\n",
       "                    if (nbb_cells[i].input_prompt_number == nbb_cell_id) {\n",
       "                        if (nbb_cells[i].get_text() == nbb_unformatted_code) {\n",
       "                             nbb_cells[i].set_text(nbb_formatted_code);\n",
       "                        }\n",
       "                        break;\n",
       "                    }\n",
       "                }\n",
       "            }, 500);\n",
       "            "
      ],
      "text/plain": [
       "<IPython.core.display.Javascript object>"
      ]
     },
     "metadata": {},
     "output_type": "display_data"
    }
   ],
   "source": [
    "plt.figure(figsize=(8, 6))\n",
    "perc = sns.countplot(df['Owner_Type'], palette=\"Set1\")\n",
    "count_percent(perc, df['Owner_Type'])\n"
   ]
  },
  {
   "cell_type": "markdown",
   "metadata": {},
   "source": [
    "**Observation**\n",
    "* First owners are the most common owner type by a distance, with the rest just addind up to 18.1%."
   ]
  },
  {
   "cell_type": "markdown",
   "metadata": {},
   "source": [
    "### Seats"
   ]
  },
  {
   "cell_type": "code",
   "execution_count": 32,
   "metadata": {},
   "outputs": [
    {
     "data": {
      "image/png": "[encoded data removed]",
      "text/plain": [
       "<Figure size 576x432 with 1 Axes>"
      ]
     },
     "metadata": {
      "needs_background": "light"
     },
     "output_type": "display_data"
    },
    {
     "data": {
      "application/javascript": [
       "\n",
       "            setTimeout(function() {\n",
       "                var nbb_cell_id = 32;\n",
       "                var nbb_unformatted_code = \"plt.figure(figsize=(8, 6))\\nperc = sns.countplot(df['Seats'], palette=\\\"Set1\\\")\\ncount_percent(perc, df['Seats'])\";\n",
       "                var nbb_formatted_code = \"plt.figure(figsize=(8, 6))\\nperc = sns.countplot(df[\\\"Seats\\\"], palette=\\\"Set1\\\")\\ncount_percent(perc, df[\\\"Seats\\\"])\";\n",
       "                var nbb_cells = Jupyter.notebook.get_cells();\n",
       "                for (var i = 0; i < nbb_cells.length; ++i) {\n",
       "                    if (nbb_cells[i].input_prompt_number == nbb_cell_id) {\n",
       "                        if (nbb_cells[i].get_text() == nbb_unformatted_code) {\n",
       "                             nbb_cells[i].set_text(nbb_formatted_code);\n",
       "                        }\n",
       "                        break;\n",
       "                    }\n",
       "                }\n",
       "            }, 500);\n",
       "            "
      ],
      "text/plain": [
       "<IPython.core.display.Javascript object>"
      ]
     },
     "metadata": {},
     "output_type": "display_data"
    }
   ],
   "source": [
    "plt.figure(figsize=(8, 6))\n",
    "perc = sns.countplot(df['Seats'], palette=\"Set1\")\n",
    "count_percent(perc, df['Seats'])\n"
   ]
  },
  {
   "cell_type": "markdown",
   "metadata": {},
   "source": [
    "**Observation**\n",
    "* 84% of the cars have 5 seats and 11.2% have 7 seats."
   ]
  },
  {
   "cell_type": "markdown",
   "metadata": {
    "id": "O32ykz2qqH1E"
   },
   "source": [
    "## Bivariate Analysis"
   ]
  },
  {
   "cell_type": "markdown",
   "metadata": {
    "id": "SPAtdDVPqH1f"
   },
   "source": [
    "### Let's look at correlations"
   ]
  },
  {
   "cell_type": "code",
   "execution_count": 33,
   "metadata": {
    "id": "LmjTu-ozqH1g",
    "outputId": "dd17e648-aee7-472a-acde-5b14c06e69f6"
   },
   "outputs": [
    {
     "data": {
      "text/plain": [
       "<AxesSubplot:>"
      ]
     },
     "execution_count": 33,
     "metadata": {},
     "output_type": "execute_result"
    },
    {
     "data": {
      "image/png": "[encoded data removed]",
      "text/plain": [
       "<Figure size 1080x576 with 2 Axes>"
      ]
     },
     "metadata": {
      "needs_background": "light"
     },
     "output_type": "display_data"
    },
    {
     "data": {
      "application/javascript": [
       "\n",
       "            setTimeout(function() {\n",
       "                var nbb_cell_id = 33;\n",
       "                var nbb_unformatted_code = \"num_col = df.select_dtypes(include=np.number).columns.tolist()\\nnum_col.remove(\\\"Year\\\")  # dropping year column as it is temporal variable\\ncorr = (\\n    df[num_col].corr().sort_values(by=[\\\"Price\\\"], ascending=False)\\n)  # sorting correlations w.r.t life expectancy\\n\\n# Set up the matplotlib figure\\nf, ax = plt.subplots(figsize=(15, 8))\\n\\n# Draw the heatmap with the mask and correct aspect ratio\\nsns.heatmap(\\n    corr,\\n    annot=True,\\n    fmt=\\\".1f\\\",\\n    vmin=-1,\\n    vmax=1,\\n    center=0,\\n    square=False,\\n    linewidths=0.7,\\n    cbar_kws={\\\"shrink\\\": 0.5},\\n)\";\n",
       "                var nbb_formatted_code = \"num_col = df.select_dtypes(include=np.number).columns.tolist()\\nnum_col.remove(\\\"Year\\\")  # dropping year column as it is temporal variable\\ncorr = (\\n    df[num_col].corr().sort_values(by=[\\\"Price\\\"], ascending=False)\\n)  # sorting correlations w.r.t life expectancy\\n\\n# Set up the matplotlib figure\\nf, ax = plt.subplots(figsize=(15, 8))\\n\\n# Draw the heatmap with the mask and correct aspect ratio\\nsns.heatmap(\\n    corr,\\n    annot=True,\\n    fmt=\\\".1f\\\",\\n    vmin=-1,\\n    vmax=1,\\n    center=0,\\n    square=False,\\n    linewidths=0.7,\\n    cbar_kws={\\\"shrink\\\": 0.5},\\n)\";\n",
       "                var nbb_cells = Jupyter.notebook.get_cells();\n",
       "                for (var i = 0; i < nbb_cells.length; ++i) {\n",
       "                    if (nbb_cells[i].input_prompt_number == nbb_cell_id) {\n",
       "                        if (nbb_cells[i].get_text() == nbb_unformatted_code) {\n",
       "                             nbb_cells[i].set_text(nbb_formatted_code);\n",
       "                        }\n",
       "                        break;\n",
       "                    }\n",
       "                }\n",
       "            }, 500);\n",
       "            "
      ],
      "text/plain": [
       "<IPython.core.display.Javascript object>"
      ]
     },
     "metadata": {},
     "output_type": "display_data"
    }
   ],
   "source": [
    "num_col = df.select_dtypes(include=np.number).columns.tolist()\n",
    "num_col.remove(\"Year\")  # dropping year column as it is temporal variable\n",
    "corr = (\n",
    "    df[num_col].corr().sort_values(by=[\"Price\"], ascending=False)\n",
    ")  # sorting correlations w.r.t life expectancy\n",
    "\n",
    "# Set up the matplotlib figure\n",
    "f, ax = plt.subplots(figsize=(15, 8))\n",
    "\n",
    "# Draw the heatmap with the mask and correct aspect ratio\n",
    "sns.heatmap(\n",
    "    corr,\n",
    "    annot=True,\n",
    "    fmt=\".1f\",\n",
    "    vmin=-1,\n",
    "    vmax=1,\n",
    "    center=0,\n",
    "    square=False,\n",
    "    linewidths=0.7,\n",
    "    cbar_kws={\"shrink\": 0.5},\n",
    ")"
   ]
  },
  {
   "cell_type": "markdown",
   "metadata": {
    "id": "Kmt2DS6iqH1k"
   },
   "source": [
    "**Observations**\n",
    "\n",
    "* *Price* is highly positively correlated with *Engine* and *Power*, which means that as Engine and Power increases, Price tends to increase.\n",
    "* There is high positive correlation between *Engine* and *Power*\n",
    "* *Mileage* seems to be negatively correlated with *Engine* and *Power*, which could indicate that as Engine and Power increases, Mileage might decrease slightly."
   ]
  },
  {
   "cell_type": "markdown",
   "metadata": {
    "id": "EXeqlRxzqH1l"
   },
   "source": [
    "### Let's look at the graphs of a few variables with *Price*."
   ]
  },
  {
   "cell_type": "markdown",
   "metadata": {
    "id": "P2JNbl0vqH1l"
   },
   "source": [
    "***Price* vs *Power* vs *Transmission***"
   ]
  },
  {
   "cell_type": "code",
   "execution_count": 34,
   "metadata": {
    "id": "-eso8XKuqH1m",
    "outputId": "296b095c-d7cb-419e-a95d-769a31750150"
   },
   "outputs": [
    {
     "data": {
      "text/plain": [
       "<AxesSubplot:xlabel='Power', ylabel='Price'>"
      ]
     },
     "execution_count": 34,
     "metadata": {},
     "output_type": "execute_result"
    },
    {
     "data": {
      "image/png": "[encoded data removed]",
      "text/plain": [
       "<Figure size 720x504 with 1 Axes>"
      ]
     },
     "metadata": {
      "needs_background": "light"
     },
     "output_type": "display_data"
    },
    {
     "data": {
      "application/javascript": [
       "\n",
       "            setTimeout(function() {\n",
       "                var nbb_cell_id = 34;\n",
       "                var nbb_unformatted_code = \"plt.figure(figsize=(10, 7))\\nsns.scatterplot(y=\\\"Price\\\", x=\\\"Power\\\", hue=\\\"Transmission\\\", data=df)\";\n",
       "                var nbb_formatted_code = \"plt.figure(figsize=(10, 7))\\nsns.scatterplot(y=\\\"Price\\\", x=\\\"Power\\\", hue=\\\"Transmission\\\", data=df)\";\n",
       "                var nbb_cells = Jupyter.notebook.get_cells();\n",
       "                for (var i = 0; i < nbb_cells.length; ++i) {\n",
       "                    if (nbb_cells[i].input_prompt_number == nbb_cell_id) {\n",
       "                        if (nbb_cells[i].get_text() == nbb_unformatted_code) {\n",
       "                             nbb_cells[i].set_text(nbb_formatted_code);\n",
       "                        }\n",
       "                        break;\n",
       "                    }\n",
       "                }\n",
       "            }, 500);\n",
       "            "
      ],
      "text/plain": [
       "<IPython.core.display.Javascript object>"
      ]
     },
     "metadata": {},
     "output_type": "display_data"
    }
   ],
   "source": [
    "plt.figure(figsize=(10, 7))\n",
    "sns.scatterplot(y=\"Price\", x=\"Power\", hue=\"Transmission\", data=df)"
   ]
  },
  {
   "cell_type": "markdown",
   "metadata": {
    "id": "uQe-C33TqH1y"
   },
   "source": [
    "**Observations**\n",
    "* Price seems to increase with higher Power.\n",
    "* Automatic cars have more maximum power than Manual cars."
   ]
  },
  {
   "cell_type": "markdown",
   "metadata": {
    "id": "6jhpZ5fQqH2e"
   },
   "source": [
    "***Price* vs *Fuel_Type***"
   ]
  },
  {
   "cell_type": "code",
   "execution_count": 35,
   "metadata": {
    "id": "GrxzOkw6qH2f",
    "outputId": "2bb5d9b5-9221-4f19-8734-21522e598670"
   },
   "outputs": [
    {
     "data": {
      "text/plain": [
       "<AxesSubplot:xlabel='Fuel_Type', ylabel='Price'>"
      ]
     },
     "execution_count": 35,
     "metadata": {},
     "output_type": "execute_result"
    },
    {
     "data": {
      "image/png": "[encoded data removed]",
      "text/plain": [
       "<Figure size 720x504 with 1 Axes>"
      ]
     },
     "metadata": {
      "needs_background": "light"
     },
     "output_type": "display_data"
    },
    {
     "data": {
      "application/javascript": [
       "\n",
       "            setTimeout(function() {\n",
       "                var nbb_cell_id = 35;\n",
       "                var nbb_unformatted_code = \"plt.figure(figsize=(10, 7))\\nsns.barplot(y=\\\"Price\\\", x=\\\"Fuel_Type\\\", data=df)\";\n",
       "                var nbb_formatted_code = \"plt.figure(figsize=(10, 7))\\nsns.barplot(y=\\\"Price\\\", x=\\\"Fuel_Type\\\", data=df)\";\n",
       "                var nbb_cells = Jupyter.notebook.get_cells();\n",
       "                for (var i = 0; i < nbb_cells.length; ++i) {\n",
       "                    if (nbb_cells[i].input_prompt_number == nbb_cell_id) {\n",
       "                        if (nbb_cells[i].get_text() == nbb_unformatted_code) {\n",
       "                             nbb_cells[i].set_text(nbb_formatted_code);\n",
       "                        }\n",
       "                        break;\n",
       "                    }\n",
       "                }\n",
       "            }, 500);\n",
       "            "
      ],
      "text/plain": [
       "<IPython.core.display.Javascript object>"
      ]
     },
     "metadata": {},
     "output_type": "display_data"
    }
   ],
   "source": [
    "plt.figure(figsize=(10, 7))\n",
    "sns.barplot(y=\"Price\", x=\"Fuel_Type\", data=df)"
   ]
  },
  {
   "cell_type": "markdown",
   "metadata": {
    "id": "PeTiK7M4qH2l"
   },
   "source": [
    "**Observation**\n",
    "* Diesel and Electric fuel types are the most expensive cars.\n",
    "* Petrol, CNG and LPG are more economical choices."
   ]
  },
  {
   "cell_type": "markdown",
   "metadata": {},
   "source": [
    "***Price* vs *Owner_Type***"
   ]
  },
  {
   "cell_type": "code",
   "execution_count": 36,
   "metadata": {},
   "outputs": [
    {
     "data": {
      "text/plain": [
       "<AxesSubplot:xlabel='Owner_Type', ylabel='Price'>"
      ]
     },
     "execution_count": 36,
     "metadata": {},
     "output_type": "execute_result"
    },
    {
     "data": {
      "image/png": "[encoded data removed]",
      "text/plain": [
       "<Figure size 864x504 with 1 Axes>"
      ]
     },
     "metadata": {
      "needs_background": "light"
     },
     "output_type": "display_data"
    },
    {
     "data": {
      "application/javascript": [
       "\n",
       "            setTimeout(function() {\n",
       "                var nbb_cell_id = 36;\n",
       "                var nbb_unformatted_code = \"plt.figure(figsize=(12, 7))\\nsns.stripplot(y=\\\"Price\\\", x=\\\"Owner_Type\\\", data=df)\";\n",
       "                var nbb_formatted_code = \"plt.figure(figsize=(12, 7))\\nsns.stripplot(y=\\\"Price\\\", x=\\\"Owner_Type\\\", data=df)\";\n",
       "                var nbb_cells = Jupyter.notebook.get_cells();\n",
       "                for (var i = 0; i < nbb_cells.length; ++i) {\n",
       "                    if (nbb_cells[i].input_prompt_number == nbb_cell_id) {\n",
       "                        if (nbb_cells[i].get_text() == nbb_unformatted_code) {\n",
       "                             nbb_cells[i].set_text(nbb_formatted_code);\n",
       "                        }\n",
       "                        break;\n",
       "                    }\n",
       "                }\n",
       "            }, 500);\n",
       "            "
      ],
      "text/plain": [
       "<IPython.core.display.Javascript object>"
      ]
     },
     "metadata": {},
     "output_type": "display_data"
    }
   ],
   "source": [
    "plt.figure(figsize=(12, 7))\n",
    "sns.stripplot(y=\"Price\", x=\"Owner_Type\", data=df)"
   ]
  },
  {
   "cell_type": "markdown",
   "metadata": {},
   "source": [
    "**Observation**\n",
    "* There seems to be a relationship between the owner type and price, where the fewer the previous owners the more expensive the car.\n",
    "* First owner has the highest price, followed by Second, Third, Fourth and Above in that order."
   ]
  },
  {
   "cell_type": "markdown",
   "metadata": {},
   "source": [
    "***Price* vs *Seats***"
   ]
  },
  {
   "cell_type": "code",
   "execution_count": 37,
   "metadata": {},
   "outputs": [
    {
     "data": {
      "text/plain": [
       "<AxesSubplot:xlabel='Seats', ylabel='Price'>"
      ]
     },
     "execution_count": 37,
     "metadata": {},
     "output_type": "execute_result"
    },
    {
     "data": {
      "image/png": "[encoded data removed]",
      "text/plain": [
       "<Figure size 864x504 with 1 Axes>"
      ]
     },
     "metadata": {
      "needs_background": "light"
     },
     "output_type": "display_data"
    },
    {
     "data": {
      "application/javascript": [
       "\n",
       "            setTimeout(function() {\n",
       "                var nbb_cell_id = 37;\n",
       "                var nbb_unformatted_code = \"plt.figure(figsize=(12, 7))\\nsns.barplot(y=\\\"Price\\\", x=\\\"Seats\\\", data=df)\";\n",
       "                var nbb_formatted_code = \"plt.figure(figsize=(12, 7))\\nsns.barplot(y=\\\"Price\\\", x=\\\"Seats\\\", data=df)\";\n",
       "                var nbb_cells = Jupyter.notebook.get_cells();\n",
       "                for (var i = 0; i < nbb_cells.length; ++i) {\n",
       "                    if (nbb_cells[i].input_prompt_number == nbb_cell_id) {\n",
       "                        if (nbb_cells[i].get_text() == nbb_unformatted_code) {\n",
       "                             nbb_cells[i].set_text(nbb_formatted_code);\n",
       "                        }\n",
       "                        break;\n",
       "                    }\n",
       "                }\n",
       "            }, 500);\n",
       "            "
      ],
      "text/plain": [
       "<IPython.core.display.Javascript object>"
      ]
     },
     "metadata": {},
     "output_type": "display_data"
    }
   ],
   "source": [
    "plt.figure(figsize=(12, 7))\n",
    "sns.barplot(y=\"Price\", x=\"Seats\", data=df)"
   ]
  },
  {
   "cell_type": "markdown",
   "metadata": {},
   "source": [
    "**Observations**\n",
    "* Two seater cars have the highest price.\n",
    "* Cars with 9 and 10 seats seem to be the least expensive."
   ]
  },
  {
   "cell_type": "markdown",
   "metadata": {},
   "source": [
    "***Price* vs *Location***"
   ]
  },
  {
   "cell_type": "code",
   "execution_count": 38,
   "metadata": {},
   "outputs": [
    {
     "data": {
      "image/png": "[encoded data removed]",
      "text/plain": [
       "<Figure size 1224x648 with 1 Axes>"
      ]
     },
     "metadata": {
      "needs_background": "light"
     },
     "output_type": "display_data"
    },
    {
     "data": {
      "application/javascript": [
       "\n",
       "            setTimeout(function() {\n",
       "                var nbb_cell_id = 38;\n",
       "                var nbb_unformatted_code = \"plt.figure(figsize=(17, 9))\\nsns.barplot(x=\\\"Location\\\", y=\\\"Price\\\", data=df)\\nplt.show()\";\n",
       "                var nbb_formatted_code = \"plt.figure(figsize=(17, 9))\\nsns.barplot(x=\\\"Location\\\", y=\\\"Price\\\", data=df)\\nplt.show()\";\n",
       "                var nbb_cells = Jupyter.notebook.get_cells();\n",
       "                for (var i = 0; i < nbb_cells.length; ++i) {\n",
       "                    if (nbb_cells[i].input_prompt_number == nbb_cell_id) {\n",
       "                        if (nbb_cells[i].get_text() == nbb_unformatted_code) {\n",
       "                             nbb_cells[i].set_text(nbb_formatted_code);\n",
       "                        }\n",
       "                        break;\n",
       "                    }\n",
       "                }\n",
       "            }, 500);\n",
       "            "
      ],
      "text/plain": [
       "<IPython.core.display.Javascript object>"
      ]
     },
     "metadata": {},
     "output_type": "display_data"
    }
   ],
   "source": [
    "plt.figure(figsize=(17, 9))\n",
    "sns.barplot(x=\"Location\", y=\"Price\", data=df)\n",
    "plt.show()"
   ]
  },
  {
   "cell_type": "markdown",
   "metadata": {},
   "source": [
    "**Observation**\n",
    "* The most expensive cars are sold in Coimbatore and Bangalore.\n",
    "* The least expensive are sold in Kolkata and Jaipur."
   ]
  },
  {
   "cell_type": "markdown",
   "metadata": {
    "id": "sr-IUI-DqH3L"
   },
   "source": [
    "**Let's check the variation in *Price* with *Year***"
   ]
  },
  {
   "cell_type": "code",
   "execution_count": 39,
   "metadata": {},
   "outputs": [
    {
     "data": {
      "text/plain": [
       "<AxesSubplot:xlabel='Year', ylabel='Price'>"
      ]
     },
     "execution_count": 39,
     "metadata": {},
     "output_type": "execute_result"
    },
    {
     "data": {
      "image/png": "[encoded data removed]",
      "text/plain": [
       "<Figure size 1584x720 with 1 Axes>"
      ]
     },
     "metadata": {
      "needs_background": "light"
     },
     "output_type": "display_data"
    },
    {
     "data": {
      "application/javascript": [
       "\n",
       "            setTimeout(function() {\n",
       "                var nbb_cell_id = 39;\n",
       "                var nbb_unformatted_code = \"plt.figure(figsize=(22, 10))\\nsns.barplot(x=\\\"Year\\\", y=\\\"Price\\\", data=df, ci=None)\";\n",
       "                var nbb_formatted_code = \"plt.figure(figsize=(22, 10))\\nsns.barplot(x=\\\"Year\\\", y=\\\"Price\\\", data=df, ci=None)\";\n",
       "                var nbb_cells = Jupyter.notebook.get_cells();\n",
       "                for (var i = 0; i < nbb_cells.length; ++i) {\n",
       "                    if (nbb_cells[i].input_prompt_number == nbb_cell_id) {\n",
       "                        if (nbb_cells[i].get_text() == nbb_unformatted_code) {\n",
       "                             nbb_cells[i].set_text(nbb_formatted_code);\n",
       "                        }\n",
       "                        break;\n",
       "                    }\n",
       "                }\n",
       "            }, 500);\n",
       "            "
      ],
      "text/plain": [
       "<IPython.core.display.Javascript object>"
      ]
     },
     "metadata": {},
     "output_type": "display_data"
    }
   ],
   "source": [
    "plt.figure(figsize=(22, 10))\n",
    "sns.barplot(x=\"Year\", y=\"Price\", data=df, ci=None)"
   ]
  },
  {
   "cell_type": "markdown",
   "metadata": {},
   "source": [
    "**Observation**\n",
    "* There seems to be fluctuation in used car prices from 1998 to 2007.\n",
    "* From 2007 there is a steady increase in prices year on year, where newer models of used cars cost more than previous years."
   ]
  },
  {
   "cell_type": "markdown",
   "metadata": {},
   "source": [
    "***Price* vs *Brandname***"
   ]
  },
  {
   "cell_type": "code",
   "execution_count": 40,
   "metadata": {
    "id": "MRcZMFIBqH3M",
    "outputId": "adb48e7f-dbcb-45ec-a840-c9fcd213cde7"
   },
   "outputs": [
    {
     "data": {
      "text/plain": [
       "<AxesSubplot:xlabel='Price', ylabel='Brandname'>"
      ]
     },
     "execution_count": 40,
     "metadata": {},
     "output_type": "execute_result"
    },
    {
     "data": {
      "image/png": "[encoded data removed]",
      "text/plain": [
       "<Figure size 1440x1440 with 1 Axes>"
      ]
     },
     "metadata": {
      "needs_background": "light"
     },
     "output_type": "display_data"
    },
    {
     "data": {
      "application/javascript": [
       "\n",
       "            setTimeout(function() {\n",
       "                var nbb_cell_id = 40;\n",
       "                var nbb_unformatted_code = \"plt.figure(figsize=(20, 20))\\nsns.barplot(y=\\\"Brandname\\\", x=\\\"Price\\\", data=df, ci=None)\";\n",
       "                var nbb_formatted_code = \"plt.figure(figsize=(20, 20))\\nsns.barplot(y=\\\"Brandname\\\", x=\\\"Price\\\", data=df, ci=None)\";\n",
       "                var nbb_cells = Jupyter.notebook.get_cells();\n",
       "                for (var i = 0; i < nbb_cells.length; ++i) {\n",
       "                    if (nbb_cells[i].input_prompt_number == nbb_cell_id) {\n",
       "                        if (nbb_cells[i].get_text() == nbb_unformatted_code) {\n",
       "                             nbb_cells[i].set_text(nbb_formatted_code);\n",
       "                        }\n",
       "                        break;\n",
       "                    }\n",
       "                }\n",
       "            }, 500);\n",
       "            "
      ],
      "text/plain": [
       "<IPython.core.display.Javascript object>"
      ]
     },
     "metadata": {},
     "output_type": "display_data"
    }
   ],
   "source": [
    "plt.figure(figsize=(20, 20))\n",
    "sns.barplot(y=\"Brandname\", x=\"Price\", data=df, ci=None)"
   ]
  },
  {
   "cell_type": "markdown",
   "metadata": {},
   "source": [
    "**There are a lot of unique values in this column. We will attempt to group car brands with similar average prices together for better modelling**"
   ]
  },
  {
   "cell_type": "markdown",
   "metadata": {},
   "source": [
    "## Feature Engineering"
   ]
  },
  {
   "cell_type": "markdown",
   "metadata": {},
   "source": [
    "### Lets us group Brand names"
   ]
  },
  {
   "cell_type": "markdown",
   "metadata": {},
   "source": [
    "First, we will be dropping values with low value counts, which might not be so significant."
   ]
  },
  {
   "cell_type": "code",
   "execution_count": 41,
   "metadata": {},
   "outputs": [
    {
     "data": {
      "text/plain": [
       "Maruti           1211\n",
       "Hyundai          1107\n",
       "Honda             608\n",
       "Toyota            411\n",
       "Mercedes-Benz     318\n",
       "Volkswagen        315\n",
       "Ford              300\n",
       "Mahindra          272\n",
       "BMW               267\n",
       "Audi              236\n",
       "Tata              186\n",
       "Skoda             173\n",
       "Renault           145\n",
       "Chevrolet         121\n",
       "Nissan             91\n",
       "Land               60\n",
       "Jaguar             40\n",
       "Fiat               28\n",
       "Mitsubishi         27\n",
       "Mini               26\n",
       "Volvo              21\n",
       "Porsche            18\n",
       "Jeep               15\n",
       "Datsun             13\n",
       "Force               3\n",
       "ISUZU               2\n",
       "Isuzu               1\n",
       "Ambassador          1\n",
       "Lamborghini         1\n",
       "Smart               1\n",
       "Bentley             1\n",
       "Name: Brandname, dtype: int64"
      ]
     },
     "execution_count": 41,
     "metadata": {},
     "output_type": "execute_result"
    },
    {
     "data": {
      "application/javascript": [
       "\n",
       "            setTimeout(function() {\n",
       "                var nbb_cell_id = 41;\n",
       "                var nbb_unformatted_code = \"df.Brandname.value_counts()\";\n",
       "                var nbb_formatted_code = \"df.Brandname.value_counts()\";\n",
       "                var nbb_cells = Jupyter.notebook.get_cells();\n",
       "                for (var i = 0; i < nbb_cells.length; ++i) {\n",
       "                    if (nbb_cells[i].input_prompt_number == nbb_cell_id) {\n",
       "                        if (nbb_cells[i].get_text() == nbb_unformatted_code) {\n",
       "                             nbb_cells[i].set_text(nbb_formatted_code);\n",
       "                        }\n",
       "                        break;\n",
       "                    }\n",
       "                }\n",
       "            }, 500);\n",
       "            "
      ],
      "text/plain": [
       "<IPython.core.display.Javascript object>"
      ]
     },
     "metadata": {},
     "output_type": "display_data"
    }
   ],
   "source": [
    "df.Brandname.value_counts()"
   ]
  },
  {
   "cell_type": "markdown",
   "metadata": {},
   "source": [
    "* We will be dropping \"Force\",\n",
    "    \"ISUZU\",\n",
    "    \"Isuzu\",\n",
    "    \"Bentley\",\n",
    "    \"Smart\",\n",
    "    \"Ambassador\",\n",
    "    \"Lamborghini\",\n",
    "    \"Hindustan\","
   ]
  },
  {
   "cell_type": "code",
   "execution_count": 42,
   "metadata": {},
   "outputs": [
    {
     "data": {
      "application/javascript": [
       "\n",
       "            setTimeout(function() {\n",
       "                var nbb_cell_id = 42;\n",
       "                var nbb_unformatted_code = \"cd = [\\n    \\\"Force\\\",\\n    \\\"ISUZU\\\",\\n    \\\"Isuzu\\\",\\n    \\\"Bentley\\\",\\n    \\\"Smart\\\",\\n    \\\"Ambassador\\\",\\n    \\\"Lamborghini\\\",\\n    \\\"Hindustan\\\",\\n]  # compiling values in a list\";\n",
       "                var nbb_formatted_code = \"cd = [\\n    \\\"Force\\\",\\n    \\\"ISUZU\\\",\\n    \\\"Isuzu\\\",\\n    \\\"Bentley\\\",\\n    \\\"Smart\\\",\\n    \\\"Ambassador\\\",\\n    \\\"Lamborghini\\\",\\n    \\\"Hindustan\\\",\\n]  # compiling values in a list\";\n",
       "                var nbb_cells = Jupyter.notebook.get_cells();\n",
       "                for (var i = 0; i < nbb_cells.length; ++i) {\n",
       "                    if (nbb_cells[i].input_prompt_number == nbb_cell_id) {\n",
       "                        if (nbb_cells[i].get_text() == nbb_unformatted_code) {\n",
       "                             nbb_cells[i].set_text(nbb_formatted_code);\n",
       "                        }\n",
       "                        break;\n",
       "                    }\n",
       "                }\n",
       "            }, 500);\n",
       "            "
      ],
      "text/plain": [
       "<IPython.core.display.Javascript object>"
      ]
     },
     "metadata": {},
     "output_type": "display_data"
    }
   ],
   "source": [
    "cd = [\n",
    "    \"Force\",\n",
    "    \"ISUZU\",\n",
    "    \"Isuzu\",\n",
    "    \"Bentley\",\n",
    "    \"Smart\",\n",
    "    \"Ambassador\",\n",
    "    \"Lamborghini\",\n",
    "    \"Hindustan\",\n",
    "]  # compiling values in a list"
   ]
  },
  {
   "cell_type": "code",
   "execution_count": 43,
   "metadata": {},
   "outputs": [
    {
     "data": {
      "application/javascript": [
       "\n",
       "            setTimeout(function() {\n",
       "                var nbb_cell_id = 43;\n",
       "                var nbb_unformatted_code = \"# dropping values from Brandname column\\nfor i in cd:\\n    df.drop(df.index[df[\\\"Brandname\\\"] == i], inplace=True)\\n    \";\n",
       "                var nbb_formatted_code = \"# dropping values from Brandname column\\nfor i in cd:\\n    df.drop(df.index[df[\\\"Brandname\\\"] == i], inplace=True)\";\n",
       "                var nbb_cells = Jupyter.notebook.get_cells();\n",
       "                for (var i = 0; i < nbb_cells.length; ++i) {\n",
       "                    if (nbb_cells[i].input_prompt_number == nbb_cell_id) {\n",
       "                        if (nbb_cells[i].get_text() == nbb_unformatted_code) {\n",
       "                             nbb_cells[i].set_text(nbb_formatted_code);\n",
       "                        }\n",
       "                        break;\n",
       "                    }\n",
       "                }\n",
       "            }, 500);\n",
       "            "
      ],
      "text/plain": [
       "<IPython.core.display.Javascript object>"
      ]
     },
     "metadata": {},
     "output_type": "display_data"
    }
   ],
   "source": [
    "# dropping values from Brandname column\n",
    "for i in cd:\n",
    "    df.drop(df.index[df[\"Brandname\"] == i], inplace=True)\n",
    "    \n"
   ]
  },
  {
   "cell_type": "markdown",
   "metadata": {},
   "source": [
    "### We will be creating 5 brand groups based on average prices"
   ]
  },
  {
   "cell_type": "code",
   "execution_count": 44,
   "metadata": {},
   "outputs": [
    {
     "data": {
      "application/javascript": [
       "\n",
       "            setTimeout(function() {\n",
       "                var nbb_cell_id = 44;\n",
       "                var nbb_unformatted_code = \"# creating a dictionary where we hard-code Brandname values into Brand1, Brand2, Brand3, Brand4 and Brand5\\n# These values are grouped based on average prices\\ncars = df.Brandname.tolist()\\ncar_group = dict()\\nfor i in cars:\\n    if (\\n        i == \\\"Chevrolet\\\"\\n        or i == \\\"Datsun\\\"\\n        or i == \\\"Fiat\\\"\\n        or i == \\\"Tata\\\"\\n        or i == \\\"Maruti\\\"\\n        or i == \\\"Nissan\\\"\\n        or i == \\\"Volkswagen\\\"\\n        or i == \\\"Hyundai\\\"\\n        or i == \\\"Honda\\\"\\n        or i == \\\"Renault\\\"\\n    ):\\n        car_group[i] = \\\"Brand1\\\"\\n    elif (\\n        i == \\\"Ford\\\"\\n        or i == \\\"Skoda\\\"\\n        or i == \\\"Mahindra\\\"\\n        or i == \\\"Mitsubishi\\\"\\n        or i == \\\"Toyota\\\"\\n    ):\\n        car_group[i] = \\\"Brand2\\\"\\n    elif i == \\\"Jeep\\\" or i == \\\"Volvo\\\":\\n        car_group[i] = \\\"Brand3\\\"\\n    elif i == \\\"BMW\\\" or i == \\\"Audi\\\" or i == \\\"Mercedes-Benz\\\" or i == \\\"Mini\\\":\\n        car_group[i] = \\\"Brand4\\\"\\n    elif i == \\\"Jaguar\\\" or i == \\\"Land\\\" or i == \\\"Porsche\\\":\\n        car_group[i] = \\\"Brand5\\\"\\n    else:\\n        df.drop(df.index[df[\\\"Brandname\\\"] == i], inplace=True)\";\n",
       "                var nbb_formatted_code = \"# creating a dictionary where we hard-code Brandname values into Brand1, Brand2, Brand3, Brand4 and Brand5\\n# These values are grouped based on average prices\\ncars = df.Brandname.tolist()\\ncar_group = dict()\\nfor i in cars:\\n    if (\\n        i == \\\"Chevrolet\\\"\\n        or i == \\\"Datsun\\\"\\n        or i == \\\"Fiat\\\"\\n        or i == \\\"Tata\\\"\\n        or i == \\\"Maruti\\\"\\n        or i == \\\"Nissan\\\"\\n        or i == \\\"Volkswagen\\\"\\n        or i == \\\"Hyundai\\\"\\n        or i == \\\"Honda\\\"\\n        or i == \\\"Renault\\\"\\n    ):\\n        car_group[i] = \\\"Brand1\\\"\\n    elif (\\n        i == \\\"Ford\\\"\\n        or i == \\\"Skoda\\\"\\n        or i == \\\"Mahindra\\\"\\n        or i == \\\"Mitsubishi\\\"\\n        or i == \\\"Toyota\\\"\\n    ):\\n        car_group[i] = \\\"Brand2\\\"\\n    elif i == \\\"Jeep\\\" or i == \\\"Volvo\\\":\\n        car_group[i] = \\\"Brand3\\\"\\n    elif i == \\\"BMW\\\" or i == \\\"Audi\\\" or i == \\\"Mercedes-Benz\\\" or i == \\\"Mini\\\":\\n        car_group[i] = \\\"Brand4\\\"\\n    elif i == \\\"Jaguar\\\" or i == \\\"Land\\\" or i == \\\"Porsche\\\":\\n        car_group[i] = \\\"Brand5\\\"\\n    else:\\n        df.drop(df.index[df[\\\"Brandname\\\"] == i], inplace=True)\";\n",
       "                var nbb_cells = Jupyter.notebook.get_cells();\n",
       "                for (var i = 0; i < nbb_cells.length; ++i) {\n",
       "                    if (nbb_cells[i].input_prompt_number == nbb_cell_id) {\n",
       "                        if (nbb_cells[i].get_text() == nbb_unformatted_code) {\n",
       "                             nbb_cells[i].set_text(nbb_formatted_code);\n",
       "                        }\n",
       "                        break;\n",
       "                    }\n",
       "                }\n",
       "            }, 500);\n",
       "            "
      ],
      "text/plain": [
       "<IPython.core.display.Javascript object>"
      ]
     },
     "metadata": {},
     "output_type": "display_data"
    }
   ],
   "source": [
    "# creating a dictionary where we hard-code Brandname values into Brand1, Brand2, Brand3, Brand4 and Brand5\n",
    "# These values are grouped based on average prices\n",
    "cars = df.Brandname.tolist()\n",
    "car_group = dict()\n",
    "for i in cars:\n",
    "    if (\n",
    "        i == \"Chevrolet\"\n",
    "        or i == \"Datsun\"\n",
    "        or i == \"Fiat\"\n",
    "        or i == \"Tata\"\n",
    "        or i == \"Maruti\"\n",
    "        or i == \"Nissan\"\n",
    "        or i == \"Volkswagen\"\n",
    "        or i == \"Hyundai\"\n",
    "        or i == \"Honda\"\n",
    "        or i == \"Renault\"\n",
    "    ):\n",
    "        car_group[i] = \"Brand1\"\n",
    "    elif (\n",
    "        i == \"Ford\"\n",
    "        or i == \"Skoda\"\n",
    "        or i == \"Mahindra\"\n",
    "        or i == \"Mitsubishi\"\n",
    "        or i == \"Toyota\"\n",
    "    ):\n",
    "        car_group[i] = \"Brand2\"\n",
    "    elif i == \"Jeep\" or i == \"Volvo\":\n",
    "        car_group[i] = \"Brand3\"\n",
    "    elif i == \"BMW\" or i == \"Audi\" or i == \"Mercedes-Benz\" or i == \"Mini\":\n",
    "        car_group[i] = \"Brand4\"\n",
    "    elif i == \"Jaguar\" or i == \"Land\" or i == \"Porsche\":\n",
    "        car_group[i] = \"Brand5\"\n",
    "    else:\n",
    "        df.drop(df.index[df[\"Brandname\"] == i], inplace=True)"
   ]
  },
  {
   "cell_type": "code",
   "execution_count": 45,
   "metadata": {},
   "outputs": [
    {
     "data": {
      "application/javascript": [
       "\n",
       "            setTimeout(function() {\n",
       "                var nbb_cell_id = 45;\n",
       "                var nbb_unformatted_code = \"# create new column Brandgroup and map brandnames to car_group\\ndf[\\\"Brandgroup\\\"] = df[\\\"Brandname\\\"].map(car_group)\";\n",
       "                var nbb_formatted_code = \"# create new column Brandgroup and map brandnames to car_group\\ndf[\\\"Brandgroup\\\"] = df[\\\"Brandname\\\"].map(car_group)\";\n",
       "                var nbb_cells = Jupyter.notebook.get_cells();\n",
       "                for (var i = 0; i < nbb_cells.length; ++i) {\n",
       "                    if (nbb_cells[i].input_prompt_number == nbb_cell_id) {\n",
       "                        if (nbb_cells[i].get_text() == nbb_unformatted_code) {\n",
       "                             nbb_cells[i].set_text(nbb_formatted_code);\n",
       "                        }\n",
       "                        break;\n",
       "                    }\n",
       "                }\n",
       "            }, 500);\n",
       "            "
      ],
      "text/plain": [
       "<IPython.core.display.Javascript object>"
      ]
     },
     "metadata": {},
     "output_type": "display_data"
    }
   ],
   "source": [
    "# create new column Brandgroup and map brandnames to car_group\n",
    "df[\"Brandgroup\"] = df[\"Brandname\"].map(car_group)"
   ]
  },
  {
   "cell_type": "code",
   "execution_count": 46,
   "metadata": {},
   "outputs": [
    {
     "data": {
      "application/javascript": [
       "\n",
       "            setTimeout(function() {\n",
       "                var nbb_cell_id = 46;\n",
       "                var nbb_unformatted_code = \"# convert to categorical\\ndf[\\\"Brandgroup\\\"] = df[\\\"Brandgroup\\\"].astype(\\\"category\\\")\";\n",
       "                var nbb_formatted_code = \"# convert to categorical\\ndf[\\\"Brandgroup\\\"] = df[\\\"Brandgroup\\\"].astype(\\\"category\\\")\";\n",
       "                var nbb_cells = Jupyter.notebook.get_cells();\n",
       "                for (var i = 0; i < nbb_cells.length; ++i) {\n",
       "                    if (nbb_cells[i].input_prompt_number == nbb_cell_id) {\n",
       "                        if (nbb_cells[i].get_text() == nbb_unformatted_code) {\n",
       "                             nbb_cells[i].set_text(nbb_formatted_code);\n",
       "                        }\n",
       "                        break;\n",
       "                    }\n",
       "                }\n",
       "            }, 500);\n",
       "            "
      ],
      "text/plain": [
       "<IPython.core.display.Javascript object>"
      ]
     },
     "metadata": {},
     "output_type": "display_data"
    }
   ],
   "source": [
    "# convert to categorical\n",
    "df[\"Brandgroup\"] = df[\"Brandgroup\"].astype(\"category\")"
   ]
  },
  {
   "cell_type": "code",
   "execution_count": 47,
   "metadata": {},
   "outputs": [
    {
     "data": {
      "application/javascript": [
       "\n",
       "            setTimeout(function() {\n",
       "                var nbb_cell_id = 47;\n",
       "                var nbb_unformatted_code = \"# now we can drop Brandname and Modelname\\ndf = df.drop([\\\"Brandname\\\", \\\"Modelname\\\"], axis=1)\";\n",
       "                var nbb_formatted_code = \"# now we can drop Brandname and Modelname\\ndf = df.drop([\\\"Brandname\\\", \\\"Modelname\\\"], axis=1)\";\n",
       "                var nbb_cells = Jupyter.notebook.get_cells();\n",
       "                for (var i = 0; i < nbb_cells.length; ++i) {\n",
       "                    if (nbb_cells[i].input_prompt_number == nbb_cell_id) {\n",
       "                        if (nbb_cells[i].get_text() == nbb_unformatted_code) {\n",
       "                             nbb_cells[i].set_text(nbb_formatted_code);\n",
       "                        }\n",
       "                        break;\n",
       "                    }\n",
       "                }\n",
       "            }, 500);\n",
       "            "
      ],
      "text/plain": [
       "<IPython.core.display.Javascript object>"
      ]
     },
     "metadata": {},
     "output_type": "display_data"
    }
   ],
   "source": [
    "# now we can drop Brandname and Modelname\n",
    "df = df.drop([\"Brandname\", \"Modelname\"], axis=1)"
   ]
  },
  {
   "cell_type": "code",
   "execution_count": 48,
   "metadata": {},
   "outputs": [
    {
     "data": {
      "text/html": [
       "<div>\n",
       "<style scoped>\n",
       "    .dataframe tbody tr th:only-of-type {\n",
       "        vertical-align: middle;\n",
       "    }\n",
       "\n",
       "    .dataframe tbody tr th {\n",
       "        vertical-align: top;\n",
       "    }\n",
       "\n",
       "    .dataframe thead th {\n",
       "        text-align: right;\n",
       "    }\n",
       "</style>\n",
       "<table border=\"1\" class=\"dataframe\">\n",
       "  <thead>\n",
       "    <tr style=\"text-align: right;\">\n",
       "      <th></th>\n",
       "      <th>Location</th>\n",
       "      <th>Year</th>\n",
       "      <th>Kilometers_Driven</th>\n",
       "      <th>Fuel_Type</th>\n",
       "      <th>Transmission</th>\n",
       "      <th>Owner_Type</th>\n",
       "      <th>Mileage</th>\n",
       "      <th>Engine</th>\n",
       "      <th>Power</th>\n",
       "      <th>Seats</th>\n",
       "      <th>Price</th>\n",
       "      <th>Brandgroup</th>\n",
       "    </tr>\n",
       "  </thead>\n",
       "  <tbody>\n",
       "    <tr>\n",
       "      <th>0</th>\n",
       "      <td>Mumbai</td>\n",
       "      <td>2010</td>\n",
       "      <td>72000</td>\n",
       "      <td>CNG</td>\n",
       "      <td>Manual</td>\n",
       "      <td>First</td>\n",
       "      <td>26.60</td>\n",
       "      <td>998.0</td>\n",
       "      <td>58.16</td>\n",
       "      <td>5.0</td>\n",
       "      <td>1.75</td>\n",
       "      <td>Brand1</td>\n",
       "    </tr>\n",
       "    <tr>\n",
       "      <th>1</th>\n",
       "      <td>Pune</td>\n",
       "      <td>2015</td>\n",
       "      <td>41000</td>\n",
       "      <td>Diesel</td>\n",
       "      <td>Manual</td>\n",
       "      <td>First</td>\n",
       "      <td>19.67</td>\n",
       "      <td>1582.0</td>\n",
       "      <td>126.20</td>\n",
       "      <td>5.0</td>\n",
       "      <td>12.50</td>\n",
       "      <td>Brand1</td>\n",
       "    </tr>\n",
       "    <tr>\n",
       "      <th>2</th>\n",
       "      <td>Chennai</td>\n",
       "      <td>2011</td>\n",
       "      <td>46000</td>\n",
       "      <td>Petrol</td>\n",
       "      <td>Manual</td>\n",
       "      <td>First</td>\n",
       "      <td>18.20</td>\n",
       "      <td>1199.0</td>\n",
       "      <td>88.70</td>\n",
       "      <td>5.0</td>\n",
       "      <td>4.50</td>\n",
       "      <td>Brand1</td>\n",
       "    </tr>\n",
       "    <tr>\n",
       "      <th>3</th>\n",
       "      <td>Chennai</td>\n",
       "      <td>2012</td>\n",
       "      <td>87000</td>\n",
       "      <td>Diesel</td>\n",
       "      <td>Manual</td>\n",
       "      <td>First</td>\n",
       "      <td>20.77</td>\n",
       "      <td>1248.0</td>\n",
       "      <td>88.76</td>\n",
       "      <td>7.0</td>\n",
       "      <td>6.00</td>\n",
       "      <td>Brand1</td>\n",
       "    </tr>\n",
       "    <tr>\n",
       "      <th>4</th>\n",
       "      <td>Coimbatore</td>\n",
       "      <td>2013</td>\n",
       "      <td>40670</td>\n",
       "      <td>Diesel</td>\n",
       "      <td>Automatic</td>\n",
       "      <td>Second</td>\n",
       "      <td>15.20</td>\n",
       "      <td>1968.0</td>\n",
       "      <td>140.80</td>\n",
       "      <td>5.0</td>\n",
       "      <td>17.74</td>\n",
       "      <td>Brand4</td>\n",
       "    </tr>\n",
       "  </tbody>\n",
       "</table>\n",
       "</div>"
      ],
      "text/plain": [
       "     Location  Year  Kilometers_Driven Fuel_Type Transmission Owner_Type  \\\n",
       "0      Mumbai  2010              72000       CNG       Manual      First   \n",
       "1        Pune  2015              41000    Diesel       Manual      First   \n",
       "2     Chennai  2011              46000    Petrol       Manual      First   \n",
       "3     Chennai  2012              87000    Diesel       Manual      First   \n",
       "4  Coimbatore  2013              40670    Diesel    Automatic     Second   \n",
       "\n",
       "   Mileage  Engine   Power Seats  Price Brandgroup  \n",
       "0    26.60   998.0   58.16   5.0   1.75     Brand1  \n",
       "1    19.67  1582.0  126.20   5.0  12.50     Brand1  \n",
       "2    18.20  1199.0   88.70   5.0   4.50     Brand1  \n",
       "3    20.77  1248.0   88.76   7.0   6.00     Brand1  \n",
       "4    15.20  1968.0  140.80   5.0  17.74     Brand4  "
      ]
     },
     "execution_count": 48,
     "metadata": {},
     "output_type": "execute_result"
    },
    {
     "data": {
      "application/javascript": [
       "\n",
       "            setTimeout(function() {\n",
       "                var nbb_cell_id = 48;\n",
       "                var nbb_unformatted_code = \"df.head()\";\n",
       "                var nbb_formatted_code = \"df.head()\";\n",
       "                var nbb_cells = Jupyter.notebook.get_cells();\n",
       "                for (var i = 0; i < nbb_cells.length; ++i) {\n",
       "                    if (nbb_cells[i].input_prompt_number == nbb_cell_id) {\n",
       "                        if (nbb_cells[i].get_text() == nbb_unformatted_code) {\n",
       "                             nbb_cells[i].set_text(nbb_formatted_code);\n",
       "                        }\n",
       "                        break;\n",
       "                    }\n",
       "                }\n",
       "            }, 500);\n",
       "            "
      ],
      "text/plain": [
       "<IPython.core.display.Javascript object>"
      ]
     },
     "metadata": {},
     "output_type": "display_data"
    }
   ],
   "source": [
    "df.head()"
   ]
  },
  {
   "cell_type": "markdown",
   "metadata": {},
   "source": [
    "### Transforming and standardizing continuous features"
   ]
  },
  {
   "cell_type": "markdown",
   "metadata": {},
   "source": [
    "We will be using the PowerTransformer to perform a Yeo-Johnson power transformation on our numerical data to fix some of the skewness and ensure that our features are normally distributed. "
   ]
  },
  {
   "cell_type": "code",
   "execution_count": 49,
   "metadata": {},
   "outputs": [
    {
     "data": {
      "application/javascript": [
       "\n",
       "            setTimeout(function() {\n",
       "                var nbb_cell_id = 49;\n",
       "                var nbb_unformatted_code = \"from sklearn.preprocessing import PowerTransformer\\n\\npower = PowerTransformer(\\n    method=\\\"yeo-johnson\\\", standardize=True\\n)  # set method to yeo-johnson and standardize to true\";\n",
       "                var nbb_formatted_code = \"from sklearn.preprocessing import PowerTransformer\\n\\npower = PowerTransformer(\\n    method=\\\"yeo-johnson\\\", standardize=True\\n)  # set method to yeo-johnson and standardize to true\";\n",
       "                var nbb_cells = Jupyter.notebook.get_cells();\n",
       "                for (var i = 0; i < nbb_cells.length; ++i) {\n",
       "                    if (nbb_cells[i].input_prompt_number == nbb_cell_id) {\n",
       "                        if (nbb_cells[i].get_text() == nbb_unformatted_code) {\n",
       "                             nbb_cells[i].set_text(nbb_formatted_code);\n",
       "                        }\n",
       "                        break;\n",
       "                    }\n",
       "                }\n",
       "            }, 500);\n",
       "            "
      ],
      "text/plain": [
       "<IPython.core.display.Javascript object>"
      ]
     },
     "metadata": {},
     "output_type": "display_data"
    }
   ],
   "source": [
    "from sklearn.preprocessing import PowerTransformer\n",
    "\n",
    "power = PowerTransformer(\n",
    "    method=\"yeo-johnson\", standardize=True\n",
    ")  # set method to yeo-johnson and standardize to true"
   ]
  },
  {
   "cell_type": "code",
   "execution_count": 50,
   "metadata": {},
   "outputs": [
    {
     "data": {
      "application/javascript": [
       "\n",
       "            setTimeout(function() {\n",
       "                var nbb_cell_id = 50;\n",
       "                var nbb_unformatted_code = \"# apply transformation to features\\ndf[\\\"Engine\\\"] = power.fit_transform(df[[\\\"Engine\\\"]])\\ndf[\\\"Power\\\"] = power.fit_transform(df[[\\\"Power\\\"]])\\ndf[\\\"Mileage\\\"] = power.fit_transform(df[[\\\"Mileage\\\"]])\\ndf[\\\"Price\\\"] = power.fit_transform(df[[\\\"Price\\\"]])\\ndf[\\\"Kilometers_Driven\\\"] = power.fit_transform(df[[\\\"Kilometers_Driven\\\"]])\";\n",
       "                var nbb_formatted_code = \"# apply transformation to features\\ndf[\\\"Engine\\\"] = power.fit_transform(df[[\\\"Engine\\\"]])\\ndf[\\\"Power\\\"] = power.fit_transform(df[[\\\"Power\\\"]])\\ndf[\\\"Mileage\\\"] = power.fit_transform(df[[\\\"Mileage\\\"]])\\ndf[\\\"Price\\\"] = power.fit_transform(df[[\\\"Price\\\"]])\\ndf[\\\"Kilometers_Driven\\\"] = power.fit_transform(df[[\\\"Kilometers_Driven\\\"]])\";\n",
       "                var nbb_cells = Jupyter.notebook.get_cells();\n",
       "                for (var i = 0; i < nbb_cells.length; ++i) {\n",
       "                    if (nbb_cells[i].input_prompt_number == nbb_cell_id) {\n",
       "                        if (nbb_cells[i].get_text() == nbb_unformatted_code) {\n",
       "                             nbb_cells[i].set_text(nbb_formatted_code);\n",
       "                        }\n",
       "                        break;\n",
       "                    }\n",
       "                }\n",
       "            }, 500);\n",
       "            "
      ],
      "text/plain": [
       "<IPython.core.display.Javascript object>"
      ]
     },
     "metadata": {},
     "output_type": "display_data"
    }
   ],
   "source": [
    "# apply transformation to features\n",
    "df[\"Engine\"] = power.fit_transform(df[[\"Engine\"]])\n",
    "df[\"Power\"] = power.fit_transform(df[[\"Power\"]])\n",
    "df[\"Mileage\"] = power.fit_transform(df[[\"Mileage\"]])\n",
    "df[\"Price\"] = power.fit_transform(df[[\"Price\"]])\n",
    "df[\"Kilometers_Driven\"] = power.fit_transform(df[[\"Kilometers_Driven\"]])"
   ]
  },
  {
   "cell_type": "markdown",
   "metadata": {},
   "source": [
    "### Let's visualize the outliers"
   ]
  },
  {
   "cell_type": "code",
   "execution_count": 51,
   "metadata": {},
   "outputs": [
    {
     "data": {
      "image/png": "[encoded data removed]",
      "text/plain": [
       "<Figure size 1440x2160 with 5 Axes>"
      ]
     },
     "metadata": {
      "needs_background": "light"
     },
     "output_type": "display_data"
    },
    {
     "data": {
      "application/javascript": [
       "\n",
       "            setTimeout(function() {\n",
       "                var nbb_cell_id = 51;\n",
       "                var nbb_unformatted_code = \"# let's plot the boxplots of all columns to check for outliers\\nplt.figure(figsize=(20, 30))\\n\\nfor i, variable in enumerate(num_col):\\n    plt.subplot(5, 4, i + 1)\\n    plt.boxplot(df[variable], whis=1.5)\\n    plt.tight_layout()\\n    plt.title(variable)\\n\\nplt.show()\";\n",
       "                var nbb_formatted_code = \"# let's plot the boxplots of all columns to check for outliers\\nplt.figure(figsize=(20, 30))\\n\\nfor i, variable in enumerate(num_col):\\n    plt.subplot(5, 4, i + 1)\\n    plt.boxplot(df[variable], whis=1.5)\\n    plt.tight_layout()\\n    plt.title(variable)\\n\\nplt.show()\";\n",
       "                var nbb_cells = Jupyter.notebook.get_cells();\n",
       "                for (var i = 0; i < nbb_cells.length; ++i) {\n",
       "                    if (nbb_cells[i].input_prompt_number == nbb_cell_id) {\n",
       "                        if (nbb_cells[i].get_text() == nbb_unformatted_code) {\n",
       "                             nbb_cells[i].set_text(nbb_formatted_code);\n",
       "                        }\n",
       "                        break;\n",
       "                    }\n",
       "                }\n",
       "            }, 500);\n",
       "            "
      ],
      "text/plain": [
       "<IPython.core.display.Javascript object>"
      ]
     },
     "metadata": {},
     "output_type": "display_data"
    }
   ],
   "source": [
    "# let's plot the boxplots of all columns to check for outliers\n",
    "plt.figure(figsize=(20, 30))\n",
    "\n",
    "for i, variable in enumerate(num_col):\n",
    "    plt.subplot(5, 4, i + 1)\n",
    "    plt.boxplot(df[variable], whis=1.5)\n",
    "    plt.tight_layout()\n",
    "    plt.title(variable)\n",
    "\n",
    "plt.show()"
   ]
  },
  {
   "cell_type": "markdown",
   "metadata": {},
   "source": [
    "**Observations**\n",
    "* All numerical columns have outliers.\n",
    "* We will treat these outliers as these might adversely affect the predictive power of linear model."
   ]
  },
  {
   "cell_type": "markdown",
   "metadata": {},
   "source": [
    "### Outlier Treatment"
   ]
  },
  {
   "cell_type": "code",
   "execution_count": 52,
   "metadata": {},
   "outputs": [
    {
     "data": {
      "application/javascript": [
       "\n",
       "            setTimeout(function() {\n",
       "                var nbb_cell_id = 52;\n",
       "                var nbb_unformatted_code = \"# Let's treat outliers by flooring and capping\\ndef treat_outliers(df, col):\\n    \\\"\\\"\\\"\\n    treats outliers in a variable\\n    col: str, name of the numerical variable\\n    df: dataframe\\n    col: name of the column\\n    \\\"\\\"\\\"\\n    Q1 = df[col].quantile(0.25)  # 25th quantile\\n    Q3 = df[col].quantile(0.75)  # 75th quantile\\n    IQR = Q3 - Q1\\n    Lower_Whisker = Q1 - 1.5 * IQR\\n    Upper_Whisker = Q3 + 1.5 * IQR\\n\\n    # all the values smaller than Lower_Whisker will be assigned the value of Lower_Whisker\\n    # all the values greater than Upper_Whisker will be assigned the value of Upper_Whisker\\n    df[col] = np.clip(df[col], Lower_Whisker, Upper_Whisker)\\n\\n    return df\\n\\n\\ndef treat_outliers_all(df, col_list):\\n    \\\"\\\"\\\"\\n    treat outlier in all numerical variables\\n    col_list: list of numerical variables\\n    df: data frame\\n    \\\"\\\"\\\"\\n    for c in col_list:\\n        df = treat_outliers(df, c)\\n\\n    return df\";\n",
       "                var nbb_formatted_code = \"# Let's treat outliers by flooring and capping\\ndef treat_outliers(df, col):\\n    \\\"\\\"\\\"\\n    treats outliers in a variable\\n    col: str, name of the numerical variable\\n    df: dataframe\\n    col: name of the column\\n    \\\"\\\"\\\"\\n    Q1 = df[col].quantile(0.25)  # 25th quantile\\n    Q3 = df[col].quantile(0.75)  # 75th quantile\\n    IQR = Q3 - Q1\\n    Lower_Whisker = Q1 - 1.5 * IQR\\n    Upper_Whisker = Q3 + 1.5 * IQR\\n\\n    # all the values smaller than Lower_Whisker will be assigned the value of Lower_Whisker\\n    # all the values greater than Upper_Whisker will be assigned the value of Upper_Whisker\\n    df[col] = np.clip(df[col], Lower_Whisker, Upper_Whisker)\\n\\n    return df\\n\\n\\ndef treat_outliers_all(df, col_list):\\n    \\\"\\\"\\\"\\n    treat outlier in all numerical variables\\n    col_list: list of numerical variables\\n    df: data frame\\n    \\\"\\\"\\\"\\n    for c in col_list:\\n        df = treat_outliers(df, c)\\n\\n    return df\";\n",
       "                var nbb_cells = Jupyter.notebook.get_cells();\n",
       "                for (var i = 0; i < nbb_cells.length; ++i) {\n",
       "                    if (nbb_cells[i].input_prompt_number == nbb_cell_id) {\n",
       "                        if (nbb_cells[i].get_text() == nbb_unformatted_code) {\n",
       "                             nbb_cells[i].set_text(nbb_formatted_code);\n",
       "                        }\n",
       "                        break;\n",
       "                    }\n",
       "                }\n",
       "            }, 500);\n",
       "            "
      ],
      "text/plain": [
       "<IPython.core.display.Javascript object>"
      ]
     },
     "metadata": {},
     "output_type": "display_data"
    }
   ],
   "source": [
    "# Let's treat outliers by flooring and capping\n",
    "def treat_outliers(df, col):\n",
    "    \"\"\"\n",
    "    treats outliers in a variable\n",
    "    col: str, name of the numerical variable\n",
    "    df: dataframe\n",
    "    col: name of the column\n",
    "    \"\"\"\n",
    "    Q1 = df[col].quantile(0.25)  # 25th quantile\n",
    "    Q3 = df[col].quantile(0.75)  # 75th quantile\n",
    "    IQR = Q3 - Q1\n",
    "    Lower_Whisker = Q1 - 1.5 * IQR\n",
    "    Upper_Whisker = Q3 + 1.5 * IQR\n",
    "\n",
    "    # all the values smaller than Lower_Whisker will be assigned the value of Lower_Whisker\n",
    "    # all the values greater than Upper_Whisker will be assigned the value of Upper_Whisker\n",
    "    df[col] = np.clip(df[col], Lower_Whisker, Upper_Whisker)\n",
    "\n",
    "    return df\n",
    "\n",
    "\n",
    "def treat_outliers_all(df, col_list):\n",
    "    \"\"\"\n",
    "    treat outlier in all numerical variables\n",
    "    col_list: list of numerical variables\n",
    "    df: data frame\n",
    "    \"\"\"\n",
    "    for c in col_list:\n",
    "        df = treat_outliers(df, c)\n",
    "\n",
    "    return df"
   ]
  },
  {
   "cell_type": "code",
   "execution_count": 53,
   "metadata": {},
   "outputs": [
    {
     "data": {
      "application/javascript": [
       "\n",
       "            setTimeout(function() {\n",
       "                var nbb_cell_id = 53;\n",
       "                var nbb_unformatted_code = \"# treating outliers\\ndf = treat_outliers_all(df, num_col)\";\n",
       "                var nbb_formatted_code = \"# treating outliers\\ndf = treat_outliers_all(df, num_col)\";\n",
       "                var nbb_cells = Jupyter.notebook.get_cells();\n",
       "                for (var i = 0; i < nbb_cells.length; ++i) {\n",
       "                    if (nbb_cells[i].input_prompt_number == nbb_cell_id) {\n",
       "                        if (nbb_cells[i].get_text() == nbb_unformatted_code) {\n",
       "                             nbb_cells[i].set_text(nbb_formatted_code);\n",
       "                        }\n",
       "                        break;\n",
       "                    }\n",
       "                }\n",
       "            }, 500);\n",
       "            "
      ],
      "text/plain": [
       "<IPython.core.display.Javascript object>"
      ]
     },
     "metadata": {},
     "output_type": "display_data"
    }
   ],
   "source": [
    "# treating outliers\n",
    "df = treat_outliers_all(df, num_col)"
   ]
  },
  {
   "cell_type": "code",
   "execution_count": 54,
   "metadata": {},
   "outputs": [
    {
     "data": {
      "image/png": "[encoded data removed]",
      "text/plain": [
       "<Figure size 1440x2160 with 5 Axes>"
      ]
     },
     "metadata": {
      "needs_background": "light"
     },
     "output_type": "display_data"
    },
    {
     "data": {
      "application/javascript": [
       "\n",
       "            setTimeout(function() {\n",
       "                var nbb_cell_id = 54;\n",
       "                var nbb_unformatted_code = \"# let's look at box plot to see if outliers have been treated or not\\nplt.figure(figsize=(20, 30))\\n\\nfor i, variable in enumerate(num_col):\\n    plt.subplot(5, 4, i + 1)\\n    plt.boxplot(df[variable], whis=1.5)\\n    plt.tight_layout()\\n    plt.title(variable)\\n\\nplt.show()\";\n",
       "                var nbb_formatted_code = \"# let's look at box plot to see if outliers have been treated or not\\nplt.figure(figsize=(20, 30))\\n\\nfor i, variable in enumerate(num_col):\\n    plt.subplot(5, 4, i + 1)\\n    plt.boxplot(df[variable], whis=1.5)\\n    plt.tight_layout()\\n    plt.title(variable)\\n\\nplt.show()\";\n",
       "                var nbb_cells = Jupyter.notebook.get_cells();\n",
       "                for (var i = 0; i < nbb_cells.length; ++i) {\n",
       "                    if (nbb_cells[i].input_prompt_number == nbb_cell_id) {\n",
       "                        if (nbb_cells[i].get_text() == nbb_unformatted_code) {\n",
       "                             nbb_cells[i].set_text(nbb_formatted_code);\n",
       "                        }\n",
       "                        break;\n",
       "                    }\n",
       "                }\n",
       "            }, 500);\n",
       "            "
      ],
      "text/plain": [
       "<IPython.core.display.Javascript object>"
      ]
     },
     "metadata": {},
     "output_type": "display_data"
    }
   ],
   "source": [
    "# let's look at box plot to see if outliers have been treated or not\n",
    "plt.figure(figsize=(20, 30))\n",
    "\n",
    "for i, variable in enumerate(num_col):\n",
    "    plt.subplot(5, 4, i + 1)\n",
    "    plt.boxplot(df[variable], whis=1.5)\n",
    "    plt.tight_layout()\n",
    "    plt.title(variable)\n",
    "\n",
    "plt.show()"
   ]
  },
  {
   "cell_type": "markdown",
   "metadata": {},
   "source": [
    "**Observation**\n",
    "* Outliers seem to be non-existent now from this visualization."
   ]
  },
  {
   "cell_type": "markdown",
   "metadata": {},
   "source": [
    "### Let's see the effect of outlier treatment and transformation on our features"
   ]
  },
  {
   "cell_type": "markdown",
   "metadata": {},
   "source": [
    "### Distribution of numeric variables"
   ]
  },
  {
   "cell_type": "code",
   "execution_count": 55,
   "metadata": {},
   "outputs": [
    {
     "data": {
      "image/png": "[encoded data removed]",
      "text/plain": [
       "<Figure size 1224x5400 with 5 Axes>"
      ]
     },
     "metadata": {
      "needs_background": "light"
     },
     "output_type": "display_data"
    },
    {
     "data": {
      "application/javascript": [
       "\n",
       "            setTimeout(function() {\n",
       "                var nbb_cell_id = 55;\n",
       "                var nbb_unformatted_code = \"# lets plot histogram of all numerical variables\\n\\nall_col = df.select_dtypes(include=np.number).columns.tolist()\\nall_col.remove(\\\"Year\\\")  # excluding year from analysis\\nplt.figure(figsize=(17, 75))\\n\\n\\nfor i in range(len(all_col)):\\n    plt.subplot(18, 3, i + 1)\\n    plt.hist(df[all_col[i]])\\n    # sns.histplot(df[all_col[i]], kde=True)  # you can comment the previous line and run this one to get distribution curves\\n    plt.tight_layout()\\n    plt.title(all_col[i], fontsize=25)\\n\\nplt.show()\";\n",
       "                var nbb_formatted_code = \"# lets plot histogram of all numerical variables\\n\\nall_col = df.select_dtypes(include=np.number).columns.tolist()\\nall_col.remove(\\\"Year\\\")  # excluding year from analysis\\nplt.figure(figsize=(17, 75))\\n\\n\\nfor i in range(len(all_col)):\\n    plt.subplot(18, 3, i + 1)\\n    plt.hist(df[all_col[i]])\\n    # sns.histplot(df[all_col[i]], kde=True)  # you can comment the previous line and run this one to get distribution curves\\n    plt.tight_layout()\\n    plt.title(all_col[i], fontsize=25)\\n\\nplt.show()\";\n",
       "                var nbb_cells = Jupyter.notebook.get_cells();\n",
       "                for (var i = 0; i < nbb_cells.length; ++i) {\n",
       "                    if (nbb_cells[i].input_prompt_number == nbb_cell_id) {\n",
       "                        if (nbb_cells[i].get_text() == nbb_unformatted_code) {\n",
       "                             nbb_cells[i].set_text(nbb_formatted_code);\n",
       "                        }\n",
       "                        break;\n",
       "                    }\n",
       "                }\n",
       "            }, 500);\n",
       "            "
      ],
      "text/plain": [
       "<IPython.core.display.Javascript object>"
      ]
     },
     "metadata": {},
     "output_type": "display_data"
    }
   ],
   "source": [
    "# lets plot histogram of all numerical variables\n",
    "\n",
    "all_col = df.select_dtypes(include=np.number).columns.tolist()\n",
    "all_col.remove(\"Year\")  # excluding year from analysis\n",
    "plt.figure(figsize=(17, 75))\n",
    "\n",
    "\n",
    "for i in range(len(all_col)):\n",
    "    plt.subplot(18, 3, i + 1)\n",
    "    plt.hist(df[all_col[i]])\n",
    "    # sns.histplot(df[all_col[i]], kde=True)  # you can comment the previous line and run this one to get distribution curves\n",
    "    plt.tight_layout()\n",
    "    plt.title(all_col[i], fontsize=25)\n",
    "\n",
    "plt.show()"
   ]
  },
  {
   "cell_type": "markdown",
   "metadata": {},
   "source": [
    "**Observation**\n",
    "* Feature distribution is much improved and closer to normal distribution"
   ]
  },
  {
   "cell_type": "markdown",
   "metadata": {
    "id": "1THqC335b4Yi"
   },
   "source": [
    "## Data Preparation for Modeling"
   ]
  },
  {
   "cell_type": "code",
   "execution_count": 56,
   "metadata": {
    "colab": {
     "base_uri": "https://localhost:8080/",
     "height": 255
    },
    "id": "372WHRhJGpj4",
    "outputId": "fbd1611b-c8c2-43e1-99b9-199c114b4790"
   },
   "outputs": [
    {
     "name": "stdout",
     "output_type": "stream",
     "text": [
      "     Location  Year  Kilometers_Driven Fuel_Type Transmission Owner_Type  \\\n",
      "0      Mumbai  2010           0.574209       CNG       Manual      First   \n",
      "1        Pune  2015          -0.297718    Diesel       Manual      First   \n",
      "2     Chennai  2011          -0.130116    Petrol       Manual      First   \n",
      "3     Chennai  2012           0.898186    Diesel       Manual      First   \n",
      "4  Coimbatore  2013          -0.309295    Diesel    Automatic     Second   \n",
      "\n",
      "    Mileage    Engine     Power Seats Brandgroup  \n",
      "0  1.985385 -1.279377 -1.504560   5.0     Brand1  \n",
      "1  0.303903  0.139176  0.563423   5.0     Brand1  \n",
      "2 -0.031168 -0.699935 -0.303525   5.0     Brand1  \n",
      "3  0.559875 -0.576026 -0.301749   7.0     Brand1  \n",
      "4 -0.688486  0.770572  0.809748   5.0     Brand4  \n",
      "      Price\n",
      "0 -1.584667\n",
      "1  0.881693\n",
      "2 -0.326856\n",
      "3  0.038999\n",
      "4  1.230358\n"
     ]
    },
    {
     "data": {
      "application/javascript": [
       "\n",
       "            setTimeout(function() {\n",
       "                var nbb_cell_id = 56;\n",
       "                var nbb_unformatted_code = \"# defining X and y variables\\nX = df.drop([\\\"Price\\\"], axis=1)\\ny = df[[\\\"Price\\\"]]\\n\\nprint(X.head())\\nprint(y.head())\";\n",
       "                var nbb_formatted_code = \"# defining X and y variables\\nX = df.drop([\\\"Price\\\"], axis=1)\\ny = df[[\\\"Price\\\"]]\\n\\nprint(X.head())\\nprint(y.head())\";\n",
       "                var nbb_cells = Jupyter.notebook.get_cells();\n",
       "                for (var i = 0; i < nbb_cells.length; ++i) {\n",
       "                    if (nbb_cells[i].input_prompt_number == nbb_cell_id) {\n",
       "                        if (nbb_cells[i].get_text() == nbb_unformatted_code) {\n",
       "                             nbb_cells[i].set_text(nbb_formatted_code);\n",
       "                        }\n",
       "                        break;\n",
       "                    }\n",
       "                }\n",
       "            }, 500);\n",
       "            "
      ],
      "text/plain": [
       "<IPython.core.display.Javascript object>"
      ]
     },
     "metadata": {},
     "output_type": "display_data"
    }
   ],
   "source": [
    "# defining X and y variables\n",
    "X = df.drop([\"Price\"], axis=1)\n",
    "y = df[[\"Price\"]]\n",
    "\n",
    "print(X.head())\n",
    "print(y.head())"
   ]
  },
  {
   "cell_type": "code",
   "execution_count": 57,
   "metadata": {
    "colab": {
     "base_uri": "https://localhost:8080/",
     "height": 51
    },
    "id": "jv1XDAV8zQWV",
    "outputId": "535bc68a-fc14-48e3-b28c-708212c3d210"
   },
   "outputs": [
    {
     "name": "stdout",
     "output_type": "stream",
     "text": [
      "(6009, 11)\n",
      "(6009, 1)\n"
     ]
    },
    {
     "data": {
      "application/javascript": [
       "\n",
       "            setTimeout(function() {\n",
       "                var nbb_cell_id = 57;\n",
       "                var nbb_unformatted_code = \"print(X.shape)\\nprint(y.shape)\";\n",
       "                var nbb_formatted_code = \"print(X.shape)\\nprint(y.shape)\";\n",
       "                var nbb_cells = Jupyter.notebook.get_cells();\n",
       "                for (var i = 0; i < nbb_cells.length; ++i) {\n",
       "                    if (nbb_cells[i].input_prompt_number == nbb_cell_id) {\n",
       "                        if (nbb_cells[i].get_text() == nbb_unformatted_code) {\n",
       "                             nbb_cells[i].set_text(nbb_formatted_code);\n",
       "                        }\n",
       "                        break;\n",
       "                    }\n",
       "                }\n",
       "            }, 500);\n",
       "            "
      ],
      "text/plain": [
       "<IPython.core.display.Javascript object>"
      ]
     },
     "metadata": {},
     "output_type": "display_data"
    }
   ],
   "source": [
    "print(X.shape)\n",
    "print(y.shape)"
   ]
  },
  {
   "cell_type": "code",
   "execution_count": 58,
   "metadata": {
    "id": "ibploFW2qH7r",
    "outputId": "318693fd-cf23-478f-bed6-99f14bc4a2ca"
   },
   "outputs": [
    {
     "data": {
      "text/html": [
       "<div>\n",
       "<style scoped>\n",
       "    .dataframe tbody tr th:only-of-type {\n",
       "        vertical-align: middle;\n",
       "    }\n",
       "\n",
       "    .dataframe tbody tr th {\n",
       "        vertical-align: top;\n",
       "    }\n",
       "\n",
       "    .dataframe thead th {\n",
       "        text-align: right;\n",
       "    }\n",
       "</style>\n",
       "<table border=\"1\" class=\"dataframe\">\n",
       "  <thead>\n",
       "    <tr style=\"text-align: right;\">\n",
       "      <th></th>\n",
       "      <th>Year</th>\n",
       "      <th>Kilometers_Driven</th>\n",
       "      <th>Mileage</th>\n",
       "      <th>Engine</th>\n",
       "      <th>Power</th>\n",
       "      <th>Location_Bangalore</th>\n",
       "      <th>Location_Chennai</th>\n",
       "      <th>Location_Coimbatore</th>\n",
       "      <th>Location_Delhi</th>\n",
       "      <th>Location_Hyderabad</th>\n",
       "      <th>Location_Jaipur</th>\n",
       "      <th>Location_Kochi</th>\n",
       "      <th>Location_Kolkata</th>\n",
       "      <th>Location_Mumbai</th>\n",
       "      <th>Location_Pune</th>\n",
       "      <th>Fuel_Type_Diesel</th>\n",
       "      <th>Fuel_Type_Electric</th>\n",
       "      <th>Fuel_Type_LPG</th>\n",
       "      <th>Fuel_Type_Petrol</th>\n",
       "      <th>Transmission_Manual</th>\n",
       "      <th>Owner_Type_Fourth &amp; Above</th>\n",
       "      <th>Owner_Type_Second</th>\n",
       "      <th>Owner_Type_Third</th>\n",
       "      <th>Brandgroup_Brand2</th>\n",
       "      <th>Brandgroup_Brand3</th>\n",
       "      <th>Brandgroup_Brand4</th>\n",
       "      <th>Brandgroup_Brand5</th>\n",
       "      <th>Seats_2.0</th>\n",
       "      <th>Seats_4.0</th>\n",
       "      <th>Seats_5.0</th>\n",
       "      <th>Seats_6.0</th>\n",
       "      <th>Seats_7.0</th>\n",
       "      <th>Seats_8.0</th>\n",
       "      <th>Seats_9.0</th>\n",
       "      <th>Seats_10.0</th>\n",
       "    </tr>\n",
       "  </thead>\n",
       "  <tbody>\n",
       "    <tr>\n",
       "      <th>0</th>\n",
       "      <td>2010</td>\n",
       "      <td>0.574209</td>\n",
       "      <td>1.985385</td>\n",
       "      <td>-1.279377</td>\n",
       "      <td>-1.504560</td>\n",
       "      <td>0</td>\n",
       "      <td>0</td>\n",
       "      <td>0</td>\n",
       "      <td>0</td>\n",
       "      <td>0</td>\n",
       "      <td>0</td>\n",
       "      <td>0</td>\n",
       "      <td>0</td>\n",
       "      <td>1</td>\n",
       "      <td>0</td>\n",
       "      <td>0</td>\n",
       "      <td>0</td>\n",
       "      <td>0</td>\n",
       "      <td>0</td>\n",
       "      <td>1</td>\n",
       "      <td>0</td>\n",
       "      <td>0</td>\n",
       "      <td>0</td>\n",
       "      <td>0</td>\n",
       "      <td>0</td>\n",
       "      <td>0</td>\n",
       "      <td>0</td>\n",
       "      <td>0</td>\n",
       "      <td>0</td>\n",
       "      <td>1</td>\n",
       "      <td>0</td>\n",
       "      <td>0</td>\n",
       "      <td>0</td>\n",
       "      <td>0</td>\n",
       "      <td>0</td>\n",
       "    </tr>\n",
       "    <tr>\n",
       "      <th>1</th>\n",
       "      <td>2015</td>\n",
       "      <td>-0.297718</td>\n",
       "      <td>0.303903</td>\n",
       "      <td>0.139176</td>\n",
       "      <td>0.563423</td>\n",
       "      <td>0</td>\n",
       "      <td>0</td>\n",
       "      <td>0</td>\n",
       "      <td>0</td>\n",
       "      <td>0</td>\n",
       "      <td>0</td>\n",
       "      <td>0</td>\n",
       "      <td>0</td>\n",
       "      <td>0</td>\n",
       "      <td>1</td>\n",
       "      <td>1</td>\n",
       "      <td>0</td>\n",
       "      <td>0</td>\n",
       "      <td>0</td>\n",
       "      <td>1</td>\n",
       "      <td>0</td>\n",
       "      <td>0</td>\n",
       "      <td>0</td>\n",
       "      <td>0</td>\n",
       "      <td>0</td>\n",
       "      <td>0</td>\n",
       "      <td>0</td>\n",
       "      <td>0</td>\n",
       "      <td>0</td>\n",
       "      <td>1</td>\n",
       "      <td>0</td>\n",
       "      <td>0</td>\n",
       "      <td>0</td>\n",
       "      <td>0</td>\n",
       "      <td>0</td>\n",
       "    </tr>\n",
       "    <tr>\n",
       "      <th>2</th>\n",
       "      <td>2011</td>\n",
       "      <td>-0.130116</td>\n",
       "      <td>-0.031168</td>\n",
       "      <td>-0.699935</td>\n",
       "      <td>-0.303525</td>\n",
       "      <td>0</td>\n",
       "      <td>1</td>\n",
       "      <td>0</td>\n",
       "      <td>0</td>\n",
       "      <td>0</td>\n",
       "      <td>0</td>\n",
       "      <td>0</td>\n",
       "      <td>0</td>\n",
       "      <td>0</td>\n",
       "      <td>0</td>\n",
       "      <td>0</td>\n",
       "      <td>0</td>\n",
       "      <td>0</td>\n",
       "      <td>1</td>\n",
       "      <td>1</td>\n",
       "      <td>0</td>\n",
       "      <td>0</td>\n",
       "      <td>0</td>\n",
       "      <td>0</td>\n",
       "      <td>0</td>\n",
       "      <td>0</td>\n",
       "      <td>0</td>\n",
       "      <td>0</td>\n",
       "      <td>0</td>\n",
       "      <td>1</td>\n",
       "      <td>0</td>\n",
       "      <td>0</td>\n",
       "      <td>0</td>\n",
       "      <td>0</td>\n",
       "      <td>0</td>\n",
       "    </tr>\n",
       "    <tr>\n",
       "      <th>3</th>\n",
       "      <td>2012</td>\n",
       "      <td>0.898186</td>\n",
       "      <td>0.559875</td>\n",
       "      <td>-0.576026</td>\n",
       "      <td>-0.301749</td>\n",
       "      <td>0</td>\n",
       "      <td>1</td>\n",
       "      <td>0</td>\n",
       "      <td>0</td>\n",
       "      <td>0</td>\n",
       "      <td>0</td>\n",
       "      <td>0</td>\n",
       "      <td>0</td>\n",
       "      <td>0</td>\n",
       "      <td>0</td>\n",
       "      <td>1</td>\n",
       "      <td>0</td>\n",
       "      <td>0</td>\n",
       "      <td>0</td>\n",
       "      <td>1</td>\n",
       "      <td>0</td>\n",
       "      <td>0</td>\n",
       "      <td>0</td>\n",
       "      <td>0</td>\n",
       "      <td>0</td>\n",
       "      <td>0</td>\n",
       "      <td>0</td>\n",
       "      <td>0</td>\n",
       "      <td>0</td>\n",
       "      <td>0</td>\n",
       "      <td>0</td>\n",
       "      <td>1</td>\n",
       "      <td>0</td>\n",
       "      <td>0</td>\n",
       "      <td>0</td>\n",
       "    </tr>\n",
       "    <tr>\n",
       "      <th>4</th>\n",
       "      <td>2013</td>\n",
       "      <td>-0.309295</td>\n",
       "      <td>-0.688486</td>\n",
       "      <td>0.770572</td>\n",
       "      <td>0.809748</td>\n",
       "      <td>0</td>\n",
       "      <td>0</td>\n",
       "      <td>1</td>\n",
       "      <td>0</td>\n",
       "      <td>0</td>\n",
       "      <td>0</td>\n",
       "      <td>0</td>\n",
       "      <td>0</td>\n",
       "      <td>0</td>\n",
       "      <td>0</td>\n",
       "      <td>1</td>\n",
       "      <td>0</td>\n",
       "      <td>0</td>\n",
       "      <td>0</td>\n",
       "      <td>0</td>\n",
       "      <td>0</td>\n",
       "      <td>1</td>\n",
       "      <td>0</td>\n",
       "      <td>0</td>\n",
       "      <td>0</td>\n",
       "      <td>1</td>\n",
       "      <td>0</td>\n",
       "      <td>0</td>\n",
       "      <td>0</td>\n",
       "      <td>1</td>\n",
       "      <td>0</td>\n",
       "      <td>0</td>\n",
       "      <td>0</td>\n",
       "      <td>0</td>\n",
       "      <td>0</td>\n",
       "    </tr>\n",
       "  </tbody>\n",
       "</table>\n",
       "</div>"
      ],
      "text/plain": [
       "   Year  Kilometers_Driven   Mileage    Engine     Power  Location_Bangalore  \\\n",
       "0  2010           0.574209  1.985385 -1.279377 -1.504560                   0   \n",
       "1  2015          -0.297718  0.303903  0.139176  0.563423                   0   \n",
       "2  2011          -0.130116 -0.031168 -0.699935 -0.303525                   0   \n",
       "3  2012           0.898186  0.559875 -0.576026 -0.301749                   0   \n",
       "4  2013          -0.309295 -0.688486  0.770572  0.809748                   0   \n",
       "\n",
       "   Location_Chennai  Location_Coimbatore  Location_Delhi  Location_Hyderabad  \\\n",
       "0                 0                    0               0                   0   \n",
       "1                 0                    0               0                   0   \n",
       "2                 1                    0               0                   0   \n",
       "3                 1                    0               0                   0   \n",
       "4                 0                    1               0                   0   \n",
       "\n",
       "   Location_Jaipur  Location_Kochi  Location_Kolkata  Location_Mumbai  \\\n",
       "0                0               0                 0                1   \n",
       "1                0               0                 0                0   \n",
       "2                0               0                 0                0   \n",
       "3                0               0                 0                0   \n",
       "4                0               0                 0                0   \n",
       "\n",
       "   Location_Pune  Fuel_Type_Diesel  Fuel_Type_Electric  Fuel_Type_LPG  \\\n",
       "0              0                 0                   0              0   \n",
       "1              1                 1                   0              0   \n",
       "2              0                 0                   0              0   \n",
       "3              0                 1                   0              0   \n",
       "4              0                 1                   0              0   \n",
       "\n",
       "   Fuel_Type_Petrol  Transmission_Manual  Owner_Type_Fourth & Above  \\\n",
       "0                 0                    1                          0   \n",
       "1                 0                    1                          0   \n",
       "2                 1                    1                          0   \n",
       "3                 0                    1                          0   \n",
       "4                 0                    0                          0   \n",
       "\n",
       "   Owner_Type_Second  Owner_Type_Third  Brandgroup_Brand2  Brandgroup_Brand3  \\\n",
       "0                  0                 0                  0                  0   \n",
       "1                  0                 0                  0                  0   \n",
       "2                  0                 0                  0                  0   \n",
       "3                  0                 0                  0                  0   \n",
       "4                  1                 0                  0                  0   \n",
       "\n",
       "   Brandgroup_Brand4  Brandgroup_Brand5  Seats_2.0  Seats_4.0  Seats_5.0  \\\n",
       "0                  0                  0          0          0          1   \n",
       "1                  0                  0          0          0          1   \n",
       "2                  0                  0          0          0          1   \n",
       "3                  0                  0          0          0          0   \n",
       "4                  1                  0          0          0          1   \n",
       "\n",
       "   Seats_6.0  Seats_7.0  Seats_8.0  Seats_9.0  Seats_10.0  \n",
       "0          0          0          0          0           0  \n",
       "1          0          0          0          0           0  \n",
       "2          0          0          0          0           0  \n",
       "3          0          1          0          0           0  \n",
       "4          0          0          0          0           0  "
      ]
     },
     "execution_count": 58,
     "metadata": {},
     "output_type": "execute_result"
    },
    {
     "data": {
      "application/javascript": [
       "\n",
       "            setTimeout(function() {\n",
       "                var nbb_cell_id = 58;\n",
       "                var nbb_unformatted_code = \"# creating dummy variables\\nX = pd.get_dummies(\\n    X,\\n    columns=[\\n        \\\"Location\\\",\\n        \\\"Fuel_Type\\\",\\n        \\\"Transmission\\\",\\n        \\\"Owner_Type\\\",\\n        \\\"Brandgroup\\\",\\n        \\\"Seats\\\",\\n    ],\\n    drop_first=True,\\n)\\nX.head()\";\n",
       "                var nbb_formatted_code = \"# creating dummy variables\\nX = pd.get_dummies(\\n    X,\\n    columns=[\\n        \\\"Location\\\",\\n        \\\"Fuel_Type\\\",\\n        \\\"Transmission\\\",\\n        \\\"Owner_Type\\\",\\n        \\\"Brandgroup\\\",\\n        \\\"Seats\\\",\\n    ],\\n    drop_first=True,\\n)\\nX.head()\";\n",
       "                var nbb_cells = Jupyter.notebook.get_cells();\n",
       "                for (var i = 0; i < nbb_cells.length; ++i) {\n",
       "                    if (nbb_cells[i].input_prompt_number == nbb_cell_id) {\n",
       "                        if (nbb_cells[i].get_text() == nbb_unformatted_code) {\n",
       "                             nbb_cells[i].set_text(nbb_formatted_code);\n",
       "                        }\n",
       "                        break;\n",
       "                    }\n",
       "                }\n",
       "            }, 500);\n",
       "            "
      ],
      "text/plain": [
       "<IPython.core.display.Javascript object>"
      ]
     },
     "metadata": {},
     "output_type": "display_data"
    }
   ],
   "source": [
    "# creating dummy variables\n",
    "X = pd.get_dummies(\n",
    "    X,\n",
    "    columns=[\n",
    "        \"Location\",\n",
    "        \"Fuel_Type\",\n",
    "        \"Transmission\",\n",
    "        \"Owner_Type\",\n",
    "        \"Brandgroup\",\n",
    "        \"Seats\",\n",
    "    ],\n",
    "    drop_first=True,\n",
    ")\n",
    "X.head()"
   ]
  },
  {
   "cell_type": "code",
   "execution_count": 59,
   "metadata": {
    "id": "CBXfTtAPGoaF"
   },
   "outputs": [
    {
     "data": {
      "application/javascript": [
       "\n",
       "            setTimeout(function() {\n",
       "                var nbb_cell_id = 59;\n",
       "                var nbb_unformatted_code = \"# split the data into train and test\\nfrom sklearn.model_selection import train_test_split\\n\\nX_train, X_test, y_train, y_test = train_test_split(\\n    X, y, test_size=0.3, random_state=42\\n)\";\n",
       "                var nbb_formatted_code = \"# split the data into train and test\\nfrom sklearn.model_selection import train_test_split\\n\\nX_train, X_test, y_train, y_test = train_test_split(\\n    X, y, test_size=0.3, random_state=42\\n)\";\n",
       "                var nbb_cells = Jupyter.notebook.get_cells();\n",
       "                for (var i = 0; i < nbb_cells.length; ++i) {\n",
       "                    if (nbb_cells[i].input_prompt_number == nbb_cell_id) {\n",
       "                        if (nbb_cells[i].get_text() == nbb_unformatted_code) {\n",
       "                             nbb_cells[i].set_text(nbb_formatted_code);\n",
       "                        }\n",
       "                        break;\n",
       "                    }\n",
       "                }\n",
       "            }, 500);\n",
       "            "
      ],
      "text/plain": [
       "<IPython.core.display.Javascript object>"
      ]
     },
     "metadata": {},
     "output_type": "display_data"
    }
   ],
   "source": [
    "# split the data into train and test\n",
    "from sklearn.model_selection import train_test_split\n",
    "\n",
    "X_train, X_test, y_train, y_test = train_test_split(\n",
    "    X, y, test_size=0.3, random_state=42\n",
    ")"
   ]
  },
  {
   "cell_type": "code",
   "execution_count": 60,
   "metadata": {
    "id": "Wahj7soYqH73",
    "outputId": "4a992259-5399-4000-c6af-c99850768df4"
   },
   "outputs": [
    {
     "data": {
      "text/html": [
       "<div>\n",
       "<style scoped>\n",
       "    .dataframe tbody tr th:only-of-type {\n",
       "        vertical-align: middle;\n",
       "    }\n",
       "\n",
       "    .dataframe tbody tr th {\n",
       "        vertical-align: top;\n",
       "    }\n",
       "\n",
       "    .dataframe thead th {\n",
       "        text-align: right;\n",
       "    }\n",
       "</style>\n",
       "<table border=\"1\" class=\"dataframe\">\n",
       "  <thead>\n",
       "    <tr style=\"text-align: right;\">\n",
       "      <th></th>\n",
       "      <th>Year</th>\n",
       "      <th>Kilometers_Driven</th>\n",
       "      <th>Mileage</th>\n",
       "      <th>Engine</th>\n",
       "      <th>Power</th>\n",
       "      <th>Location_Bangalore</th>\n",
       "      <th>Location_Chennai</th>\n",
       "      <th>Location_Coimbatore</th>\n",
       "      <th>Location_Delhi</th>\n",
       "      <th>Location_Hyderabad</th>\n",
       "      <th>Location_Jaipur</th>\n",
       "      <th>Location_Kochi</th>\n",
       "      <th>Location_Kolkata</th>\n",
       "      <th>Location_Mumbai</th>\n",
       "      <th>Location_Pune</th>\n",
       "      <th>Fuel_Type_Diesel</th>\n",
       "      <th>Fuel_Type_Electric</th>\n",
       "      <th>Fuel_Type_LPG</th>\n",
       "      <th>Fuel_Type_Petrol</th>\n",
       "      <th>Transmission_Manual</th>\n",
       "      <th>Owner_Type_Fourth &amp; Above</th>\n",
       "      <th>Owner_Type_Second</th>\n",
       "      <th>Owner_Type_Third</th>\n",
       "      <th>Brandgroup_Brand2</th>\n",
       "      <th>Brandgroup_Brand3</th>\n",
       "      <th>Brandgroup_Brand4</th>\n",
       "      <th>Brandgroup_Brand5</th>\n",
       "      <th>Seats_2.0</th>\n",
       "      <th>Seats_4.0</th>\n",
       "      <th>Seats_5.0</th>\n",
       "      <th>Seats_6.0</th>\n",
       "      <th>Seats_7.0</th>\n",
       "      <th>Seats_8.0</th>\n",
       "      <th>Seats_9.0</th>\n",
       "      <th>Seats_10.0</th>\n",
       "    </tr>\n",
       "  </thead>\n",
       "  <tbody>\n",
       "    <tr>\n",
       "      <th>928</th>\n",
       "      <td>2011</td>\n",
       "      <td>-0.082760</td>\n",
       "      <td>-0.187807</td>\n",
       "      <td>-0.702526</td>\n",
       "      <td>-0.758389</td>\n",
       "      <td>0</td>\n",
       "      <td>0</td>\n",
       "      <td>0</td>\n",
       "      <td>0</td>\n",
       "      <td>0</td>\n",
       "      <td>0</td>\n",
       "      <td>0</td>\n",
       "      <td>0</td>\n",
       "      <td>0</td>\n",
       "      <td>1</td>\n",
       "      <td>0</td>\n",
       "      <td>0</td>\n",
       "      <td>0</td>\n",
       "      <td>1</td>\n",
       "      <td>1</td>\n",
       "      <td>0</td>\n",
       "      <td>0</td>\n",
       "      <td>0</td>\n",
       "      <td>1</td>\n",
       "      <td>0</td>\n",
       "      <td>0</td>\n",
       "      <td>0</td>\n",
       "      <td>0</td>\n",
       "      <td>0</td>\n",
       "      <td>1</td>\n",
       "      <td>0</td>\n",
       "      <td>0</td>\n",
       "      <td>0</td>\n",
       "      <td>0</td>\n",
       "      <td>0</td>\n",
       "    </tr>\n",
       "    <tr>\n",
       "      <th>3266</th>\n",
       "      <td>2015</td>\n",
       "      <td>-2.252771</td>\n",
       "      <td>-1.731648</td>\n",
       "      <td>1.916690</td>\n",
       "      <td>2.424047</td>\n",
       "      <td>0</td>\n",
       "      <td>0</td>\n",
       "      <td>0</td>\n",
       "      <td>0</td>\n",
       "      <td>0</td>\n",
       "      <td>0</td>\n",
       "      <td>0</td>\n",
       "      <td>1</td>\n",
       "      <td>0</td>\n",
       "      <td>0</td>\n",
       "      <td>0</td>\n",
       "      <td>0</td>\n",
       "      <td>0</td>\n",
       "      <td>1</td>\n",
       "      <td>0</td>\n",
       "      <td>0</td>\n",
       "      <td>0</td>\n",
       "      <td>0</td>\n",
       "      <td>0</td>\n",
       "      <td>0</td>\n",
       "      <td>1</td>\n",
       "      <td>0</td>\n",
       "      <td>0</td>\n",
       "      <td>1</td>\n",
       "      <td>0</td>\n",
       "      <td>0</td>\n",
       "      <td>0</td>\n",
       "      <td>0</td>\n",
       "      <td>0</td>\n",
       "      <td>0</td>\n",
       "    </tr>\n",
       "    <tr>\n",
       "      <th>45</th>\n",
       "      <td>2016</td>\n",
       "      <td>0.054291</td>\n",
       "      <td>-0.882438</td>\n",
       "      <td>0.512381</td>\n",
       "      <td>0.765802</td>\n",
       "      <td>0</td>\n",
       "      <td>0</td>\n",
       "      <td>0</td>\n",
       "      <td>0</td>\n",
       "      <td>0</td>\n",
       "      <td>0</td>\n",
       "      <td>0</td>\n",
       "      <td>0</td>\n",
       "      <td>1</td>\n",
       "      <td>0</td>\n",
       "      <td>0</td>\n",
       "      <td>0</td>\n",
       "      <td>0</td>\n",
       "      <td>1</td>\n",
       "      <td>0</td>\n",
       "      <td>0</td>\n",
       "      <td>0</td>\n",
       "      <td>0</td>\n",
       "      <td>1</td>\n",
       "      <td>0</td>\n",
       "      <td>0</td>\n",
       "      <td>0</td>\n",
       "      <td>0</td>\n",
       "      <td>0</td>\n",
       "      <td>1</td>\n",
       "      <td>0</td>\n",
       "      <td>0</td>\n",
       "      <td>0</td>\n",
       "      <td>0</td>\n",
       "      <td>0</td>\n",
       "    </tr>\n",
       "    <tr>\n",
       "      <th>1262</th>\n",
       "      <td>2015</td>\n",
       "      <td>-1.065464</td>\n",
       "      <td>0.218799</td>\n",
       "      <td>0.770572</td>\n",
       "      <td>0.812875</td>\n",
       "      <td>0</td>\n",
       "      <td>0</td>\n",
       "      <td>0</td>\n",
       "      <td>0</td>\n",
       "      <td>0</td>\n",
       "      <td>0</td>\n",
       "      <td>0</td>\n",
       "      <td>0</td>\n",
       "      <td>1</td>\n",
       "      <td>0</td>\n",
       "      <td>1</td>\n",
       "      <td>0</td>\n",
       "      <td>0</td>\n",
       "      <td>0</td>\n",
       "      <td>0</td>\n",
       "      <td>0</td>\n",
       "      <td>0</td>\n",
       "      <td>0</td>\n",
       "      <td>1</td>\n",
       "      <td>0</td>\n",
       "      <td>0</td>\n",
       "      <td>0</td>\n",
       "      <td>0</td>\n",
       "      <td>0</td>\n",
       "      <td>1</td>\n",
       "      <td>0</td>\n",
       "      <td>0</td>\n",
       "      <td>0</td>\n",
       "      <td>0</td>\n",
       "      <td>0</td>\n",
       "    </tr>\n",
       "    <tr>\n",
       "      <th>1097</th>\n",
       "      <td>2014</td>\n",
       "      <td>0.950375</td>\n",
       "      <td>0.851199</td>\n",
       "      <td>0.139176</td>\n",
       "      <td>0.563423</td>\n",
       "      <td>0</td>\n",
       "      <td>0</td>\n",
       "      <td>0</td>\n",
       "      <td>0</td>\n",
       "      <td>0</td>\n",
       "      <td>0</td>\n",
       "      <td>1</td>\n",
       "      <td>0</td>\n",
       "      <td>0</td>\n",
       "      <td>0</td>\n",
       "      <td>1</td>\n",
       "      <td>0</td>\n",
       "      <td>0</td>\n",
       "      <td>0</td>\n",
       "      <td>1</td>\n",
       "      <td>0</td>\n",
       "      <td>0</td>\n",
       "      <td>0</td>\n",
       "      <td>0</td>\n",
       "      <td>0</td>\n",
       "      <td>0</td>\n",
       "      <td>0</td>\n",
       "      <td>0</td>\n",
       "      <td>0</td>\n",
       "      <td>1</td>\n",
       "      <td>0</td>\n",
       "      <td>0</td>\n",
       "      <td>0</td>\n",
       "      <td>0</td>\n",
       "      <td>0</td>\n",
       "    </tr>\n",
       "  </tbody>\n",
       "</table>\n",
       "</div>"
      ],
      "text/plain": [
       "      Year  Kilometers_Driven   Mileage    Engine     Power  \\\n",
       "928   2011          -0.082760 -0.187807 -0.702526 -0.758389   \n",
       "3266  2015          -2.252771 -1.731648  1.916690  2.424047   \n",
       "45    2016           0.054291 -0.882438  0.512381  0.765802   \n",
       "1262  2015          -1.065464  0.218799  0.770572  0.812875   \n",
       "1097  2014           0.950375  0.851199  0.139176  0.563423   \n",
       "\n",
       "      Location_Bangalore  Location_Chennai  Location_Coimbatore  \\\n",
       "928                    0                 0                    0   \n",
       "3266                   0                 0                    0   \n",
       "45                     0                 0                    0   \n",
       "1262                   0                 0                    0   \n",
       "1097                   0                 0                    0   \n",
       "\n",
       "      Location_Delhi  Location_Hyderabad  Location_Jaipur  Location_Kochi  \\\n",
       "928                0                   0                0               0   \n",
       "3266               0                   0                0               0   \n",
       "45                 0                   0                0               0   \n",
       "1262               0                   0                0               0   \n",
       "1097               0                   0                0               1   \n",
       "\n",
       "      Location_Kolkata  Location_Mumbai  Location_Pune  Fuel_Type_Diesel  \\\n",
       "928                  0                0              1                 0   \n",
       "3266                 1                0              0                 0   \n",
       "45                   0                1              0                 0   \n",
       "1262                 0                1              0                 1   \n",
       "1097                 0                0              0                 1   \n",
       "\n",
       "      Fuel_Type_Electric  Fuel_Type_LPG  Fuel_Type_Petrol  \\\n",
       "928                    0              0                 1   \n",
       "3266                   0              0                 1   \n",
       "45                     0              0                 1   \n",
       "1262                   0              0                 0   \n",
       "1097                   0              0                 0   \n",
       "\n",
       "      Transmission_Manual  Owner_Type_Fourth & Above  Owner_Type_Second  \\\n",
       "928                     1                          0                  0   \n",
       "3266                    0                          0                  0   \n",
       "45                      0                          0                  0   \n",
       "1262                    0                          0                  0   \n",
       "1097                    1                          0                  0   \n",
       "\n",
       "      Owner_Type_Third  Brandgroup_Brand2  Brandgroup_Brand3  \\\n",
       "928                  0                  1                  0   \n",
       "3266                 0                  0                  0   \n",
       "45                   0                  1                  0   \n",
       "1262                 0                  1                  0   \n",
       "1097                 0                  0                  0   \n",
       "\n",
       "      Brandgroup_Brand4  Brandgroup_Brand5  Seats_2.0  Seats_4.0  Seats_5.0  \\\n",
       "928                   0                  0          0          0          1   \n",
       "3266                  1                  0          0          1          0   \n",
       "45                    0                  0          0          0          1   \n",
       "1262                  0                  0          0          0          1   \n",
       "1097                  0                  0          0          0          1   \n",
       "\n",
       "      Seats_6.0  Seats_7.0  Seats_8.0  Seats_9.0  Seats_10.0  \n",
       "928           0          0          0          0           0  \n",
       "3266          0          0          0          0           0  \n",
       "45            0          0          0          0           0  \n",
       "1262          0          0          0          0           0  \n",
       "1097          0          0          0          0           0  "
      ]
     },
     "execution_count": 60,
     "metadata": {},
     "output_type": "execute_result"
    },
    {
     "data": {
      "application/javascript": [
       "\n",
       "            setTimeout(function() {\n",
       "                var nbb_cell_id = 60;\n",
       "                var nbb_unformatted_code = \"X_train.head()\";\n",
       "                var nbb_formatted_code = \"X_train.head()\";\n",
       "                var nbb_cells = Jupyter.notebook.get_cells();\n",
       "                for (var i = 0; i < nbb_cells.length; ++i) {\n",
       "                    if (nbb_cells[i].input_prompt_number == nbb_cell_id) {\n",
       "                        if (nbb_cells[i].get_text() == nbb_unformatted_code) {\n",
       "                             nbb_cells[i].set_text(nbb_formatted_code);\n",
       "                        }\n",
       "                        break;\n",
       "                    }\n",
       "                }\n",
       "            }, 500);\n",
       "            "
      ],
      "text/plain": [
       "<IPython.core.display.Javascript object>"
      ]
     },
     "metadata": {},
     "output_type": "display_data"
    }
   ],
   "source": [
    "X_train.head()"
   ]
  },
  {
   "cell_type": "markdown",
   "metadata": {
    "id": "GFPrtqxgCGPX"
   },
   "source": [
    "## Choose, train and evaluate the model"
   ]
  },
  {
   "cell_type": "code",
   "execution_count": 61,
   "metadata": {
    "colab": {
     "base_uri": "https://localhost:8080/",
     "height": 714
    },
    "colab_type": "code",
    "id": "Ycx7GmR3HInW",
    "outputId": "3633bbd2-e65b-4575-a89a-3ca970c18054"
   },
   "outputs": [
    {
     "data": {
      "text/plain": [
       "LinearRegression()"
      ]
     },
     "execution_count": 61,
     "metadata": {},
     "output_type": "execute_result"
    },
    {
     "data": {
      "application/javascript": [
       "\n",
       "            setTimeout(function() {\n",
       "                var nbb_cell_id = 61;\n",
       "                var nbb_unformatted_code = \"# fitting the model on the train data (70% of the whole data)\\nfrom sklearn.linear_model import LinearRegression\\n\\nlinearregression = LinearRegression()\\nlinearregression.fit(X_train, y_train)\";\n",
       "                var nbb_formatted_code = \"# fitting the model on the train data (70% of the whole data)\\nfrom sklearn.linear_model import LinearRegression\\n\\nlinearregression = LinearRegression()\\nlinearregression.fit(X_train, y_train)\";\n",
       "                var nbb_cells = Jupyter.notebook.get_cells();\n",
       "                for (var i = 0; i < nbb_cells.length; ++i) {\n",
       "                    if (nbb_cells[i].input_prompt_number == nbb_cell_id) {\n",
       "                        if (nbb_cells[i].get_text() == nbb_unformatted_code) {\n",
       "                             nbb_cells[i].set_text(nbb_formatted_code);\n",
       "                        }\n",
       "                        break;\n",
       "                    }\n",
       "                }\n",
       "            }, 500);\n",
       "            "
      ],
      "text/plain": [
       "<IPython.core.display.Javascript object>"
      ]
     },
     "metadata": {},
     "output_type": "display_data"
    }
   ],
   "source": [
    "# fitting the model on the train data (70% of the whole data)\n",
    "from sklearn.linear_model import LinearRegression\n",
    "\n",
    "linearregression = LinearRegression()\n",
    "linearregression.fit(X_train, y_train)"
   ]
  },
  {
   "cell_type": "code",
   "execution_count": 62,
   "metadata": {},
   "outputs": [
    {
     "data": {
      "text/html": [
       "<div>\n",
       "<style scoped>\n",
       "    .dataframe tbody tr th:only-of-type {\n",
       "        vertical-align: middle;\n",
       "    }\n",
       "\n",
       "    .dataframe tbody tr th {\n",
       "        vertical-align: top;\n",
       "    }\n",
       "\n",
       "    .dataframe thead th {\n",
       "        text-align: right;\n",
       "    }\n",
       "</style>\n",
       "<table border=\"1\" class=\"dataframe\">\n",
       "  <thead>\n",
       "    <tr style=\"text-align: right;\">\n",
       "      <th></th>\n",
       "      <th>Coefficients</th>\n",
       "    </tr>\n",
       "  </thead>\n",
       "  <tbody>\n",
       "    <tr>\n",
       "      <th>Year</th>\n",
       "      <td>0.135888</td>\n",
       "    </tr>\n",
       "    <tr>\n",
       "      <th>Kilometers_Driven</th>\n",
       "      <td>-0.053143</td>\n",
       "    </tr>\n",
       "    <tr>\n",
       "      <th>Mileage</th>\n",
       "      <td>-0.002774</td>\n",
       "    </tr>\n",
       "    <tr>\n",
       "      <th>Engine</th>\n",
       "      <td>0.151416</td>\n",
       "    </tr>\n",
       "    <tr>\n",
       "      <th>Power</th>\n",
       "      <td>0.345032</td>\n",
       "    </tr>\n",
       "    <tr>\n",
       "      <th>Location_Bangalore</th>\n",
       "      <td>0.145963</td>\n",
       "    </tr>\n",
       "    <tr>\n",
       "      <th>Location_Chennai</th>\n",
       "      <td>-0.006023</td>\n",
       "    </tr>\n",
       "    <tr>\n",
       "      <th>Location_Coimbatore</th>\n",
       "      <td>0.088702</td>\n",
       "    </tr>\n",
       "    <tr>\n",
       "      <th>Location_Delhi</th>\n",
       "      <td>-0.097890</td>\n",
       "    </tr>\n",
       "    <tr>\n",
       "      <th>Location_Hyderabad</th>\n",
       "      <td>0.130691</td>\n",
       "    </tr>\n",
       "    <tr>\n",
       "      <th>Location_Jaipur</th>\n",
       "      <td>-0.072597</td>\n",
       "    </tr>\n",
       "    <tr>\n",
       "      <th>Location_Kochi</th>\n",
       "      <td>-0.065770</td>\n",
       "    </tr>\n",
       "    <tr>\n",
       "      <th>Location_Kolkata</th>\n",
       "      <td>-0.302937</td>\n",
       "    </tr>\n",
       "    <tr>\n",
       "      <th>Location_Mumbai</th>\n",
       "      <td>-0.079851</td>\n",
       "    </tr>\n",
       "    <tr>\n",
       "      <th>Location_Pune</th>\n",
       "      <td>-0.091388</td>\n",
       "    </tr>\n",
       "    <tr>\n",
       "      <th>Fuel_Type_Diesel</th>\n",
       "      <td>0.073424</td>\n",
       "    </tr>\n",
       "    <tr>\n",
       "      <th>Fuel_Type_Electric</th>\n",
       "      <td>1.423381</td>\n",
       "    </tr>\n",
       "    <tr>\n",
       "      <th>Fuel_Type_LPG</th>\n",
       "      <td>-0.070144</td>\n",
       "    </tr>\n",
       "    <tr>\n",
       "      <th>Fuel_Type_Petrol</th>\n",
       "      <td>-0.097306</td>\n",
       "    </tr>\n",
       "    <tr>\n",
       "      <th>Transmission_Manual</th>\n",
       "      <td>-0.148420</td>\n",
       "    </tr>\n",
       "    <tr>\n",
       "      <th>Owner_Type_Fourth &amp; Above</th>\n",
       "      <td>-0.048158</td>\n",
       "    </tr>\n",
       "    <tr>\n",
       "      <th>Owner_Type_Second</th>\n",
       "      <td>-0.096255</td>\n",
       "    </tr>\n",
       "    <tr>\n",
       "      <th>Owner_Type_Third</th>\n",
       "      <td>-0.215183</td>\n",
       "    </tr>\n",
       "    <tr>\n",
       "      <th>Brandgroup_Brand2</th>\n",
       "      <td>0.064629</td>\n",
       "    </tr>\n",
       "    <tr>\n",
       "      <th>Brandgroup_Brand3</th>\n",
       "      <td>0.385659</td>\n",
       "    </tr>\n",
       "    <tr>\n",
       "      <th>Brandgroup_Brand4</th>\n",
       "      <td>0.681967</td>\n",
       "    </tr>\n",
       "    <tr>\n",
       "      <th>Brandgroup_Brand5</th>\n",
       "      <td>0.798394</td>\n",
       "    </tr>\n",
       "    <tr>\n",
       "      <th>Seats_2.0</th>\n",
       "      <td>-0.289125</td>\n",
       "    </tr>\n",
       "    <tr>\n",
       "      <th>Seats_4.0</th>\n",
       "      <td>-0.404251</td>\n",
       "    </tr>\n",
       "    <tr>\n",
       "      <th>Seats_5.0</th>\n",
       "      <td>-0.514409</td>\n",
       "    </tr>\n",
       "    <tr>\n",
       "      <th>Seats_6.0</th>\n",
       "      <td>-0.397029</td>\n",
       "    </tr>\n",
       "    <tr>\n",
       "      <th>Seats_7.0</th>\n",
       "      <td>-0.366868</td>\n",
       "    </tr>\n",
       "    <tr>\n",
       "      <th>Seats_8.0</th>\n",
       "      <td>-0.270765</td>\n",
       "    </tr>\n",
       "    <tr>\n",
       "      <th>Seats_9.0</th>\n",
       "      <td>-0.194611</td>\n",
       "    </tr>\n",
       "    <tr>\n",
       "      <th>Seats_10.0</th>\n",
       "      <td>-0.169749</td>\n",
       "    </tr>\n",
       "    <tr>\n",
       "      <th>Intercept</th>\n",
       "      <td>-273.061543</td>\n",
       "    </tr>\n",
       "  </tbody>\n",
       "</table>\n",
       "</div>"
      ],
      "text/plain": [
       "                           Coefficients\n",
       "Year                           0.135888\n",
       "Kilometers_Driven             -0.053143\n",
       "Mileage                       -0.002774\n",
       "Engine                         0.151416\n",
       "Power                          0.345032\n",
       "Location_Bangalore             0.145963\n",
       "Location_Chennai              -0.006023\n",
       "Location_Coimbatore            0.088702\n",
       "Location_Delhi                -0.097890\n",
       "Location_Hyderabad             0.130691\n",
       "Location_Jaipur               -0.072597\n",
       "Location_Kochi                -0.065770\n",
       "Location_Kolkata              -0.302937\n",
       "Location_Mumbai               -0.079851\n",
       "Location_Pune                 -0.091388\n",
       "Fuel_Type_Diesel               0.073424\n",
       "Fuel_Type_Electric             1.423381\n",
       "Fuel_Type_LPG                 -0.070144\n",
       "Fuel_Type_Petrol              -0.097306\n",
       "Transmission_Manual           -0.148420\n",
       "Owner_Type_Fourth & Above     -0.048158\n",
       "Owner_Type_Second             -0.096255\n",
       "Owner_Type_Third              -0.215183\n",
       "Brandgroup_Brand2              0.064629\n",
       "Brandgroup_Brand3              0.385659\n",
       "Brandgroup_Brand4              0.681967\n",
       "Brandgroup_Brand5              0.798394\n",
       "Seats_2.0                     -0.289125\n",
       "Seats_4.0                     -0.404251\n",
       "Seats_5.0                     -0.514409\n",
       "Seats_6.0                     -0.397029\n",
       "Seats_7.0                     -0.366868\n",
       "Seats_8.0                     -0.270765\n",
       "Seats_9.0                     -0.194611\n",
       "Seats_10.0                    -0.169749\n",
       "Intercept                   -273.061543"
      ]
     },
     "execution_count": 62,
     "metadata": {},
     "output_type": "execute_result"
    },
    {
     "data": {
      "application/javascript": [
       "\n",
       "            setTimeout(function() {\n",
       "                var nbb_cell_id = 62;\n",
       "                var nbb_unformatted_code = \"# let us check the coefficients and intercept of the model\\n\\ncoef_df = pd.DataFrame(\\n    np.append(linearregression.coef_[0], linearregression.intercept_[0]),\\n    index=X_train.columns.tolist() + [\\\"Intercept\\\"],\\n    columns=[\\\"Coefficients\\\"],\\n)\\n\\ncoef_df\";\n",
       "                var nbb_formatted_code = \"# let us check the coefficients and intercept of the model\\n\\ncoef_df = pd.DataFrame(\\n    np.append(linearregression.coef_[0], linearregression.intercept_[0]),\\n    index=X_train.columns.tolist() + [\\\"Intercept\\\"],\\n    columns=[\\\"Coefficients\\\"],\\n)\\n\\ncoef_df\";\n",
       "                var nbb_cells = Jupyter.notebook.get_cells();\n",
       "                for (var i = 0; i < nbb_cells.length; ++i) {\n",
       "                    if (nbb_cells[i].input_prompt_number == nbb_cell_id) {\n",
       "                        if (nbb_cells[i].get_text() == nbb_unformatted_code) {\n",
       "                             nbb_cells[i].set_text(nbb_formatted_code);\n",
       "                        }\n",
       "                        break;\n",
       "                    }\n",
       "                }\n",
       "            }, 500);\n",
       "            "
      ],
      "text/plain": [
       "<IPython.core.display.Javascript object>"
      ]
     },
     "metadata": {},
     "output_type": "display_data"
    }
   ],
   "source": [
    "# let us check the coefficients and intercept of the model\n",
    "\n",
    "coef_df = pd.DataFrame(\n",
    "    np.append(linearregression.coef_[0], linearregression.intercept_[0]),\n",
    "    index=X_train.columns.tolist() + [\"Intercept\"],\n",
    "    columns=[\"Coefficients\"],\n",
    ")\n",
    "\n",
    "coef_df"
   ]
  },
  {
   "cell_type": "markdown",
   "metadata": {},
   "source": [
    "**Let's check the performance of the model using different metrics (MAE, MAPE, RMSE, $R^2$).**\n",
    "\n",
    "* We will be using metric functions defined in sklearn for RMSE, MAE, and $R^2$.\n",
    "* We will define a function to calculate MAPE.\n",
    "* We will create a function which will print out all the above metrics in one go."
   ]
  },
  {
   "cell_type": "code",
   "execution_count": 63,
   "metadata": {},
   "outputs": [
    {
     "data": {
      "application/javascript": [
       "\n",
       "            setTimeout(function() {\n",
       "                var nbb_cell_id = 63;\n",
       "                var nbb_unformatted_code = \"# defining function for MAPE\\ndef mape(targets, predictions):\\n    return np.mean(np.abs((targets - predictions)) / targets) * 100\\n\\n\\n# defining common function for all metrics\\ndef model_perf(model, inp, out):\\n    \\\"\\\"\\\"\\n    model: model\\n    inp: independent variables\\n    out: dependent variable\\n    \\\"\\\"\\\"\\n    y_pred = model.predict(inp).flatten()\\n    y_act = out.values.flatten()\\n\\n    return pd.DataFrame(\\n        {\\n            \\\"MAE\\\": mean_absolute_error(y_act, y_pred),\\n            \\\"MAPE\\\": mape(y_act, y_pred),\\n            \\\"RMSE\\\": np.sqrt(mean_squared_error(y_act, y_pred)),\\n            \\\"R^2\\\": r2_score(y_act, y_pred),\\n        },\\n        index=[0],\\n    )\";\n",
       "                var nbb_formatted_code = \"# defining function for MAPE\\ndef mape(targets, predictions):\\n    return np.mean(np.abs((targets - predictions)) / targets) * 100\\n\\n\\n# defining common function for all metrics\\ndef model_perf(model, inp, out):\\n    \\\"\\\"\\\"\\n    model: model\\n    inp: independent variables\\n    out: dependent variable\\n    \\\"\\\"\\\"\\n    y_pred = model.predict(inp).flatten()\\n    y_act = out.values.flatten()\\n\\n    return pd.DataFrame(\\n        {\\n            \\\"MAE\\\": mean_absolute_error(y_act, y_pred),\\n            \\\"MAPE\\\": mape(y_act, y_pred),\\n            \\\"RMSE\\\": np.sqrt(mean_squared_error(y_act, y_pred)),\\n            \\\"R^2\\\": r2_score(y_act, y_pred),\\n        },\\n        index=[0],\\n    )\";\n",
       "                var nbb_cells = Jupyter.notebook.get_cells();\n",
       "                for (var i = 0; i < nbb_cells.length; ++i) {\n",
       "                    if (nbb_cells[i].input_prompt_number == nbb_cell_id) {\n",
       "                        if (nbb_cells[i].get_text() == nbb_unformatted_code) {\n",
       "                             nbb_cells[i].set_text(nbb_formatted_code);\n",
       "                        }\n",
       "                        break;\n",
       "                    }\n",
       "                }\n",
       "            }, 500);\n",
       "            "
      ],
      "text/plain": [
       "<IPython.core.display.Javascript object>"
      ]
     },
     "metadata": {},
     "output_type": "display_data"
    }
   ],
   "source": [
    "# defining function for MAPE\n",
    "def mape(targets, predictions):\n",
    "    return np.mean(np.abs((targets - predictions)) / targets) * 100\n",
    "\n",
    "\n",
    "# defining common function for all metrics\n",
    "def model_perf(model, inp, out):\n",
    "    \"\"\"\n",
    "    model: model\n",
    "    inp: independent variables\n",
    "    out: dependent variable\n",
    "    \"\"\"\n",
    "    y_pred = model.predict(inp).flatten()\n",
    "    y_act = out.values.flatten()\n",
    "\n",
    "    return pd.DataFrame(\n",
    "        {\n",
    "            \"MAE\": mean_absolute_error(y_act, y_pred),\n",
    "            \"MAPE\": mape(y_act, y_pred),\n",
    "            \"RMSE\": np.sqrt(mean_squared_error(y_act, y_pred)),\n",
    "            \"R^2\": r2_score(y_act, y_pred),\n",
    "        },\n",
    "        index=[0],\n",
    "    )"
   ]
  },
  {
   "cell_type": "code",
   "execution_count": 64,
   "metadata": {
    "colab": {
     "base_uri": "https://localhost:8080/",
     "height": 34
    },
    "colab_type": "code",
    "id": "vVBBaPtf-BZd",
    "outputId": "63d34fb7-2c29-4343-b356-15c63bf06b2c"
   },
   "outputs": [
    {
     "name": "stdout",
     "output_type": "stream",
     "text": [
      "Train Performance\n",
      "\n"
     ]
    },
    {
     "data": {
      "text/html": [
       "<div>\n",
       "<style scoped>\n",
       "    .dataframe tbody tr th:only-of-type {\n",
       "        vertical-align: middle;\n",
       "    }\n",
       "\n",
       "    .dataframe tbody tr th {\n",
       "        vertical-align: top;\n",
       "    }\n",
       "\n",
       "    .dataframe thead th {\n",
       "        text-align: right;\n",
       "    }\n",
       "</style>\n",
       "<table border=\"1\" class=\"dataframe\">\n",
       "  <thead>\n",
       "    <tr style=\"text-align: right;\">\n",
       "      <th></th>\n",
       "      <th>MAE</th>\n",
       "      <th>MAPE</th>\n",
       "      <th>RMSE</th>\n",
       "      <th>R^2</th>\n",
       "    </tr>\n",
       "  </thead>\n",
       "  <tbody>\n",
       "    <tr>\n",
       "      <th>0</th>\n",
       "      <td>0.221077</td>\n",
       "      <td>-8.99958</td>\n",
       "      <td>0.301771</td>\n",
       "      <td>0.907835</td>\n",
       "    </tr>\n",
       "  </tbody>\n",
       "</table>\n",
       "</div>"
      ],
      "text/plain": [
       "        MAE     MAPE      RMSE       R^2\n",
       "0  0.221077 -8.99958  0.301771  0.907835"
      ]
     },
     "execution_count": 64,
     "metadata": {},
     "output_type": "execute_result"
    },
    {
     "data": {
      "application/javascript": [
       "\n",
       "            setTimeout(function() {\n",
       "                var nbb_cell_id = 64;\n",
       "                var nbb_unformatted_code = \"# Checking model performance on train set (seen 70% data)\\nprint(\\\"Train Performance\\\\n\\\")\\nmodel_perf(linearregression, X_train, y_train)\";\n",
       "                var nbb_formatted_code = \"# Checking model performance on train set (seen 70% data)\\nprint(\\\"Train Performance\\\\n\\\")\\nmodel_perf(linearregression, X_train, y_train)\";\n",
       "                var nbb_cells = Jupyter.notebook.get_cells();\n",
       "                for (var i = 0; i < nbb_cells.length; ++i) {\n",
       "                    if (nbb_cells[i].input_prompt_number == nbb_cell_id) {\n",
       "                        if (nbb_cells[i].get_text() == nbb_unformatted_code) {\n",
       "                             nbb_cells[i].set_text(nbb_formatted_code);\n",
       "                        }\n",
       "                        break;\n",
       "                    }\n",
       "                }\n",
       "            }, 500);\n",
       "            "
      ],
      "text/plain": [
       "<IPython.core.display.Javascript object>"
      ]
     },
     "metadata": {},
     "output_type": "display_data"
    }
   ],
   "source": [
    "# Checking model performance on train set (seen 70% data)\n",
    "print(\"Train Performance\\n\")\n",
    "model_perf(linearregression, X_train, y_train)"
   ]
  },
  {
   "cell_type": "code",
   "execution_count": 65,
   "metadata": {},
   "outputs": [
    {
     "name": "stdout",
     "output_type": "stream",
     "text": [
      "Test Performance\n",
      "\n"
     ]
    },
    {
     "data": {
      "text/html": [
       "<div>\n",
       "<style scoped>\n",
       "    .dataframe tbody tr th:only-of-type {\n",
       "        vertical-align: middle;\n",
       "    }\n",
       "\n",
       "    .dataframe tbody tr th {\n",
       "        vertical-align: top;\n",
       "    }\n",
       "\n",
       "    .dataframe thead th {\n",
       "        text-align: right;\n",
       "    }\n",
       "</style>\n",
       "<table border=\"1\" class=\"dataframe\">\n",
       "  <thead>\n",
       "    <tr style=\"text-align: right;\">\n",
       "      <th></th>\n",
       "      <th>MAE</th>\n",
       "      <th>MAPE</th>\n",
       "      <th>RMSE</th>\n",
       "      <th>R^2</th>\n",
       "    </tr>\n",
       "  </thead>\n",
       "  <tbody>\n",
       "    <tr>\n",
       "      <th>0</th>\n",
       "      <td>0.228337</td>\n",
       "      <td>-19.202779</td>\n",
       "      <td>0.296721</td>\n",
       "      <td>0.912624</td>\n",
       "    </tr>\n",
       "  </tbody>\n",
       "</table>\n",
       "</div>"
      ],
      "text/plain": [
       "        MAE       MAPE      RMSE       R^2\n",
       "0  0.228337 -19.202779  0.296721  0.912624"
      ]
     },
     "execution_count": 65,
     "metadata": {},
     "output_type": "execute_result"
    },
    {
     "data": {
      "application/javascript": [
       "\n",
       "            setTimeout(function() {\n",
       "                var nbb_cell_id = 65;\n",
       "                var nbb_unformatted_code = \"# Checking model performance on test set (unseen 30% data)\\nprint(\\\"Test Performance\\\\n\\\")\\nmodel_perf(linearregression, X_test, y_test)\";\n",
       "                var nbb_formatted_code = \"# Checking model performance on test set (unseen 30% data)\\nprint(\\\"Test Performance\\\\n\\\")\\nmodel_perf(linearregression, X_test, y_test)\";\n",
       "                var nbb_cells = Jupyter.notebook.get_cells();\n",
       "                for (var i = 0; i < nbb_cells.length; ++i) {\n",
       "                    if (nbb_cells[i].input_prompt_number == nbb_cell_id) {\n",
       "                        if (nbb_cells[i].get_text() == nbb_unformatted_code) {\n",
       "                             nbb_cells[i].set_text(nbb_formatted_code);\n",
       "                        }\n",
       "                        break;\n",
       "                    }\n",
       "                }\n",
       "            }, 500);\n",
       "            "
      ],
      "text/plain": [
       "<IPython.core.display.Javascript object>"
      ]
     },
     "metadata": {},
     "output_type": "display_data"
    }
   ],
   "source": [
    "# Checking model performance on test set (unseen 30% data)\n",
    "print(\"Test Performance\\n\")\n",
    "model_perf(linearregression, X_test, y_test)"
   ]
  },
  {
   "cell_type": "markdown",
   "metadata": {
    "id": "doso3U2753mZ"
   },
   "source": [
    "**Observations**\n",
    "\n",
    "- The training and testing scores are 90.7% and 91.2% respectively, and both the scores are comparable. Hence, the model is a good fit.\n",
    "\n",
    "- R-squared is 0.912 on the test set, i.e., the model explains 91.2% of total variation in the test dataset. So, overall the model is very satisfactory."
   ]
  },
  {
   "cell_type": "markdown",
   "metadata": {},
   "source": [
    "## Linear Regression using statsmodels"
   ]
  },
  {
   "cell_type": "code",
   "execution_count": 66,
   "metadata": {
    "id": "-uylJTNMqH8b",
    "outputId": "eca90d3d-e484-4feb-876f-756e1a990e9a"
   },
   "outputs": [
    {
     "name": "stdout",
     "output_type": "stream",
     "text": [
      "                            OLS Regression Results                            \n",
      "==============================================================================\n",
      "Dep. Variable:                  Price   R-squared:                       0.908\n",
      "Model:                            OLS   Adj. R-squared:                  0.907\n",
      "Method:                 Least Squares   F-statistic:                     1174.\n",
      "Date:                Fri, 09 Jul 2021   Prob (F-statistic):               0.00\n",
      "Time:                        21:51:06   Log-Likelihood:                -928.91\n",
      "No. Observations:                4206   AIC:                             1930.\n",
      "Df Residuals:                    4170   BIC:                             2158.\n",
      "Df Model:                          35                                         \n",
      "Covariance Type:            nonrobust                                         \n",
      "=============================================================================================\n",
      "                                coef    std err          t      P>|t|      [0.025      0.975]\n",
      "---------------------------------------------------------------------------------------------\n",
      "const                      -273.0615      4.403    -62.019      0.000    -281.694    -264.430\n",
      "Year                          0.1359      0.002     62.456      0.000       0.132       0.140\n",
      "Kilometers_Driven            -0.0531      0.007     -7.497      0.000      -0.067      -0.039\n",
      "Mileage                      -0.0028      0.009     -0.320      0.749      -0.020       0.014\n",
      "Engine                        0.1514      0.016      9.679      0.000       0.121       0.182\n",
      "Power                         0.3450      0.013     25.816      0.000       0.319       0.371\n",
      "Location_Bangalore            0.1460      0.030      4.844      0.000       0.087       0.205\n",
      "Location_Chennai             -0.0060      0.028     -0.214      0.831      -0.061       0.049\n",
      "Location_Coimbatore           0.0887      0.027      3.238      0.001       0.035       0.142\n",
      "Location_Delhi               -0.0979      0.028     -3.544      0.000      -0.152      -0.044\n",
      "Location_Hyderabad            0.1307      0.026      4.946      0.000       0.079       0.182\n",
      "Location_Jaipur              -0.0726      0.029     -2.516      0.012      -0.129      -0.016\n",
      "Location_Kochi               -0.0658      0.027     -2.433      0.015      -0.119      -0.013\n",
      "Location_Kolkata             -0.3029      0.028    -10.876      0.000      -0.358      -0.248\n",
      "Location_Mumbai              -0.0799      0.026     -3.023      0.003      -0.132      -0.028\n",
      "Location_Pune                -0.0914      0.027     -3.370      0.001      -0.145      -0.038\n",
      "Fuel_Type_Diesel              0.0734      0.049      1.506      0.132      -0.022       0.169\n",
      "Fuel_Type_Electric            1.4234      0.308      4.625      0.000       0.820       2.027\n",
      "Fuel_Type_LPG                -0.0701      0.133     -0.526      0.599      -0.332       0.191\n",
      "Fuel_Type_Petrol             -0.0973      0.050     -1.961      0.050      -0.195   -7.41e-07\n",
      "Transmission_Manual          -0.1484      0.015     -9.611      0.000      -0.179      -0.118\n",
      "Owner_Type_Fourth & Above    -0.0482      0.124     -0.387      0.699      -0.292       0.196\n",
      "Owner_Type_Second            -0.0963      0.014     -6.977      0.000      -0.123      -0.069\n",
      "Owner_Type_Third             -0.2152      0.035     -6.117      0.000      -0.284      -0.146\n",
      "Brandgroup_Brand2             0.0646      0.016      4.097      0.000       0.034       0.096\n",
      "Brandgroup_Brand3             0.3857      0.063      6.135      0.000       0.262       0.509\n",
      "Brandgroup_Brand4             0.6820      0.022     31.131      0.000       0.639       0.725\n",
      "Brandgroup_Brand5             0.7984      0.039     20.356      0.000       0.721       0.875\n",
      "Seats_2.0                    -0.2891      0.324     -0.892      0.372      -0.924       0.346\n",
      "Seats_4.0                    -0.4043      0.308     -1.312      0.190      -1.009       0.200\n",
      "Seats_5.0                    -0.5144      0.306     -1.680      0.093      -1.115       0.086\n",
      "Seats_6.0                    -0.3970      0.312     -1.274      0.203      -1.008       0.214\n",
      "Seats_7.0                    -0.3669      0.306     -1.198      0.231      -0.967       0.234\n",
      "Seats_8.0                    -0.2708      0.307     -0.881      0.378      -0.873       0.332\n",
      "Seats_9.0                    -0.1946      0.430     -0.452      0.651      -1.038       0.649\n",
      "Seats_10.0                   -0.1697      0.341     -0.498      0.619      -0.838       0.499\n",
      "==============================================================================\n",
      "Omnibus:                     1231.013   Durbin-Watson:                   2.019\n",
      "Prob(Omnibus):                  0.000   Jarque-Bera (JB):            21039.827\n",
      "Skew:                          -0.942   Prob(JB):                         0.00\n",
      "Kurtosis:                      13.794   Cond. No.                     1.90e+06\n",
      "==============================================================================\n",
      "\n",
      "Notes:\n",
      "[1] Standard Errors assume that the covariance matrix of the errors is correctly specified.\n",
      "[2] The condition number is large, 1.9e+06. This might indicate that there are\n",
      "strong multicollinearity or other numerical problems.\n"
     ]
    },
    {
     "data": {
      "application/javascript": [
       "\n",
       "            setTimeout(function() {\n",
       "                var nbb_cell_id = 66;\n",
       "                var nbb_unformatted_code = \"# Let's build linear regression model using statsmodel\\n# unlike sklearn, statsmodels does not add a constant to the data on its own\\n# we have to add the constant manually\\nX = sm.add_constant(X)\\nX_train1, X_test, y_train, y_test = train_test_split(\\n    X, y, test_size=0.3, random_state=42\\n)\\n\\nolsmod0 = sm.OLS(y_train, X_train1)\\nolsres0 = olsmod0.fit()\\nprint(olsres0.summary())\";\n",
       "                var nbb_formatted_code = \"# Let's build linear regression model using statsmodel\\n# unlike sklearn, statsmodels does not add a constant to the data on its own\\n# we have to add the constant manually\\nX = sm.add_constant(X)\\nX_train1, X_test, y_train, y_test = train_test_split(\\n    X, y, test_size=0.3, random_state=42\\n)\\n\\nolsmod0 = sm.OLS(y_train, X_train1)\\nolsres0 = olsmod0.fit()\\nprint(olsres0.summary())\";\n",
       "                var nbb_cells = Jupyter.notebook.get_cells();\n",
       "                for (var i = 0; i < nbb_cells.length; ++i) {\n",
       "                    if (nbb_cells[i].input_prompt_number == nbb_cell_id) {\n",
       "                        if (nbb_cells[i].get_text() == nbb_unformatted_code) {\n",
       "                             nbb_cells[i].set_text(nbb_formatted_code);\n",
       "                        }\n",
       "                        break;\n",
       "                    }\n",
       "                }\n",
       "            }, 500);\n",
       "            "
      ],
      "text/plain": [
       "<IPython.core.display.Javascript object>"
      ]
     },
     "metadata": {},
     "output_type": "display_data"
    }
   ],
   "source": [
    "# Let's build linear regression model using statsmodel\n",
    "# unlike sklearn, statsmodels does not add a constant to the data on its own\n",
    "# we have to add the constant manually\n",
    "X = sm.add_constant(X)\n",
    "X_train1, X_test, y_train, y_test = train_test_split(\n",
    "    X, y, test_size=0.3, random_state=42\n",
    ")\n",
    "\n",
    "olsmod0 = sm.OLS(y_train, X_train1)\n",
    "olsres0 = olsmod0.fit()\n",
    "print(olsres0.summary())"
   ]
  },
  {
   "cell_type": "markdown",
   "metadata": {
    "id": "_3K1B5m_qH8d"
   },
   "source": [
    "**Observations**\n",
    "\n",
    "- Negative values of the coefficient show that *Price* decreases with the increase of corresponding attribute value.\n",
    "\n",
    "- Positive values of the coefficient show that *Price* increases with the increase of corresponding attribute value.\n",
    "\n",
    "- p-value of a variable indicates if the variable is significant or not. If we consider the significance level to be 0.05 (5%), then any variable with a p-value less than 0.05 would be considered significant.\n",
    "\n",
    "- But these variables might contain multicollinearity, which will affect the p-values.\n",
    "\n",
    "- We need to deal with multicollinearity and check the other assumptions of linear regression first, and then look at the p-values."
   ]
  },
  {
   "cell_type": "markdown",
   "metadata": {
    "id": "a9GxSQf-qH8e"
   },
   "source": [
    "## Checking Linear Regression Assumptions"
   ]
  },
  {
   "cell_type": "markdown",
   "metadata": {
    "id": "5Wr6XkwoqH8f"
   },
   "source": [
    "We will be checking the following Linear Regression assumptions:\n",
    "\n",
    "**1. No Multicollinearity**\n",
    "\n",
    "**2. Mean of residuals should be 0**\n",
    "\n",
    "**3. No Heteroscedasticity**\n",
    "\n",
    "**4. Linearity of variables**\n",
    "\n",
    "**5. Normality of error terms**"
   ]
  },
  {
   "cell_type": "markdown",
   "metadata": {
    "id": "mROHQdzZqH8f"
   },
   "source": [
    "### TEST FOR MULTICOLLINEARITY\n",
    "\n",
    "* Multicollinearity occurs when predictor variables in a regression model are correlated. This correlation is a problem because predictor variables should be independent. If the correlation between variables is high, it can cause problems when we fit the model and interpret the results. When we have multicollinearity the linear model, The coefficients that the model suggests are unreliable.\n",
    "\n",
    "* There are different ways of detecting (or testing) multicollinearity. One such way is by using Variation Inflation Factor.\n",
    "\n",
    "* **Variance  Inflation  factor**:  Variance inflation factors measure the inflation in the variances of the regression parameter estimates due to collinearities that exist among the  predictors.  It  is  a  measure  of  how  much  the  variance  of  the  estimated  regression coefficient $\\beta_k$ is \"inflated\" by  the  existence  of  correlation  among  the  predictor variables in the model. \n",
    "\n",
    "* **General Rule of thumb**: If VIF is 1 then there is no correlation among the $k$th predictor and the remaining predictor variables, and  hence, the variance of $\\beta_k$ is not inflated at all. Whereas, if VIF exceeds 5 or is close to exceeding 5, we say there is moderate multicollinearity, and if it is 10 or exceeding 10, it shows signs of high multicollinearity."
   ]
  },
  {
   "cell_type": "code",
   "execution_count": 67,
   "metadata": {
    "id": "ZV-69rVWqH8g",
    "outputId": "91fa45d9-73ff-46cd-bad0-79a6d2ac4b76"
   },
   "outputs": [
    {
     "name": "stdout",
     "output_type": "stream",
     "text": [
      "VIF Scores: \n",
      "\n",
      "const                        876591.551228\n",
      "Year                              2.277637\n",
      "Kilometers_Driven                 1.944920\n",
      "Mileage                           3.271689\n",
      "Engine                           10.986341\n",
      "Power                             7.932864\n",
      "Location_Bangalore                2.474895\n",
      "Location_Chennai                  2.979629\n",
      "Location_Coimbatore               3.520801\n",
      "Location_Delhi                    3.167724\n",
      "Location_Hyderabad                3.820874\n",
      "Location_Jaipur                   2.676888\n",
      "Location_Kochi                    3.575984\n",
      "Location_Kolkata                  3.133880\n",
      "Location_Mumbai                   4.007121\n",
      "Location_Pune                     3.427951\n",
      "Fuel_Type_Diesel                 28.660088\n",
      "Fuel_Type_Electric                1.046641\n",
      "Fuel_Type_LPG                     1.193990\n",
      "Fuel_Type_Petrol                 29.407561\n",
      "Transmission_Manual               2.188969\n",
      "Owner_Type_Fourth & Above         1.014249\n",
      "Owner_Type_Second                 1.171717\n",
      "Owner_Type_Third                  1.107825\n",
      "Brandgroup_Brand2                 1.791670\n",
      "Brandgroup_Brand3                 1.065937\n",
      "Brandgroup_Brand4                 2.655381\n",
      "Brandgroup_Brand5                 1.358000\n",
      "Seats_2.0                        15.117025\n",
      "Seats_4.0                        98.740451\n",
      "Seats_5.0                       815.439297\n",
      "Seats_6.0                        32.261575\n",
      "Seats_7.0                       604.339680\n",
      "Seats_8.0                       133.647574\n",
      "Seats_9.0                         4.029767\n",
      "Seats_10.0                        6.050350\n",
      "dtype: float64\n",
      "\n"
     ]
    },
    {
     "data": {
      "application/javascript": [
       "\n",
       "            setTimeout(function() {\n",
       "                var nbb_cell_id = 67;\n",
       "                var nbb_unformatted_code = \"from statsmodels.stats.outliers_influence import variance_inflation_factor\\n\\nvif_series1 = pd.Series(\\n    [variance_inflation_factor(X.values, i) for i in range(X.shape[1])], index=X.columns\\n)\\nprint(\\\"VIF Scores: \\\\n\\\\n{}\\\\n\\\".format(vif_series1))\";\n",
       "                var nbb_formatted_code = \"from statsmodels.stats.outliers_influence import variance_inflation_factor\\n\\nvif_series1 = pd.Series(\\n    [variance_inflation_factor(X.values, i) for i in range(X.shape[1])], index=X.columns\\n)\\nprint(\\\"VIF Scores: \\\\n\\\\n{}\\\\n\\\".format(vif_series1))\";\n",
       "                var nbb_cells = Jupyter.notebook.get_cells();\n",
       "                for (var i = 0; i < nbb_cells.length; ++i) {\n",
       "                    if (nbb_cells[i].input_prompt_number == nbb_cell_id) {\n",
       "                        if (nbb_cells[i].get_text() == nbb_unformatted_code) {\n",
       "                             nbb_cells[i].set_text(nbb_formatted_code);\n",
       "                        }\n",
       "                        break;\n",
       "                    }\n",
       "                }\n",
       "            }, 500);\n",
       "            "
      ],
      "text/plain": [
       "<IPython.core.display.Javascript object>"
      ]
     },
     "metadata": {},
     "output_type": "display_data"
    }
   ],
   "source": [
    "from statsmodels.stats.outliers_influence import variance_inflation_factor\n",
    "\n",
    "vif_series1 = pd.Series(\n",
    "    [variance_inflation_factor(X.values, i) for i in range(X.shape[1])], index=X.columns\n",
    ")\n",
    "print(\"VIF Scores: \\n\\n{}\\n\".format(vif_series1))"
   ]
  },
  {
   "cell_type": "markdown",
   "metadata": {
    "id": "wA_OnHcyqH8p"
   },
   "source": [
    "* *Engine* and *Power* have a VIF score of much greater than 5.\n",
    "* Clearly these 2 variables are correlated with each other.\n",
    "* This does seem to make intuitive sense because the higher an engine's displacement, the more power it should be able to generate."
   ]
  },
  {
   "cell_type": "markdown",
   "metadata": {
    "id": "XSiS4SRaqH8q"
   },
   "source": [
    "### Removing Multicollinearity\n",
    "\n",
    "To remove multicollinearity\n",
    "\n",
    "1. Drop every column one by one that has VIF score greater than 5.\n",
    "2. Look at the adjusted R-squared of all these models.\n",
    "3. Drop the variable that makes least change in adjusted R-squared.\n",
    "4. Check the VIF scores again.\n",
    "5. Continue till you get all VIF scores under 5."
   ]
  },
  {
   "cell_type": "code",
   "execution_count": 68,
   "metadata": {
    "id": "9qfQpDDdqH8r",
    "outputId": "9b1ae82b-b3fa-4c3b-e7d9-9fddaa17719d"
   },
   "outputs": [
    {
     "name": "stdout",
     "output_type": "stream",
     "text": [
      "VIF Scores: \n",
      "\n",
      "const                        869881.137979\n",
      "Year                              2.243311\n",
      "Kilometers_Driven                 1.968442\n",
      "Mileage                           3.318441\n",
      "Engine                            4.323405\n",
      "Location_Bangalore                2.244859\n",
      "Location_Chennai                  2.742081\n",
      "Location_Coimbatore               3.145771\n",
      "Location_Delhi                    2.837018\n",
      "Location_Hyderabad                3.489027\n",
      "Location_Jaipur                   2.499740\n",
      "Location_Kochi                    3.296469\n",
      "Location_Kolkata                  2.857339\n",
      "Location_Mumbai                   3.596944\n",
      "Location_Pune                     3.102279\n",
      "Fuel_Type_Diesel                 26.911254\n",
      "Fuel_Type_Electric                1.029586\n",
      "Fuel_Type_LPG                     1.160935\n",
      "Fuel_Type_Petrol                 27.474190\n",
      "Transmission_Manual               2.177021\n",
      "Owner_Type_Fourth & Above         1.009942\n",
      "Owner_Type_Second                 1.158701\n",
      "Owner_Type_Third                  1.108677\n",
      "Brandgroup_Brand2                 1.702993\n",
      "Brandgroup_Brand3                 1.058694\n",
      "Brandgroup_Brand4                 2.629597\n",
      "Brandgroup_Brand5                 1.358037\n",
      "Seats_2.0                         9.038510\n",
      "Seats_4.0                        70.416394\n",
      "Seats_5.0                       556.728635\n",
      "Seats_6.0                        27.117610\n",
      "Seats_7.0                       400.708075\n",
      "Seats_8.0                       100.560410\n",
      "Seats_9.0                         2.012455\n",
      "Seats_10.0                        5.043134\n",
      "dtype: float64\n",
      "\n"
     ]
    },
    {
     "data": {
      "application/javascript": [
       "\n",
       "            setTimeout(function() {\n",
       "                var nbb_cell_id = 68;\n",
       "                var nbb_unformatted_code = \"# we drop the one with the highest vif values and check the adjusted R-squared\\nX_train2 = X_train1.drop(\\\"Power\\\", axis=1)\\nvif_series2 = pd.Series(\\n    [variance_inflation_factor(X_train2.values, i) for i in range(X_train2.shape[1])],\\n    index=X_train2.columns,\\n)\\nprint(\\\"VIF Scores: \\\\n\\\\n{}\\\\n\\\".format(vif_series2))\";\n",
       "                var nbb_formatted_code = \"# we drop the one with the highest vif values and check the adjusted R-squared\\nX_train2 = X_train1.drop(\\\"Power\\\", axis=1)\\nvif_series2 = pd.Series(\\n    [variance_inflation_factor(X_train2.values, i) for i in range(X_train2.shape[1])],\\n    index=X_train2.columns,\\n)\\nprint(\\\"VIF Scores: \\\\n\\\\n{}\\\\n\\\".format(vif_series2))\";\n",
       "                var nbb_cells = Jupyter.notebook.get_cells();\n",
       "                for (var i = 0; i < nbb_cells.length; ++i) {\n",
       "                    if (nbb_cells[i].input_prompt_number == nbb_cell_id) {\n",
       "                        if (nbb_cells[i].get_text() == nbb_unformatted_code) {\n",
       "                             nbb_cells[i].set_text(nbb_formatted_code);\n",
       "                        }\n",
       "                        break;\n",
       "                    }\n",
       "                }\n",
       "            }, 500);\n",
       "            "
      ],
      "text/plain": [
       "<IPython.core.display.Javascript object>"
      ]
     },
     "metadata": {},
     "output_type": "display_data"
    }
   ],
   "source": [
    "# we drop the one with the highest vif values and check the adjusted R-squared\n",
    "X_train2 = X_train1.drop(\"Power\", axis=1)\n",
    "vif_series2 = pd.Series(\n",
    "    [variance_inflation_factor(X_train2.values, i) for i in range(X_train2.shape[1])],\n",
    "    index=X_train2.columns,\n",
    ")\n",
    "print(\"VIF Scores: \\n\\n{}\\n\".format(vif_series2))"
   ]
  },
  {
   "cell_type": "markdown",
   "metadata": {
    "id": "R5LMJfjUqH8v"
   },
   "source": [
    "* That seemed to have helped, VIF has come down to quite a good limit, now we can say features are not correlated."
   ]
  },
  {
   "cell_type": "code",
   "execution_count": 69,
   "metadata": {
    "id": "nsZjt3ctqH8w",
    "outputId": "b1d5894d-dcfd-4591-e047-6d43c59c4a80"
   },
   "outputs": [
    {
     "name": "stdout",
     "output_type": "stream",
     "text": [
      "                            OLS Regression Results                            \n",
      "==============================================================================\n",
      "Dep. Variable:                  Price   R-squared:                       0.893\n",
      "Model:                            OLS   Adj. R-squared:                  0.892\n",
      "Method:                 Least Squares   F-statistic:                     1025.\n",
      "Date:                Fri, 09 Jul 2021   Prob (F-statistic):               0.00\n",
      "Time:                        21:51:18   Log-Likelihood:                -1240.7\n",
      "No. Observations:                4206   AIC:                             2551.\n",
      "Df Residuals:                    4171   BIC:                             2773.\n",
      "Df Model:                          34                                         \n",
      "Covariance Type:            nonrobust                                         \n",
      "=============================================================================================\n",
      "                                coef    std err          t      P>|t|      [0.025      0.975]\n",
      "---------------------------------------------------------------------------------------------\n",
      "const                      -289.1535      4.693    -61.609      0.000    -298.355    -279.952\n",
      "Year                          0.1434      0.002     61.770      0.000       0.139       0.148\n",
      "Kilometers_Driven            -0.0539      0.008     -7.056      0.000      -0.069      -0.039\n",
      "Mileage                      -0.0026      0.009     -0.279      0.780      -0.021       0.016\n",
      "Engine                        0.4649      0.011     43.760      0.000       0.444       0.486\n",
      "Location_Bangalore            0.1642      0.032      5.062      0.000       0.101       0.228\n",
      "Location_Chennai             -0.0267      0.030     -0.881      0.379      -0.086       0.033\n",
      "Location_Coimbatore           0.0756      0.029      2.562      0.010       0.018       0.133\n",
      "Location_Delhi               -0.0884      0.030     -2.972      0.003      -0.147      -0.030\n",
      "Location_Hyderabad            0.1071      0.028      3.767      0.000       0.051       0.163\n",
      "Location_Jaipur              -0.0989      0.031     -3.186      0.001      -0.160      -0.038\n",
      "Location_Kochi               -0.0673      0.029     -2.313      0.021      -0.124      -0.010\n",
      "Location_Kolkata             -0.2996      0.030     -9.989      0.000      -0.358      -0.241\n",
      "Location_Mumbai              -0.0703      0.028     -2.472      0.013      -0.126      -0.015\n",
      "Location_Pune                -0.1092      0.029     -3.739      0.000      -0.166      -0.052\n",
      "Fuel_Type_Diesel              0.1742      0.052      3.329      0.001       0.072       0.277\n",
      "Fuel_Type_Electric            1.1251      0.331      3.397      0.001       0.476       1.774\n",
      "Fuel_Type_LPG                -0.0071      0.144     -0.050      0.960      -0.289       0.275\n",
      "Fuel_Type_Petrol              0.0707      0.053      1.335      0.182      -0.033       0.175\n",
      "Transmission_Manual          -0.2116      0.016    -12.891      0.000      -0.244      -0.179\n",
      "Owner_Type_Fourth & Above    -0.0370      0.134     -0.276      0.782      -0.300       0.226\n",
      "Owner_Type_Second            -0.0925      0.015     -6.229      0.000      -0.122      -0.063\n",
      "Owner_Type_Third             -0.1985      0.038     -5.242      0.000      -0.273      -0.124\n",
      "Brandgroup_Brand2            -0.0126      0.017     -0.755      0.450      -0.045       0.020\n",
      "Brandgroup_Brand3             0.5456      0.067      8.100      0.000       0.414       0.678\n",
      "Brandgroup_Brand4             0.7794      0.023     33.540      0.000       0.734       0.825\n",
      "Brandgroup_Brand5             0.8576      0.042     20.341      0.000       0.775       0.940\n",
      "Seats_2.0                     0.5424      0.347      1.562      0.118      -0.138       1.223\n",
      "Seats_4.0                     0.4278      0.330      1.296      0.195      -0.219       1.075\n",
      "Seats_5.0                     0.3575      0.328      1.091      0.275      -0.285       1.000\n",
      "Seats_6.0                     0.3095      0.334      0.926      0.355      -0.346       0.965\n",
      "Seats_7.0                     0.4365      0.328      1.330      0.184      -0.207       1.080\n",
      "Seats_8.0                     0.4168      0.330      1.264      0.206      -0.229       1.063\n",
      "Seats_9.0                     0.0388      0.463      0.084      0.933      -0.869       0.947\n",
      "Seats_10.0                    0.2533      0.367      0.691      0.490      -0.466       0.972\n",
      "==============================================================================\n",
      "Omnibus:                     1134.191   Durbin-Watson:                   2.014\n",
      "Prob(Omnibus):                  0.000   Jarque-Bera (JB):            12712.453\n",
      "Skew:                          -0.959   Prob(JB):                         0.00\n",
      "Kurtosis:                      11.298   Cond. No.                     1.88e+06\n",
      "==============================================================================\n",
      "\n",
      "Notes:\n",
      "[1] Standard Errors assume that the covariance matrix of the errors is correctly specified.\n",
      "[2] The condition number is large, 1.88e+06. This might indicate that there are\n",
      "strong multicollinearity or other numerical problems.\n"
     ]
    },
    {
     "data": {
      "application/javascript": [
       "\n",
       "            setTimeout(function() {\n",
       "                var nbb_cell_id = 69;\n",
       "                var nbb_unformatted_code = \"olsmod1 = sm.OLS(y_train, X_train2)\\nolsres1 = olsmod1.fit()\\nprint(olsres1.summary())\";\n",
       "                var nbb_formatted_code = \"olsmod1 = sm.OLS(y_train, X_train2)\\nolsres1 = olsmod1.fit()\\nprint(olsres1.summary())\";\n",
       "                var nbb_cells = Jupyter.notebook.get_cells();\n",
       "                for (var i = 0; i < nbb_cells.length; ++i) {\n",
       "                    if (nbb_cells[i].input_prompt_number == nbb_cell_id) {\n",
       "                        if (nbb_cells[i].get_text() == nbb_unformatted_code) {\n",
       "                             nbb_cells[i].set_text(nbb_formatted_code);\n",
       "                        }\n",
       "                        break;\n",
       "                    }\n",
       "                }\n",
       "            }, 500);\n",
       "            "
      ],
      "text/plain": [
       "<IPython.core.display.Javascript object>"
      ]
     },
     "metadata": {},
     "output_type": "display_data"
    }
   ],
   "source": [
    "olsmod1 = sm.OLS(y_train, X_train2)\n",
    "olsres1 = olsmod1.fit()\n",
    "print(olsres1.summary())"
   ]
  },
  {
   "cell_type": "markdown",
   "metadata": {
    "id": "vMPm49WhqH81"
   },
   "source": [
    "* Earlier adj. R-squared was 0.907, now it is reduced to 0.892.\n",
    "* Let's see if we would get better results after dropping *Engine*"
   ]
  },
  {
   "cell_type": "code",
   "execution_count": 70,
   "metadata": {
    "id": "H0nm7n9NqH81",
    "outputId": "b92a7968-924a-4cf1-cc69-20af7e22631b"
   },
   "outputs": [
    {
     "name": "stdout",
     "output_type": "stream",
     "text": [
      "VIF Scores: \n",
      "\n",
      "const                        885201.862881\n",
      "Year                              2.279689\n",
      "Kilometers_Driven                 1.961629\n",
      "Mileage                           2.923624\n",
      "Power                             3.189955\n",
      "Location_Bangalore                2.245380\n",
      "Location_Chennai                  2.743692\n",
      "Location_Coimbatore               3.146853\n",
      "Location_Delhi                    2.837503\n",
      "Location_Hyderabad                3.493184\n",
      "Location_Jaipur                   2.502797\n",
      "Location_Kochi                    3.296479\n",
      "Location_Kolkata                  2.857273\n",
      "Location_Mumbai                   3.597534\n",
      "Location_Pune                     3.103849\n",
      "Fuel_Type_Diesel                 27.084964\n",
      "Fuel_Type_Electric                1.029864\n",
      "Fuel_Type_LPG                     1.158826\n",
      "Fuel_Type_Petrol                 27.419603\n",
      "Transmission_Manual               2.233166\n",
      "Owner_Type_Fourth & Above         1.009936\n",
      "Owner_Type_Second                 1.158628\n",
      "Owner_Type_Third                  1.108841\n",
      "Brandgroup_Brand2                 1.624162\n",
      "Brandgroup_Brand3                 1.067454\n",
      "Brandgroup_Brand4                 2.707604\n",
      "Brandgroup_Brand5                 1.359129\n",
      "Seats_2.0                         9.072627\n",
      "Seats_4.0                        70.373882\n",
      "Seats_5.0                       556.900897\n",
      "Seats_6.0                        27.125265\n",
      "Seats_7.0                       401.179728\n",
      "Seats_8.0                       100.546443\n",
      "Seats_9.0                         2.012426\n",
      "Seats_10.0                        5.041546\n",
      "dtype: float64\n",
      "\n"
     ]
    },
    {
     "data": {
      "application/javascript": [
       "\n",
       "            setTimeout(function() {\n",
       "                var nbb_cell_id = 70;\n",
       "                var nbb_unformatted_code = \"X_train3 = X_train1.drop(\\\"Engine\\\", axis=1)\\nvif_series3 = pd.Series(\\n    [variance_inflation_factor(X_train3.values, i) for i in range(X_train3.shape[1])],\\n    index=X_train3.columns,\\n)\\nprint(\\\"VIF Scores: \\\\n\\\\n{}\\\\n\\\".format(vif_series3))\";\n",
       "                var nbb_formatted_code = \"X_train3 = X_train1.drop(\\\"Engine\\\", axis=1)\\nvif_series3 = pd.Series(\\n    [variance_inflation_factor(X_train3.values, i) for i in range(X_train3.shape[1])],\\n    index=X_train3.columns,\\n)\\nprint(\\\"VIF Scores: \\\\n\\\\n{}\\\\n\\\".format(vif_series3))\";\n",
       "                var nbb_cells = Jupyter.notebook.get_cells();\n",
       "                for (var i = 0; i < nbb_cells.length; ++i) {\n",
       "                    if (nbb_cells[i].input_prompt_number == nbb_cell_id) {\n",
       "                        if (nbb_cells[i].get_text() == nbb_unformatted_code) {\n",
       "                             nbb_cells[i].set_text(nbb_formatted_code);\n",
       "                        }\n",
       "                        break;\n",
       "                    }\n",
       "                }\n",
       "            }, 500);\n",
       "            "
      ],
      "text/plain": [
       "<IPython.core.display.Javascript object>"
      ]
     },
     "metadata": {},
     "output_type": "display_data"
    }
   ],
   "source": [
    "X_train3 = X_train1.drop(\"Engine\", axis=1)\n",
    "vif_series3 = pd.Series(\n",
    "    [variance_inflation_factor(X_train3.values, i) for i in range(X_train3.shape[1])],\n",
    "    index=X_train3.columns,\n",
    ")\n",
    "print(\"VIF Scores: \\n\\n{}\\n\".format(vif_series3))"
   ]
  },
  {
   "cell_type": "markdown",
   "metadata": {
    "id": "ZNwuFn7GqH86"
   },
   "source": [
    "* Results are almost similar but slightly better as per VIF scores. We can check adj. R-squared for both the data, and then decide which one to proceed with accordingly."
   ]
  },
  {
   "cell_type": "code",
   "execution_count": 71,
   "metadata": {
    "id": "2Q6m7__IqH86",
    "outputId": "b26e50c8-6643-4483-8022-814057afa271"
   },
   "outputs": [
    {
     "name": "stdout",
     "output_type": "stream",
     "text": [
      "                            OLS Regression Results                            \n",
      "==============================================================================\n",
      "Dep. Variable:                  Price   R-squared:                       0.906\n",
      "Model:                            OLS   Adj. R-squared:                  0.905\n",
      "Method:                 Least Squares   F-statistic:                     1179.\n",
      "Date:                Fri, 09 Jul 2021   Prob (F-statistic):               0.00\n",
      "Time:                        21:51:21   Log-Likelihood:                -975.63\n",
      "No. Observations:                4206   AIC:                             2021.\n",
      "Df Residuals:                    4171   BIC:                             2243.\n",
      "Df Model:                          34                                         \n",
      "Covariance Type:            nonrobust                                         \n",
      "=============================================================================================\n",
      "                                coef    std err          t      P>|t|      [0.025      0.975]\n",
      "---------------------------------------------------------------------------------------------\n",
      "const                      -270.8130      4.445    -60.921      0.000    -279.528    -262.098\n",
      "Year                          0.1349      0.002     61.404      0.000       0.131       0.139\n",
      "Kilometers_Driven            -0.0491      0.007     -6.863      0.000      -0.063      -0.035\n",
      "Mileage                      -0.0317      0.008     -3.855      0.000      -0.048      -0.016\n",
      "Power                         0.4454      0.009     52.274      0.000       0.429       0.462\n",
      "Location_Bangalore            0.1408      0.030      4.621      0.000       0.081       0.200\n",
      "Location_Chennai             -0.0020      0.028     -0.069      0.945      -0.058       0.054\n",
      "Location_Coimbatore           0.0891      0.028      3.216      0.001       0.035       0.143\n",
      "Location_Delhi               -0.0985      0.028     -3.528      0.000      -0.153      -0.044\n",
      "Location_Hyderabad            0.1310      0.027      4.904      0.000       0.079       0.183\n",
      "Location_Jaipur              -0.0711      0.029     -2.436      0.015      -0.128      -0.014\n",
      "Location_Kochi               -0.0654      0.027     -2.393      0.017      -0.119      -0.012\n",
      "Location_Kolkata             -0.3011      0.028    -10.693      0.000      -0.356      -0.246\n",
      "Location_Mumbai              -0.0784      0.027     -2.936      0.003      -0.131      -0.026\n",
      "Location_Pune                -0.0883      0.027     -3.220      0.001      -0.142      -0.035\n",
      "Fuel_Type_Diesel              0.0732      0.049      1.486      0.137      -0.023       0.170\n",
      "Fuel_Type_Electric            1.5239      0.311      4.900      0.000       0.914       2.134\n",
      "Fuel_Type_LPG                -0.1300      0.135     -0.965      0.335      -0.394       0.134\n",
      "Fuel_Type_Petrol             -0.1638      0.050     -3.296      0.001      -0.261      -0.066\n",
      "Transmission_Manual          -0.1479      0.016     -9.473      0.000      -0.179      -0.117\n",
      "Owner_Type_Fourth & Above    -0.0532      0.126     -0.423      0.673      -0.300       0.193\n",
      "Owner_Type_Second            -0.0980      0.014     -7.026      0.000      -0.125      -0.071\n",
      "Owner_Type_Third             -0.2198      0.036     -6.182      0.000      -0.290      -0.150\n",
      "Brandgroup_Brand2             0.1080      0.015      7.061      0.000       0.078       0.138\n",
      "Brandgroup_Brand3             0.3619      0.064      5.699      0.000       0.237       0.486\n",
      "Brandgroup_Brand4             0.6882      0.022     31.087      0.000       0.645       0.732\n",
      "Brandgroup_Brand5             0.8178      0.040     20.651      0.000       0.740       0.895\n",
      "Seats_2.0                    -0.5350      0.327     -1.638      0.102      -1.175       0.105\n",
      "Seats_4.0                    -0.7246      0.310     -2.339      0.019      -1.332      -0.117\n",
      "Seats_5.0                    -0.8372      0.308     -2.721      0.007      -1.440      -0.234\n",
      "Seats_6.0                    -0.6570      0.314     -2.093      0.036      -1.273      -0.042\n",
      "Seats_7.0                    -0.6505      0.308     -2.110      0.035      -1.255      -0.046\n",
      "Seats_8.0                    -0.5309      0.309     -1.715      0.086      -1.138       0.076\n",
      "Seats_9.0                    -0.2835      0.435     -0.652      0.514      -1.136       0.569\n",
      "Seats_10.0                   -0.3388      0.344     -0.984      0.325      -1.014       0.336\n",
      "==============================================================================\n",
      "Omnibus:                     1123.941   Durbin-Watson:                   2.028\n",
      "Prob(Omnibus):                  0.000   Jarque-Bera (JB):            17145.545\n",
      "Skew:                          -0.855   Prob(JB):                         0.00\n",
      "Kurtosis:                      12.742   Cond. No.                     1.89e+06\n",
      "==============================================================================\n",
      "\n",
      "Notes:\n",
      "[1] Standard Errors assume that the covariance matrix of the errors is correctly specified.\n",
      "[2] The condition number is large, 1.89e+06. This might indicate that there are\n",
      "strong multicollinearity or other numerical problems.\n"
     ]
    },
    {
     "data": {
      "application/javascript": [
       "\n",
       "            setTimeout(function() {\n",
       "                var nbb_cell_id = 71;\n",
       "                var nbb_unformatted_code = \"olsmod2 = sm.OLS(y_train, X_train3)\\nolsres2 = olsmod2.fit()\\nprint(olsres2.summary())\";\n",
       "                var nbb_formatted_code = \"olsmod2 = sm.OLS(y_train, X_train3)\\nolsres2 = olsmod2.fit()\\nprint(olsres2.summary())\";\n",
       "                var nbb_cells = Jupyter.notebook.get_cells();\n",
       "                for (var i = 0; i < nbb_cells.length; ++i) {\n",
       "                    if (nbb_cells[i].input_prompt_number == nbb_cell_id) {\n",
       "                        if (nbb_cells[i].get_text() == nbb_unformatted_code) {\n",
       "                             nbb_cells[i].set_text(nbb_formatted_code);\n",
       "                        }\n",
       "                        break;\n",
       "                    }\n",
       "                }\n",
       "            }, 500);\n",
       "            "
      ],
      "text/plain": [
       "<IPython.core.display.Javascript object>"
      ]
     },
     "metadata": {},
     "output_type": "display_data"
    }
   ],
   "source": [
    "olsmod2 = sm.OLS(y_train, X_train3)\n",
    "olsres2 = olsmod2.fit()\n",
    "print(olsres2.summary())"
   ]
  },
  {
   "cell_type": "markdown",
   "metadata": {
    "id": "bAZRVvxaqH9G"
   },
   "source": [
    "* We can see adj. R-squared for *olsmod2* is 0.905 while for *olsmod1* it is 0.892, i.e., when we drop *Engine* we get better results. So, we will proceed with *olsmod2*.\n",
    "\n",
    "* Now the above model has no multicollinearity, so we can look at p-values of predictor variables to check their significance."
   ]
  },
  {
   "cell_type": "markdown",
   "metadata": {
    "id": "ccsFJFYoqH9J"
   },
   "source": [
    "**Observation**\n",
    "\n",
    "* The p-values of the predictor variables are less than 0.05, which proves their significance to the model.\n",
    "* Now adjusted R-squared is 0.905, i.e., our model is able to explain 90.5% of variance. This shows that the model is good.\n",
    "* The adjusted R-squared in *olsres0* (where we considered all the variables) was 0.907. This shows that the variables we dropped were not affecting the model much."
   ]
  },
  {
   "cell_type": "markdown",
   "metadata": {
    "id": "Ctk29PsRqH90"
   },
   "source": [
    "### Now we'll check the rest of the assumptions on model *olsres2*\n",
    "\n",
    "2. Mean of residuals should be 0 \n",
    "3. Linearity of variables\n",
    "4. Normality of error terms\n",
    "5. No Heteroscedasticity"
   ]
  },
  {
   "cell_type": "markdown",
   "metadata": {
    "id": "A4L_f27_qH91"
   },
   "source": [
    "### MEAN OF RESIDUALS SHOULD BE 0"
   ]
  },
  {
   "cell_type": "code",
   "execution_count": 72,
   "metadata": {
    "id": "GWKm5horqH92",
    "outputId": "874cefa8-bc88-4e8e-d27b-f730eae561db"
   },
   "outputs": [
    {
     "data": {
      "text/plain": [
       "3.2853716577166907e-13"
      ]
     },
     "execution_count": 72,
     "metadata": {},
     "output_type": "execute_result"
    },
    {
     "data": {
      "application/javascript": [
       "\n",
       "            setTimeout(function() {\n",
       "                var nbb_cell_id = 72;\n",
       "                var nbb_unformatted_code = \"residual = olsres2.resid\\nnp.mean(residual)\";\n",
       "                var nbb_formatted_code = \"residual = olsres2.resid\\nnp.mean(residual)\";\n",
       "                var nbb_cells = Jupyter.notebook.get_cells();\n",
       "                for (var i = 0; i < nbb_cells.length; ++i) {\n",
       "                    if (nbb_cells[i].input_prompt_number == nbb_cell_id) {\n",
       "                        if (nbb_cells[i].get_text() == nbb_unformatted_code) {\n",
       "                             nbb_cells[i].set_text(nbb_formatted_code);\n",
       "                        }\n",
       "                        break;\n",
       "                    }\n",
       "                }\n",
       "            }, 500);\n",
       "            "
      ],
      "text/plain": [
       "<IPython.core.display.Javascript object>"
      ]
     },
     "metadata": {},
     "output_type": "display_data"
    }
   ],
   "source": [
    "residual = olsres2.resid\n",
    "np.mean(residual)"
   ]
  },
  {
   "cell_type": "markdown",
   "metadata": {
    "id": "w99uLh5pqH-C"
   },
   "source": [
    "* Mean of redisuals is very close to 0."
   ]
  },
  {
   "cell_type": "markdown",
   "metadata": {
    "id": "MnOY6E5uqH-C"
   },
   "source": [
    "### TEST FOR LINEARITY \n",
    "\n",
    "**Why the test?**\n",
    "* Linearity describes a straight-line relationship between two variables, predictor variables must have a linear relation with the dependent variable.\n",
    "\n",
    "**How to check linearity?**\n",
    "\n",
    "* Make a plot of fitted values vs residuals, if they don't follow any pattern, they we say the model is linear, otherwise model is showing signs of non-linearity.\n",
    "\n",
    "**How to fix if this assumption is not followed?**\n",
    "\n",
    "* We can try to transform the variables and make the relationships linear."
   ]
  },
  {
   "cell_type": "code",
   "execution_count": 73,
   "metadata": {
    "id": "-YE-jb6uqH-D"
   },
   "outputs": [
    {
     "data": {
      "application/javascript": [
       "\n",
       "            setTimeout(function() {\n",
       "                var nbb_cell_id = 73;\n",
       "                var nbb_unformatted_code = \"residual = olsres2.resid\\nfitted = olsres2.fittedvalues  # predicted values\";\n",
       "                var nbb_formatted_code = \"residual = olsres2.resid\\nfitted = olsres2.fittedvalues  # predicted values\";\n",
       "                var nbb_cells = Jupyter.notebook.get_cells();\n",
       "                for (var i = 0; i < nbb_cells.length; ++i) {\n",
       "                    if (nbb_cells[i].input_prompt_number == nbb_cell_id) {\n",
       "                        if (nbb_cells[i].get_text() == nbb_unformatted_code) {\n",
       "                             nbb_cells[i].set_text(nbb_formatted_code);\n",
       "                        }\n",
       "                        break;\n",
       "                    }\n",
       "                }\n",
       "            }, 500);\n",
       "            "
      ],
      "text/plain": [
       "<IPython.core.display.Javascript object>"
      ]
     },
     "metadata": {},
     "output_type": "display_data"
    }
   ],
   "source": [
    "residual = olsres2.resid\n",
    "fitted = olsres2.fittedvalues  # predicted values"
   ]
  },
  {
   "cell_type": "code",
   "execution_count": 74,
   "metadata": {
    "id": "NJ4ivHQiqH-G",
    "outputId": "bd7a8d63-6821-4230-d7ec-fad6c25347b5"
   },
   "outputs": [
    {
     "data": {
      "image/png": "[encoded data removed]",
      "text/plain": [
       "<Figure size 432x288 with 1 Axes>"
      ]
     },
     "metadata": {},
     "output_type": "display_data"
    },
    {
     "data": {
      "application/javascript": [
       "\n",
       "            setTimeout(function() {\n",
       "                var nbb_cell_id = 74;\n",
       "                var nbb_unformatted_code = \"sns.set_style(\\\"whitegrid\\\")\\nsns.residplot(fitted, residual, color=\\\"purple\\\", lowess=True)\\nplt.xlabel(\\\"Fitted Values\\\")\\nplt.ylabel(\\\"Residuals\\\")\\nplt.title(\\\"Residual vs Fitted plot\\\")\\nplt.show()\";\n",
       "                var nbb_formatted_code = \"sns.set_style(\\\"whitegrid\\\")\\nsns.residplot(fitted, residual, color=\\\"purple\\\", lowess=True)\\nplt.xlabel(\\\"Fitted Values\\\")\\nplt.ylabel(\\\"Residuals\\\")\\nplt.title(\\\"Residual vs Fitted plot\\\")\\nplt.show()\";\n",
       "                var nbb_cells = Jupyter.notebook.get_cells();\n",
       "                for (var i = 0; i < nbb_cells.length; ++i) {\n",
       "                    if (nbb_cells[i].input_prompt_number == nbb_cell_id) {\n",
       "                        if (nbb_cells[i].get_text() == nbb_unformatted_code) {\n",
       "                             nbb_cells[i].set_text(nbb_formatted_code);\n",
       "                        }\n",
       "                        break;\n",
       "                    }\n",
       "                }\n",
       "            }, 500);\n",
       "            "
      ],
      "text/plain": [
       "<IPython.core.display.Javascript object>"
      ]
     },
     "metadata": {},
     "output_type": "display_data"
    }
   ],
   "source": [
    "sns.set_style(\"whitegrid\")\n",
    "sns.residplot(fitted, residual, color=\"purple\", lowess=True)\n",
    "plt.xlabel(\"Fitted Values\")\n",
    "plt.ylabel(\"Residuals\")\n",
    "plt.title(\"Residual vs Fitted plot\")\n",
    "plt.show()"
   ]
  },
  {
   "cell_type": "markdown",
   "metadata": {
    "id": "bdVdvRegqH-M"
   },
   "source": [
    "* Scatter plot shows the distribution of residuals (errors) vs fitted values (predicted values).\n",
    "\n",
    "* If there exist any pattern in this plot, we consider it as signs of non-linearity in the data and a pattern means that the model doesn't capture non-linear effects.\n",
    "\n",
    "* **We see no pattern in the plot above. Hence, the assumption is satisfied.**"
   ]
  },
  {
   "cell_type": "markdown",
   "metadata": {
    "id": "VOxf_qsQqH-N"
   },
   "source": [
    "### TEST FOR NORMALITY\n",
    "\n",
    "**What is the test?**\n",
    "\n",
    "* Error terms/Residuals should be normally distributed\n",
    "\n",
    "* If the error terms are non- normally distributed, confidence intervals may become too wide or narrow. Once confidence interval becomes unstable, it leads to difficulty in estimating coefficients based on minimization of least squares.\n",
    "\n",
    "**What do non-normality indicate?**\n",
    "\n",
    "* It suggests that there are a few unusual data points which must be studied closely to make a better model.\n",
    "\n",
    "**How to Check the Normality?**\n",
    "\n",
    "* It can be checked via QQ Plot, Residuals following normal distribution will make a straight line plot otherwise not.\n",
    "\n",
    "* Other test to check for normality : Shapiro-Wilk test.\n",
    "\n",
    "**What is the residuals are not-normal?**\n",
    "\n",
    "* We can apply transformations like log, exponential, arcsinh, etc. as per our data."
   ]
  },
  {
   "cell_type": "code",
   "execution_count": 75,
   "metadata": {
    "id": "MUdQ6XJLqH-N",
    "outputId": "9ba40f22-648a-4cbe-f898-53a580e29dce"
   },
   "outputs": [
    {
     "data": {
      "image/png": "[encoded data removed]",
      "text/plain": [
       "<Figure size 432x288 with 1 Axes>"
      ]
     },
     "metadata": {},
     "output_type": "display_data"
    },
    {
     "data": {
      "application/javascript": [
       "\n",
       "            setTimeout(function() {\n",
       "                var nbb_cell_id = 75;\n",
       "                var nbb_unformatted_code = \"sns.distplot(residual)\\nplt.title(\\\"Normality of residuals\\\")\\nplt.show()\";\n",
       "                var nbb_formatted_code = \"sns.distplot(residual)\\nplt.title(\\\"Normality of residuals\\\")\\nplt.show()\";\n",
       "                var nbb_cells = Jupyter.notebook.get_cells();\n",
       "                for (var i = 0; i < nbb_cells.length; ++i) {\n",
       "                    if (nbb_cells[i].input_prompt_number == nbb_cell_id) {\n",
       "                        if (nbb_cells[i].get_text() == nbb_unformatted_code) {\n",
       "                             nbb_cells[i].set_text(nbb_formatted_code);\n",
       "                        }\n",
       "                        break;\n",
       "                    }\n",
       "                }\n",
       "            }, 500);\n",
       "            "
      ],
      "text/plain": [
       "<IPython.core.display.Javascript object>"
      ]
     },
     "metadata": {},
     "output_type": "display_data"
    }
   ],
   "source": [
    "sns.distplot(residual)\n",
    "plt.title(\"Normality of residuals\")\n",
    "plt.show()"
   ]
  },
  {
   "cell_type": "markdown",
   "metadata": {
    "id": "S9YQpkZ-qH-Q"
   },
   "source": [
    "#### The QQ plot of residuals can be used to visually check the normality assumption. The normal probability plot of residuals should approximately follow a straight line."
   ]
  },
  {
   "cell_type": "code",
   "execution_count": 76,
   "metadata": {
    "id": "Wj8y7-1nqH-Q",
    "outputId": "d262cf84-08cd-402e-a0a5-20e71588d8f7"
   },
   "outputs": [
    {
     "data": {
      "image/png": "[encoded data removed]",
      "text/plain": [
       "<Figure size 432x288 with 1 Axes>"
      ]
     },
     "metadata": {},
     "output_type": "display_data"
    },
    {
     "data": {
      "application/javascript": [
       "\n",
       "            setTimeout(function() {\n",
       "                var nbb_cell_id = 76;\n",
       "                var nbb_unformatted_code = \"import pylab\\nimport scipy.stats as stats\\n\\nstats.probplot(residual, dist=\\\"norm\\\", plot=pylab)\\nplt.show()\";\n",
       "                var nbb_formatted_code = \"import pylab\\nimport scipy.stats as stats\\n\\nstats.probplot(residual, dist=\\\"norm\\\", plot=pylab)\\nplt.show()\";\n",
       "                var nbb_cells = Jupyter.notebook.get_cells();\n",
       "                for (var i = 0; i < nbb_cells.length; ++i) {\n",
       "                    if (nbb_cells[i].input_prompt_number == nbb_cell_id) {\n",
       "                        if (nbb_cells[i].get_text() == nbb_unformatted_code) {\n",
       "                             nbb_cells[i].set_text(nbb_formatted_code);\n",
       "                        }\n",
       "                        break;\n",
       "                    }\n",
       "                }\n",
       "            }, 500);\n",
       "            "
      ],
      "text/plain": [
       "<IPython.core.display.Javascript object>"
      ]
     },
     "metadata": {},
     "output_type": "display_data"
    }
   ],
   "source": [
    "import pylab\n",
    "import scipy.stats as stats\n",
    "\n",
    "stats.probplot(residual, dist=\"norm\", plot=pylab)\n",
    "plt.show()"
   ]
  },
  {
   "cell_type": "code",
   "execution_count": 77,
   "metadata": {
    "id": "b1LIATpBqH-U",
    "outputId": "3a4bc583-d2d0-4bac-ef60-0bc2e2771701"
   },
   "outputs": [
    {
     "data": {
      "text/plain": [
       "ShapiroResult(statistic=0.9478843808174133, pvalue=3.091680003793902e-36)"
      ]
     },
     "execution_count": 77,
     "metadata": {},
     "output_type": "execute_result"
    },
    {
     "data": {
      "application/javascript": [
       "\n",
       "            setTimeout(function() {\n",
       "                var nbb_cell_id = 77;\n",
       "                var nbb_unformatted_code = \"stats.shapiro(residual)\";\n",
       "                var nbb_formatted_code = \"stats.shapiro(residual)\";\n",
       "                var nbb_cells = Jupyter.notebook.get_cells();\n",
       "                for (var i = 0; i < nbb_cells.length; ++i) {\n",
       "                    if (nbb_cells[i].input_prompt_number == nbb_cell_id) {\n",
       "                        if (nbb_cells[i].get_text() == nbb_unformatted_code) {\n",
       "                             nbb_cells[i].set_text(nbb_formatted_code);\n",
       "                        }\n",
       "                        break;\n",
       "                    }\n",
       "                }\n",
       "            }, 500);\n",
       "            "
      ],
      "text/plain": [
       "<IPython.core.display.Javascript object>"
      ]
     },
     "metadata": {},
     "output_type": "display_data"
    }
   ],
   "source": [
    "stats.shapiro(residual)"
   ]
  },
  {
   "cell_type": "markdown",
   "metadata": {
    "id": "TD0BLsvSqH-Z"
   },
   "source": [
    "* The residuals are not normal as per shapiro test, but as per QQ plot they are approximately normal.\n",
    "* The issue with shapiro test is when dataset is big, even for small deviations, it shows data as not normal.\n",
    "* Hence we go with the QQ plot and say that residuals are normal.\n",
    "* We can try to treat data for outliers and see if that helps in further normalizing the residual curve."
   ]
  },
  {
   "cell_type": "markdown",
   "metadata": {
    "id": "6gZ4GKY_qH-Z"
   },
   "source": [
    "### TEST FOR HOMOSCEDASTICITY\n",
    "\n",
    "* Test - goldfeldquandt test\n",
    "\n",
    "* **Homoscedacity**: If the variance of the residuals are symmetrically distributed across the regression line, then the data is said to homoscedastic.\n",
    "\n",
    "* **Heteroscedacity**: If the variance is unequal for the residuals across the regression line, then the data is said to be heteroscedastic. In this case the residuals can form an arrow shape or any other non symmetrical shape."
   ]
  },
  {
   "cell_type": "markdown",
   "metadata": {
    "id": "RSGaoO-dqH-a"
   },
   "source": [
    "For goldfeldquandt test, the null and alternate hypotheses are as follows:\n",
    "\n",
    "- Null hypothesis : Residuals are homoscedastic\n",
    "- Alternate hypothesis : Residuals have heteroscedasticity"
   ]
  },
  {
   "cell_type": "code",
   "execution_count": 78,
   "metadata": {
    "id": "naX-iXItqH-b",
    "outputId": "f14ec806-2d69-4edd-cace-5000b59ff2dc"
   },
   "outputs": [
    {
     "data": {
      "text/plain": [
       "[('F statistic', 0.8981110329801709), ('p-value', 0.992731081286226)]"
      ]
     },
     "execution_count": 78,
     "metadata": {},
     "output_type": "execute_result"
    },
    {
     "data": {
      "application/javascript": [
       "\n",
       "            setTimeout(function() {\n",
       "                var nbb_cell_id = 78;\n",
       "                var nbb_unformatted_code = \"import statsmodels.stats.api as sms\\nfrom statsmodels.compat import lzip\\n\\nname = [\\\"F statistic\\\", \\\"p-value\\\"]\\ntest = sms.het_goldfeldquandt(residual, X_train3)\\nlzip(name, test)\";\n",
       "                var nbb_formatted_code = \"import statsmodels.stats.api as sms\\nfrom statsmodels.compat import lzip\\n\\nname = [\\\"F statistic\\\", \\\"p-value\\\"]\\ntest = sms.het_goldfeldquandt(residual, X_train3)\\nlzip(name, test)\";\n",
       "                var nbb_cells = Jupyter.notebook.get_cells();\n",
       "                for (var i = 0; i < nbb_cells.length; ++i) {\n",
       "                    if (nbb_cells[i].input_prompt_number == nbb_cell_id) {\n",
       "                        if (nbb_cells[i].get_text() == nbb_unformatted_code) {\n",
       "                             nbb_cells[i].set_text(nbb_formatted_code);\n",
       "                        }\n",
       "                        break;\n",
       "                    }\n",
       "                }\n",
       "            }, 500);\n",
       "            "
      ],
      "text/plain": [
       "<IPython.core.display.Javascript object>"
      ]
     },
     "metadata": {},
     "output_type": "display_data"
    }
   ],
   "source": [
    "import statsmodels.stats.api as sms\n",
    "from statsmodels.compat import lzip\n",
    "\n",
    "name = [\"F statistic\", \"p-value\"]\n",
    "test = sms.het_goldfeldquandt(residual, X_train3)\n",
    "lzip(name, test)"
   ]
  },
  {
   "cell_type": "markdown",
   "metadata": {
    "id": "hzmt1AqYqH-d"
   },
   "source": [
    "**Since p-value > 0.05, we can say that the residuals are homoscedastic. This assumption is therefore valid in the data.**"
   ]
  },
  {
   "cell_type": "markdown",
   "metadata": {
    "id": "wbnr4QViqH-e"
   },
   "source": [
    "**Now we have checked all the assumptions and they are satisfied, so we can move towards the prediction part.**"
   ]
  },
  {
   "cell_type": "markdown",
   "metadata": {
    "id": "2EDLuiFcqH-g"
   },
   "source": [
    "### Predicting on the test data"
   ]
  },
  {
   "cell_type": "code",
   "execution_count": 79,
   "metadata": {
    "id": "CkQa-RdLqH-g",
    "outputId": "2f01e921-65c9-41db-e231-2581f3d2077f"
   },
   "outputs": [
    {
     "data": {
      "text/plain": [
       "Index(['const', 'Year', 'Kilometers_Driven', 'Mileage', 'Power',\n",
       "       'Location_Bangalore', 'Location_Chennai', 'Location_Coimbatore',\n",
       "       'Location_Delhi', 'Location_Hyderabad', 'Location_Jaipur',\n",
       "       'Location_Kochi', 'Location_Kolkata', 'Location_Mumbai',\n",
       "       'Location_Pune', 'Fuel_Type_Diesel', 'Fuel_Type_Electric',\n",
       "       'Fuel_Type_LPG', 'Fuel_Type_Petrol', 'Transmission_Manual',\n",
       "       'Owner_Type_Fourth & Above', 'Owner_Type_Second', 'Owner_Type_Third',\n",
       "       'Brandgroup_Brand2', 'Brandgroup_Brand3', 'Brandgroup_Brand4',\n",
       "       'Brandgroup_Brand5', 'Seats_2.0', 'Seats_4.0', 'Seats_5.0', 'Seats_6.0',\n",
       "       'Seats_7.0', 'Seats_8.0', 'Seats_9.0', 'Seats_10.0'],\n",
       "      dtype='object')"
      ]
     },
     "execution_count": 79,
     "metadata": {},
     "output_type": "execute_result"
    },
    {
     "data": {
      "application/javascript": [
       "\n",
       "            setTimeout(function() {\n",
       "                var nbb_cell_id = 79;\n",
       "                var nbb_unformatted_code = \"X_train3.columns\";\n",
       "                var nbb_formatted_code = \"X_train3.columns\";\n",
       "                var nbb_cells = Jupyter.notebook.get_cells();\n",
       "                for (var i = 0; i < nbb_cells.length; ++i) {\n",
       "                    if (nbb_cells[i].input_prompt_number == nbb_cell_id) {\n",
       "                        if (nbb_cells[i].get_text() == nbb_unformatted_code) {\n",
       "                             nbb_cells[i].set_text(nbb_formatted_code);\n",
       "                        }\n",
       "                        break;\n",
       "                    }\n",
       "                }\n",
       "            }, 500);\n",
       "            "
      ],
      "text/plain": [
       "<IPython.core.display.Javascript object>"
      ]
     },
     "metadata": {},
     "output_type": "display_data"
    }
   ],
   "source": [
    "X_train3.columns"
   ]
  },
  {
   "cell_type": "code",
   "execution_count": 80,
   "metadata": {
    "id": "9B7KSevVqH-l"
   },
   "outputs": [
    {
     "data": {
      "application/javascript": [
       "\n",
       "            setTimeout(function() {\n",
       "                var nbb_cell_id = 80;\n",
       "                var nbb_unformatted_code = \"# Selecting columns from test data that we used to create our final model\\nX_test_final = X_test[X_train3.columns]\";\n",
       "                var nbb_formatted_code = \"# Selecting columns from test data that we used to create our final model\\nX_test_final = X_test[X_train3.columns]\";\n",
       "                var nbb_cells = Jupyter.notebook.get_cells();\n",
       "                for (var i = 0; i < nbb_cells.length; ++i) {\n",
       "                    if (nbb_cells[i].input_prompt_number == nbb_cell_id) {\n",
       "                        if (nbb_cells[i].get_text() == nbb_unformatted_code) {\n",
       "                             nbb_cells[i].set_text(nbb_formatted_code);\n",
       "                        }\n",
       "                        break;\n",
       "                    }\n",
       "                }\n",
       "            }, 500);\n",
       "            "
      ],
      "text/plain": [
       "<IPython.core.display.Javascript object>"
      ]
     },
     "metadata": {},
     "output_type": "display_data"
    }
   ],
   "source": [
    "# Selecting columns from test data that we used to create our final model\n",
    "X_test_final = X_test[X_train3.columns]"
   ]
  },
  {
   "cell_type": "code",
   "execution_count": 81,
   "metadata": {
    "id": "Zx2xmArSqH-p",
    "outputId": "519ab406-95c5-4dd6-e125-9f5e5522c362"
   },
   "outputs": [
    {
     "data": {
      "text/html": [
       "<div>\n",
       "<style scoped>\n",
       "    .dataframe tbody tr th:only-of-type {\n",
       "        vertical-align: middle;\n",
       "    }\n",
       "\n",
       "    .dataframe tbody tr th {\n",
       "        vertical-align: top;\n",
       "    }\n",
       "\n",
       "    .dataframe thead th {\n",
       "        text-align: right;\n",
       "    }\n",
       "</style>\n",
       "<table border=\"1\" class=\"dataframe\">\n",
       "  <thead>\n",
       "    <tr style=\"text-align: right;\">\n",
       "      <th></th>\n",
       "      <th>const</th>\n",
       "      <th>Year</th>\n",
       "      <th>Kilometers_Driven</th>\n",
       "      <th>Mileage</th>\n",
       "      <th>Power</th>\n",
       "      <th>Location_Bangalore</th>\n",
       "      <th>Location_Chennai</th>\n",
       "      <th>Location_Coimbatore</th>\n",
       "      <th>Location_Delhi</th>\n",
       "      <th>Location_Hyderabad</th>\n",
       "      <th>Location_Jaipur</th>\n",
       "      <th>Location_Kochi</th>\n",
       "      <th>Location_Kolkata</th>\n",
       "      <th>Location_Mumbai</th>\n",
       "      <th>Location_Pune</th>\n",
       "      <th>Fuel_Type_Diesel</th>\n",
       "      <th>Fuel_Type_Electric</th>\n",
       "      <th>Fuel_Type_LPG</th>\n",
       "      <th>Fuel_Type_Petrol</th>\n",
       "      <th>Transmission_Manual</th>\n",
       "      <th>Owner_Type_Fourth &amp; Above</th>\n",
       "      <th>Owner_Type_Second</th>\n",
       "      <th>Owner_Type_Third</th>\n",
       "      <th>Brandgroup_Brand2</th>\n",
       "      <th>Brandgroup_Brand3</th>\n",
       "      <th>Brandgroup_Brand4</th>\n",
       "      <th>Brandgroup_Brand5</th>\n",
       "      <th>Seats_2.0</th>\n",
       "      <th>Seats_4.0</th>\n",
       "      <th>Seats_5.0</th>\n",
       "      <th>Seats_6.0</th>\n",
       "      <th>Seats_7.0</th>\n",
       "      <th>Seats_8.0</th>\n",
       "      <th>Seats_9.0</th>\n",
       "      <th>Seats_10.0</th>\n",
       "    </tr>\n",
       "  </thead>\n",
       "  <tbody>\n",
       "    <tr>\n",
       "      <th>79</th>\n",
       "      <td>1.0</td>\n",
       "      <td>2005</td>\n",
       "      <td>0.910084</td>\n",
       "      <td>-2.677487</td>\n",
       "      <td>-0.152752</td>\n",
       "      <td>0</td>\n",
       "      <td>0</td>\n",
       "      <td>0</td>\n",
       "      <td>0</td>\n",
       "      <td>1</td>\n",
       "      <td>0</td>\n",
       "      <td>0</td>\n",
       "      <td>0</td>\n",
       "      <td>0</td>\n",
       "      <td>0</td>\n",
       "      <td>0</td>\n",
       "      <td>0</td>\n",
       "      <td>0</td>\n",
       "      <td>1</td>\n",
       "      <td>1</td>\n",
       "      <td>0</td>\n",
       "      <td>0</td>\n",
       "      <td>0</td>\n",
       "      <td>0</td>\n",
       "      <td>0</td>\n",
       "      <td>0</td>\n",
       "      <td>0</td>\n",
       "      <td>0</td>\n",
       "      <td>0</td>\n",
       "      <td>1</td>\n",
       "      <td>0</td>\n",
       "      <td>0</td>\n",
       "      <td>0</td>\n",
       "      <td>0</td>\n",
       "      <td>0</td>\n",
       "    </tr>\n",
       "    <tr>\n",
       "      <th>2752</th>\n",
       "      <td>1.0</td>\n",
       "      <td>2017</td>\n",
       "      <td>0.277304</td>\n",
       "      <td>0.637514</td>\n",
       "      <td>-1.666734</td>\n",
       "      <td>0</td>\n",
       "      <td>0</td>\n",
       "      <td>0</td>\n",
       "      <td>0</td>\n",
       "      <td>0</td>\n",
       "      <td>0</td>\n",
       "      <td>0</td>\n",
       "      <td>1</td>\n",
       "      <td>0</td>\n",
       "      <td>0</td>\n",
       "      <td>0</td>\n",
       "      <td>0</td>\n",
       "      <td>0</td>\n",
       "      <td>1</td>\n",
       "      <td>1</td>\n",
       "      <td>0</td>\n",
       "      <td>0</td>\n",
       "      <td>0</td>\n",
       "      <td>0</td>\n",
       "      <td>0</td>\n",
       "      <td>0</td>\n",
       "      <td>0</td>\n",
       "      <td>0</td>\n",
       "      <td>0</td>\n",
       "      <td>1</td>\n",
       "      <td>0</td>\n",
       "      <td>0</td>\n",
       "      <td>0</td>\n",
       "      <td>0</td>\n",
       "      <td>0</td>\n",
       "    </tr>\n",
       "    <tr>\n",
       "      <th>3299</th>\n",
       "      <td>1.0</td>\n",
       "      <td>2012</td>\n",
       "      <td>0.898186</td>\n",
       "      <td>-1.236667</td>\n",
       "      <td>1.192137</td>\n",
       "      <td>0</td>\n",
       "      <td>0</td>\n",
       "      <td>0</td>\n",
       "      <td>0</td>\n",
       "      <td>0</td>\n",
       "      <td>0</td>\n",
       "      <td>0</td>\n",
       "      <td>0</td>\n",
       "      <td>1</td>\n",
       "      <td>0</td>\n",
       "      <td>1</td>\n",
       "      <td>0</td>\n",
       "      <td>0</td>\n",
       "      <td>0</td>\n",
       "      <td>0</td>\n",
       "      <td>0</td>\n",
       "      <td>0</td>\n",
       "      <td>0</td>\n",
       "      <td>1</td>\n",
       "      <td>0</td>\n",
       "      <td>0</td>\n",
       "      <td>0</td>\n",
       "      <td>0</td>\n",
       "      <td>0</td>\n",
       "      <td>0</td>\n",
       "      <td>0</td>\n",
       "      <td>1</td>\n",
       "      <td>0</td>\n",
       "      <td>0</td>\n",
       "      <td>0</td>\n",
       "    </tr>\n",
       "    <tr>\n",
       "      <th>1169</th>\n",
       "      <td>1.0</td>\n",
       "      <td>2010</td>\n",
       "      <td>-0.368957</td>\n",
       "      <td>-0.764826</td>\n",
       "      <td>1.210333</td>\n",
       "      <td>0</td>\n",
       "      <td>0</td>\n",
       "      <td>0</td>\n",
       "      <td>0</td>\n",
       "      <td>0</td>\n",
       "      <td>0</td>\n",
       "      <td>0</td>\n",
       "      <td>0</td>\n",
       "      <td>1</td>\n",
       "      <td>0</td>\n",
       "      <td>1</td>\n",
       "      <td>0</td>\n",
       "      <td>0</td>\n",
       "      <td>0</td>\n",
       "      <td>0</td>\n",
       "      <td>0</td>\n",
       "      <td>0</td>\n",
       "      <td>0</td>\n",
       "      <td>0</td>\n",
       "      <td>0</td>\n",
       "      <td>1</td>\n",
       "      <td>0</td>\n",
       "      <td>0</td>\n",
       "      <td>0</td>\n",
       "      <td>1</td>\n",
       "      <td>0</td>\n",
       "      <td>0</td>\n",
       "      <td>0</td>\n",
       "      <td>0</td>\n",
       "      <td>0</td>\n",
       "    </tr>\n",
       "    <tr>\n",
       "      <th>3429</th>\n",
       "      <td>1.0</td>\n",
       "      <td>2014</td>\n",
       "      <td>2.099245</td>\n",
       "      <td>0.152453</td>\n",
       "      <td>0.206037</td>\n",
       "      <td>0</td>\n",
       "      <td>0</td>\n",
       "      <td>0</td>\n",
       "      <td>0</td>\n",
       "      <td>0</td>\n",
       "      <td>0</td>\n",
       "      <td>0</td>\n",
       "      <td>0</td>\n",
       "      <td>0</td>\n",
       "      <td>1</td>\n",
       "      <td>1</td>\n",
       "      <td>0</td>\n",
       "      <td>0</td>\n",
       "      <td>0</td>\n",
       "      <td>1</td>\n",
       "      <td>0</td>\n",
       "      <td>0</td>\n",
       "      <td>0</td>\n",
       "      <td>0</td>\n",
       "      <td>0</td>\n",
       "      <td>0</td>\n",
       "      <td>0</td>\n",
       "      <td>0</td>\n",
       "      <td>0</td>\n",
       "      <td>1</td>\n",
       "      <td>0</td>\n",
       "      <td>0</td>\n",
       "      <td>0</td>\n",
       "      <td>0</td>\n",
       "      <td>0</td>\n",
       "    </tr>\n",
       "  </tbody>\n",
       "</table>\n",
       "</div>"
      ],
      "text/plain": [
       "      const  Year  Kilometers_Driven   Mileage     Power  Location_Bangalore  \\\n",
       "79      1.0  2005           0.910084 -2.677487 -0.152752                   0   \n",
       "2752    1.0  2017           0.277304  0.637514 -1.666734                   0   \n",
       "3299    1.0  2012           0.898186 -1.236667  1.192137                   0   \n",
       "1169    1.0  2010          -0.368957 -0.764826  1.210333                   0   \n",
       "3429    1.0  2014           2.099245  0.152453  0.206037                   0   \n",
       "\n",
       "      Location_Chennai  Location_Coimbatore  Location_Delhi  \\\n",
       "79                   0                    0               0   \n",
       "2752                 0                    0               0   \n",
       "3299                 0                    0               0   \n",
       "1169                 0                    0               0   \n",
       "3429                 0                    0               0   \n",
       "\n",
       "      Location_Hyderabad  Location_Jaipur  Location_Kochi  Location_Kolkata  \\\n",
       "79                     1                0               0                 0   \n",
       "2752                   0                0               0                 1   \n",
       "3299                   0                0               0                 0   \n",
       "1169                   0                0               0                 0   \n",
       "3429                   0                0               0                 0   \n",
       "\n",
       "      Location_Mumbai  Location_Pune  Fuel_Type_Diesel  Fuel_Type_Electric  \\\n",
       "79                  0              0                 0                   0   \n",
       "2752                0              0                 0                   0   \n",
       "3299                1              0                 1                   0   \n",
       "1169                1              0                 1                   0   \n",
       "3429                0              1                 1                   0   \n",
       "\n",
       "      Fuel_Type_LPG  Fuel_Type_Petrol  Transmission_Manual  \\\n",
       "79                0                 1                    1   \n",
       "2752              0                 1                    1   \n",
       "3299              0                 0                    0   \n",
       "1169              0                 0                    0   \n",
       "3429              0                 0                    1   \n",
       "\n",
       "      Owner_Type_Fourth & Above  Owner_Type_Second  Owner_Type_Third  \\\n",
       "79                            0                  0                 0   \n",
       "2752                          0                  0                 0   \n",
       "3299                          0                  0                 0   \n",
       "1169                          0                  0                 0   \n",
       "3429                          0                  0                 0   \n",
       "\n",
       "      Brandgroup_Brand2  Brandgroup_Brand3  Brandgroup_Brand4  \\\n",
       "79                    0                  0                  0   \n",
       "2752                  0                  0                  0   \n",
       "3299                  1                  0                  0   \n",
       "1169                  0                  0                  1   \n",
       "3429                  0                  0                  0   \n",
       "\n",
       "      Brandgroup_Brand5  Seats_2.0  Seats_4.0  Seats_5.0  Seats_6.0  \\\n",
       "79                    0          0          0          1          0   \n",
       "2752                  0          0          0          1          0   \n",
       "3299                  0          0          0          0          0   \n",
       "1169                  0          0          0          1          0   \n",
       "3429                  0          0          0          1          0   \n",
       "\n",
       "      Seats_7.0  Seats_8.0  Seats_9.0  Seats_10.0  \n",
       "79            0          0          0           0  \n",
       "2752          0          0          0           0  \n",
       "3299          1          0          0           0  \n",
       "1169          0          0          0           0  \n",
       "3429          0          0          0           0  "
      ]
     },
     "execution_count": 81,
     "metadata": {},
     "output_type": "execute_result"
    },
    {
     "data": {
      "application/javascript": [
       "\n",
       "            setTimeout(function() {\n",
       "                var nbb_cell_id = 81;\n",
       "                var nbb_unformatted_code = \"X_test_final.head()\";\n",
       "                var nbb_formatted_code = \"X_test_final.head()\";\n",
       "                var nbb_cells = Jupyter.notebook.get_cells();\n",
       "                for (var i = 0; i < nbb_cells.length; ++i) {\n",
       "                    if (nbb_cells[i].input_prompt_number == nbb_cell_id) {\n",
       "                        if (nbb_cells[i].get_text() == nbb_unformatted_code) {\n",
       "                             nbb_cells[i].set_text(nbb_formatted_code);\n",
       "                        }\n",
       "                        break;\n",
       "                    }\n",
       "                }\n",
       "            }, 500);\n",
       "            "
      ],
      "text/plain": [
       "<IPython.core.display.Javascript object>"
      ]
     },
     "metadata": {},
     "output_type": "display_data"
    }
   ],
   "source": [
    "X_test_final.head()"
   ]
  },
  {
   "cell_type": "code",
   "execution_count": 82,
   "metadata": {},
   "outputs": [
    {
     "name": "stdout",
     "output_type": "stream",
     "text": [
      "Train Performance\n",
      "\n"
     ]
    },
    {
     "data": {
      "text/html": [
       "<div>\n",
       "<style scoped>\n",
       "    .dataframe tbody tr th:only-of-type {\n",
       "        vertical-align: middle;\n",
       "    }\n",
       "\n",
       "    .dataframe tbody tr th {\n",
       "        vertical-align: top;\n",
       "    }\n",
       "\n",
       "    .dataframe thead th {\n",
       "        text-align: right;\n",
       "    }\n",
       "</style>\n",
       "<table border=\"1\" class=\"dataframe\">\n",
       "  <thead>\n",
       "    <tr style=\"text-align: right;\">\n",
       "      <th></th>\n",
       "      <th>MAE</th>\n",
       "      <th>MAPE</th>\n",
       "      <th>RMSE</th>\n",
       "      <th>R^2</th>\n",
       "    </tr>\n",
       "  </thead>\n",
       "  <tbody>\n",
       "    <tr>\n",
       "      <th>0</th>\n",
       "      <td>0.223891</td>\n",
       "      <td>-7.023621</td>\n",
       "      <td>0.305142</td>\n",
       "      <td>0.905765</td>\n",
       "    </tr>\n",
       "  </tbody>\n",
       "</table>\n",
       "</div>"
      ],
      "text/plain": [
       "        MAE      MAPE      RMSE       R^2\n",
       "0  0.223891 -7.023621  0.305142  0.905765"
      ]
     },
     "execution_count": 82,
     "metadata": {},
     "output_type": "execute_result"
    },
    {
     "data": {
      "application/javascript": [
       "\n",
       "            setTimeout(function() {\n",
       "                var nbb_cell_id = 82;\n",
       "                var nbb_unformatted_code = \"# Checking model performance on train set (seen 70% data)\\nprint(\\\"Train Performance\\\\n\\\")\\nmodel_perf(olsres2, X_train3.values, y_train)\";\n",
       "                var nbb_formatted_code = \"# Checking model performance on train set (seen 70% data)\\nprint(\\\"Train Performance\\\\n\\\")\\nmodel_perf(olsres2, X_train3.values, y_train)\";\n",
       "                var nbb_cells = Jupyter.notebook.get_cells();\n",
       "                for (var i = 0; i < nbb_cells.length; ++i) {\n",
       "                    if (nbb_cells[i].input_prompt_number == nbb_cell_id) {\n",
       "                        if (nbb_cells[i].get_text() == nbb_unformatted_code) {\n",
       "                             nbb_cells[i].set_text(nbb_formatted_code);\n",
       "                        }\n",
       "                        break;\n",
       "                    }\n",
       "                }\n",
       "            }, 500);\n",
       "            "
      ],
      "text/plain": [
       "<IPython.core.display.Javascript object>"
      ]
     },
     "metadata": {},
     "output_type": "display_data"
    }
   ],
   "source": [
    "# Checking model performance on train set (seen 70% data)\n",
    "print(\"Train Performance\\n\")\n",
    "model_perf(olsres2, X_train3.values, y_train)"
   ]
  },
  {
   "cell_type": "code",
   "execution_count": 83,
   "metadata": {},
   "outputs": [
    {
     "name": "stdout",
     "output_type": "stream",
     "text": [
      "Test Performance\n",
      "\n"
     ]
    },
    {
     "data": {
      "text/html": [
       "<div>\n",
       "<style scoped>\n",
       "    .dataframe tbody tr th:only-of-type {\n",
       "        vertical-align: middle;\n",
       "    }\n",
       "\n",
       "    .dataframe tbody tr th {\n",
       "        vertical-align: top;\n",
       "    }\n",
       "\n",
       "    .dataframe thead th {\n",
       "        text-align: right;\n",
       "    }\n",
       "</style>\n",
       "<table border=\"1\" class=\"dataframe\">\n",
       "  <thead>\n",
       "    <tr style=\"text-align: right;\">\n",
       "      <th></th>\n",
       "      <th>MAE</th>\n",
       "      <th>MAPE</th>\n",
       "      <th>RMSE</th>\n",
       "      <th>R^2</th>\n",
       "    </tr>\n",
       "  </thead>\n",
       "  <tbody>\n",
       "    <tr>\n",
       "      <th>0</th>\n",
       "      <td>0.233626</td>\n",
       "      <td>-20.733889</td>\n",
       "      <td>0.303519</td>\n",
       "      <td>0.908575</td>\n",
       "    </tr>\n",
       "  </tbody>\n",
       "</table>\n",
       "</div>"
      ],
      "text/plain": [
       "        MAE       MAPE      RMSE       R^2\n",
       "0  0.233626 -20.733889  0.303519  0.908575"
      ]
     },
     "execution_count": 83,
     "metadata": {},
     "output_type": "execute_result"
    },
    {
     "data": {
      "application/javascript": [
       "\n",
       "            setTimeout(function() {\n",
       "                var nbb_cell_id = 83;\n",
       "                var nbb_unformatted_code = \"# Checking model performance on test set (seen 70% data)\\nprint(\\\"Test Performance\\\\n\\\")\\nmodel_perf(olsres2, X_test_final.values, y_test)\";\n",
       "                var nbb_formatted_code = \"# Checking model performance on test set (seen 70% data)\\nprint(\\\"Test Performance\\\\n\\\")\\nmodel_perf(olsres2, X_test_final.values, y_test)\";\n",
       "                var nbb_cells = Jupyter.notebook.get_cells();\n",
       "                for (var i = 0; i < nbb_cells.length; ++i) {\n",
       "                    if (nbb_cells[i].input_prompt_number == nbb_cell_id) {\n",
       "                        if (nbb_cells[i].get_text() == nbb_unformatted_code) {\n",
       "                             nbb_cells[i].set_text(nbb_formatted_code);\n",
       "                        }\n",
       "                        break;\n",
       "                    }\n",
       "                }\n",
       "            }, 500);\n",
       "            "
      ],
      "text/plain": [
       "<IPython.core.display.Javascript object>"
      ]
     },
     "metadata": {},
     "output_type": "display_data"
    }
   ],
   "source": [
    "# Checking model performance on test set (seen 70% data)\n",
    "print(\"Test Performance\\n\")\n",
    "model_perf(olsres2, X_test_final.values, y_test)"
   ]
  },
  {
   "cell_type": "markdown",
   "metadata": {
    "id": "h8CeR5BuqH-w"
   },
   "source": [
    "* Now we can see that the model has low test and train RMSE and MAE, and both the errors are comparable. So, our model is not suffering from overfitting.\n",
    "\n",
    "* The model is able to explain 90.8% of the variation on the test set, which is very good.\n",
    "\n",
    "\n",
    "**Hence, we can conclude the model *olsres2* is good for prediction as well as inference purposes.**"
   ]
  },
  {
   "cell_type": "code",
   "execution_count": 84,
   "metadata": {
    "id": "XDZD9zkmqH-x",
    "outputId": "35e8c5ae-b9af-4b42-c7bb-c7070b4391e5"
   },
   "outputs": [
    {
     "name": "stdout",
     "output_type": "stream",
     "text": [
      "                            OLS Regression Results                            \n",
      "==============================================================================\n",
      "Dep. Variable:                  Price   R-squared:                       0.906\n",
      "Model:                            OLS   Adj. R-squared:                  0.905\n",
      "Method:                 Least Squares   F-statistic:                     1179.\n",
      "Date:                Fri, 09 Jul 2021   Prob (F-statistic):               0.00\n",
      "Time:                        21:51:45   Log-Likelihood:                -975.63\n",
      "No. Observations:                4206   AIC:                             2021.\n",
      "Df Residuals:                    4171   BIC:                             2243.\n",
      "Df Model:                          34                                         \n",
      "Covariance Type:            nonrobust                                         \n",
      "=============================================================================================\n",
      "                                coef    std err          t      P>|t|      [0.025      0.975]\n",
      "---------------------------------------------------------------------------------------------\n",
      "const                      -270.8130      4.445    -60.921      0.000    -279.528    -262.098\n",
      "Year                          0.1349      0.002     61.404      0.000       0.131       0.139\n",
      "Kilometers_Driven            -0.0491      0.007     -6.863      0.000      -0.063      -0.035\n",
      "Mileage                      -0.0317      0.008     -3.855      0.000      -0.048      -0.016\n",
      "Power                         0.4454      0.009     52.274      0.000       0.429       0.462\n",
      "Location_Bangalore            0.1408      0.030      4.621      0.000       0.081       0.200\n",
      "Location_Chennai             -0.0020      0.028     -0.069      0.945      -0.058       0.054\n",
      "Location_Coimbatore           0.0891      0.028      3.216      0.001       0.035       0.143\n",
      "Location_Delhi               -0.0985      0.028     -3.528      0.000      -0.153      -0.044\n",
      "Location_Hyderabad            0.1310      0.027      4.904      0.000       0.079       0.183\n",
      "Location_Jaipur              -0.0711      0.029     -2.436      0.015      -0.128      -0.014\n",
      "Location_Kochi               -0.0654      0.027     -2.393      0.017      -0.119      -0.012\n",
      "Location_Kolkata             -0.3011      0.028    -10.693      0.000      -0.356      -0.246\n",
      "Location_Mumbai              -0.0784      0.027     -2.936      0.003      -0.131      -0.026\n",
      "Location_Pune                -0.0883      0.027     -3.220      0.001      -0.142      -0.035\n",
      "Fuel_Type_Diesel              0.0732      0.049      1.486      0.137      -0.023       0.170\n",
      "Fuel_Type_Electric            1.5239      0.311      4.900      0.000       0.914       2.134\n",
      "Fuel_Type_LPG                -0.1300      0.135     -0.965      0.335      -0.394       0.134\n",
      "Fuel_Type_Petrol             -0.1638      0.050     -3.296      0.001      -0.261      -0.066\n",
      "Transmission_Manual          -0.1479      0.016     -9.473      0.000      -0.179      -0.117\n",
      "Owner_Type_Fourth & Above    -0.0532      0.126     -0.423      0.673      -0.300       0.193\n",
      "Owner_Type_Second            -0.0980      0.014     -7.026      0.000      -0.125      -0.071\n",
      "Owner_Type_Third             -0.2198      0.036     -6.182      0.000      -0.290      -0.150\n",
      "Brandgroup_Brand2             0.1080      0.015      7.061      0.000       0.078       0.138\n",
      "Brandgroup_Brand3             0.3619      0.064      5.699      0.000       0.237       0.486\n",
      "Brandgroup_Brand4             0.6882      0.022     31.087      0.000       0.645       0.732\n",
      "Brandgroup_Brand5             0.8178      0.040     20.651      0.000       0.740       0.895\n",
      "Seats_2.0                    -0.5350      0.327     -1.638      0.102      -1.175       0.105\n",
      "Seats_4.0                    -0.7246      0.310     -2.339      0.019      -1.332      -0.117\n",
      "Seats_5.0                    -0.8372      0.308     -2.721      0.007      -1.440      -0.234\n",
      "Seats_6.0                    -0.6570      0.314     -2.093      0.036      -1.273      -0.042\n",
      "Seats_7.0                    -0.6505      0.308     -2.110      0.035      -1.255      -0.046\n",
      "Seats_8.0                    -0.5309      0.309     -1.715      0.086      -1.138       0.076\n",
      "Seats_9.0                    -0.2835      0.435     -0.652      0.514      -1.136       0.569\n",
      "Seats_10.0                   -0.3388      0.344     -0.984      0.325      -1.014       0.336\n",
      "==============================================================================\n",
      "Omnibus:                     1123.941   Durbin-Watson:                   2.028\n",
      "Prob(Omnibus):                  0.000   Jarque-Bera (JB):            17145.545\n",
      "Skew:                          -0.855   Prob(JB):                         0.00\n",
      "Kurtosis:                      12.742   Cond. No.                     1.89e+06\n",
      "==============================================================================\n",
      "\n",
      "Notes:\n",
      "[1] Standard Errors assume that the covariance matrix of the errors is correctly specified.\n",
      "[2] The condition number is large, 1.89e+06. This might indicate that there are\n",
      "strong multicollinearity or other numerical problems.\n"
     ]
    },
    {
     "data": {
      "application/javascript": [
       "\n",
       "            setTimeout(function() {\n",
       "                var nbb_cell_id = 84;\n",
       "                var nbb_unformatted_code = \"# let us print the model summary\\n\\nolsmod2 = sm.OLS(y_train, X_train3)\\nolsres2 = olsmod2.fit()\\nprint(olsres2.summary())\";\n",
       "                var nbb_formatted_code = \"# let us print the model summary\\n\\nolsmod2 = sm.OLS(y_train, X_train3)\\nolsres2 = olsmod2.fit()\\nprint(olsres2.summary())\";\n",
       "                var nbb_cells = Jupyter.notebook.get_cells();\n",
       "                for (var i = 0; i < nbb_cells.length; ++i) {\n",
       "                    if (nbb_cells[i].input_prompt_number == nbb_cell_id) {\n",
       "                        if (nbb_cells[i].get_text() == nbb_unformatted_code) {\n",
       "                             nbb_cells[i].set_text(nbb_formatted_code);\n",
       "                        }\n",
       "                        break;\n",
       "                    }\n",
       "                }\n",
       "            }, 500);\n",
       "            "
      ],
      "text/plain": [
       "<IPython.core.display.Javascript object>"
      ]
     },
     "metadata": {},
     "output_type": "display_data"
    }
   ],
   "source": [
    "# let us print the model summary\n",
    "\n",
    "olsmod2 = sm.OLS(y_train, X_train3)\n",
    "olsres2 = olsmod2.fit()\n",
    "print(olsres2.summary())"
   ]
  },
  {
   "cell_type": "markdown",
   "metadata": {},
   "source": [
    "## Conclusions"
   ]
  },
  {
   "cell_type": "markdown",
   "metadata": {
    "id": "gl8R4nWZqH-0"
   },
   "source": [
    "***olsres2* is our final model which follows all the assumptions, and can be used for interpretations.**\n",
    "\n",
    "1. As *Kilometers_Driven* and *Mileage* increase, the prices of used cars decrease, as is visible in the negative coefficient sign.\n",
    "\n",
    "\n",
    "2. *Year* and *Power* have positive coefficients. So as they increase, *Price* will also increase.\n"
   ]
  },
  {
   "cell_type": "markdown",
   "metadata": {},
   "source": [
    "## Business Insights"
   ]
  },
  {
   "cell_type": "markdown",
   "metadata": {},
   "source": [
    "1. Cars driven many kilometers by previous owners with high mileage numbers tend to sell for less.\n",
    "\n",
    "\n",
    "2. Newer model cars, i.e. recently manufactured cars, will fetch a higher price in the market. This is also true for cars with high maximum engine power.\n",
    "\n",
    "\n",
    "3. Diesel and Electric cars are generally more expensive than Petrol, CNG and LPG.\n",
    "\n",
    "\n",
    "4. Automatic cars are priced higher than Manual vehicles.\n",
    "\n",
    "\n",
    "5. The higher the number of previous owners the lower the price and vice-versa.\n",
    "\n",
    "\n",
    "6. Brand names have a significant effect on used car prices.\n"
   ]
  },
  {
   "cell_type": "markdown",
   "metadata": {},
   "source": [
    "## Recommendations"
   ]
  },
  {
   "cell_type": "markdown",
   "metadata": {},
   "source": [
    "1. This model can effectively predict the price of used cars and can help the business in devising profitable strategies using differential pricing.\n",
    "\n",
    "\n",
    "2. More features and observations required for car models and brand analysis, to improve product segmentation, which will have a positive effect on pricing system.\n",
    "\n",
    "\n",
    "3. Customer data analysis for previously sold used cars could aid in decoding customer buying patterns and price preferences.\n",
    "\n"
   ]
  }
 ],
 "metadata": {
  "colab": {
   "collapsed_sections": [
    "nrEXEiJEqH-0",
    "TIIiLvvsqH_L",
    "KpUjOgOSqH_U"
   ],
   "name": "life_expectancy_casestudy.ipynb",
   "provenance": []
  },
  "kernelspec": {
   "display_name": "Python 3",
   "language": "python",
   "name": "python3"
  },
  "language_info": {
   "codemirror_mode": {
    "name": "ipython",
    "version": 3
   },
   "file_extension": ".py",
   "mimetype": "text/x-python",
   "name": "python",
   "nbconvert_exporter": "python",
   "pygments_lexer": "ipython3",
   "version": "3.8.5"
  },
  "toc": {
   "base_numbering": 1,
   "nav_menu": {},
   "number_sections": true,
   "sideBar": true,
   "skip_h1_title": false,
   "title_cell": "Table of Contents",
   "title_sidebar": "Contents",
   "toc_cell": false,
   "toc_position": {},
   "toc_section_display": true,
   "toc_window_display": false
  }
 },
 "nbformat": 4,
 "nbformat_minor": 1
}
